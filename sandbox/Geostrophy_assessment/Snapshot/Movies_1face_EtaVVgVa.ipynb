{
 "cells": [
  {
   "cell_type": "code",
   "execution_count": 1,
   "metadata": {},
   "outputs": [],
   "source": [
    "import os, sys\n",
    "from glob import glob\n",
    "import numpy as np\n",
    "import dask\n",
    "import xarray as xr\n",
    "import xgcm\n",
    "import cartopy.crs as ccrs\n",
    "from cmocean import cm\n",
    "\n",
    "from matplotlib import pyplot as plt\n",
    "%matplotlib inline\n",
    "\n",
    "from mitequinox.utils import *\n",
    "from mitequinox.sigp import *\n",
    "from mitequinox.plot import *\n",
    "from dask import compute, delayed"
   ]
  },
  {
   "cell_type": "code",
   "execution_count": 2,
   "metadata": {},
   "outputs": [],
   "source": [
    "from dask_jobqueue import PBSCluster\n",
    "cluster = PBSCluster(cores=12, walltime='03:00:00')\n",
    "w = cluster.scale(10*10)"
   ]
  },
  {
   "cell_type": "code",
   "execution_count": 3,
   "metadata": {},
   "outputs": [],
   "source": [
    "# get dask handles and check dask server status\n",
    "from dask.distributed import Client\n",
    "client = Client(cluster)"
   ]
  },
  {
   "cell_type": "code",
   "execution_count": 4,
   "metadata": {},
   "outputs": [
    {
     "data": {
      "text/html": [
       "<table style=\"border: 2px solid white;\">\n",
       "<tr>\n",
       "<td style=\"vertical-align: top; border: 0px solid white\">\n",
       "<h3 style=\"text-align: left;\">Client</h3>\n",
       "<ul style=\"text-align: left; list-style: none; margin: 0; padding: 0;\">\n",
       "  <li><b>Scheduler: </b>tcp://10.135.39.22:42088</li>\n",
       "  <li><b>Dashboard: </b><a href='http://10.135.39.22:8787/status' target='_blank'>http://10.135.39.22:8787/status</a>\n",
       "</ul>\n",
       "</td>\n",
       "<td style=\"vertical-align: top; border: 0px solid white\">\n",
       "<h3 style=\"text-align: left;\">Cluster</h3>\n",
       "<ul style=\"text-align: left; list-style:none; margin: 0; padding: 0;\">\n",
       "  <li><b>Workers: </b>36</li>\n",
       "  <li><b>Cores: </b>36</li>\n",
       "  <li><b>Memory: </b>299.88 GB</li>\n",
       "</ul>\n",
       "</td>\n",
       "</tr>\n",
       "</table>"
      ],
      "text/plain": [
       "<Client: 'tcp://10.135.39.22:42088' processes=36 threads=36, memory=299.88 GB>"
      ]
     },
     "execution_count": 4,
     "metadata": {},
     "output_type": "execute_result"
    }
   ],
   "source": [
    "client"
   ]
  },
  {
   "cell_type": "markdown",
   "metadata": {},
   "source": [
    "__________\n",
    "\n",
    "# Combine Eta and V together, and then store"
   ]
  },
  {
   "cell_type": "code",
   "execution_count": 5,
   "metadata": {},
   "outputs": [],
   "source": [
    "time_length = 1440\n",
    "face = 1\n",
    "dij=4"
   ]
  },
  {
   "cell_type": "code",
   "execution_count": 16,
   "metadata": {},
   "outputs": [
    {
     "name": "stderr",
     "output_type": "stream",
     "text": [
      "distributed.utils_perf - WARNING - full garbage collections took 13% CPU time recently (threshold: 10%)\n",
      "distributed.utils_perf - WARNING - full garbage collections took 13% CPU time recently (threshold: 10%)\n"
     ]
    },
    {
     "name": "stdout",
     "output_type": "stream",
     "text": [
      "face\n"
     ]
    },
    {
     "name": "stderr",
     "output_type": "stream",
     "text": [
      "distributed.utils_perf - WARNING - full garbage collections took 13% CPU time recently (threshold: 10%)\n"
     ]
    },
    {
     "name": "stdout",
     "output_type": "stream",
     "text": [
      "<xarray.Dataset>\n",
      "Dimensions:  (i: 1080, j: 1080, time: 1440)\n",
      "Coordinates:\n",
      "    dtime    (time) datetime64[ns] dask.array<chunksize=(1,), meta=np.ndarray>\n",
      "    face     int64 1\n",
      "  * i        (i) int64 0 4 8 12 16 20 24 ... 4292 4296 4300 4304 4308 4312 4316\n",
      "    iters    (time) int64 dask.array<chunksize=(1,), meta=np.ndarray>\n",
      "  * j        (j) int64 0 4 8 12 16 20 24 ... 4292 4296 4300 4304 4308 4312 4316\n",
      "  * time     (time) float64 6.422e+06 6.426e+06 6.43e+06 ... 1.16e+07 1.16e+07\n",
      "    CS       (j, i) float32 dask.array<chunksize=(1080, 1080), meta=np.ndarray>\n",
      "    Depth    (j, i) float32 dask.array<chunksize=(1080, 1080), meta=np.ndarray>\n",
      "    SN       (j, i) float32 dask.array<chunksize=(1080, 1080), meta=np.ndarray>\n",
      "    XC       (j, i) float32 dask.array<chunksize=(1080, 1080), meta=np.ndarray>\n",
      "    YC       (j, i) float32 dask.array<chunksize=(1080, 1080), meta=np.ndarray>\n",
      "    dxC      (j, i) float32 dask.array<chunksize=(1080, 1080), meta=np.ndarray>\n",
      "    dxG      (j, i) float32 dask.array<chunksize=(1080, 1080), meta=np.ndarray>\n",
      "    dyC      (j, i) float32 dask.array<chunksize=(1080, 1080), meta=np.ndarray>\n",
      "    dyG      (j, i) float32 dask.array<chunksize=(1080, 1080), meta=np.ndarray>\n",
      "    f_i      (j, i) float32 dask.array<chunksize=(1080, 1080), meta=np.ndarray>\n",
      "    f_j      (j, i) float32 dask.array<chunksize=(1080, 1080), meta=np.ndarray>\n",
      "    mask     (j, i) bool dask.array<chunksize=(1080, 1080), meta=np.ndarray>\n",
      "Data variables:\n",
      "    Eta      (time, j, i) float32 dask.array<chunksize=(1, 1080, 1080), meta=np.ndarray>\n",
      "    v        (j, i, time) float32 dask.array<chunksize=(1080, 1080, 1), meta=np.ndarray>\n",
      "    v_ageo   (time, j, i) float32 dask.array<chunksize=(1, 1080, 1080), meta=np.ndarray>\n",
      "    v_geo    (time, j, i) float32 dask.array<chunksize=(1, 1080, 1080), meta=np.ndarray>\n"
     ]
    },
    {
     "name": "stderr",
     "output_type": "stream",
     "text": [
      "distributed.utils_perf - WARNING - full garbage collections took 13% CPU time recently (threshold: 10%)\n",
      "distributed.utils_perf - WARNING - full garbage collections took 13% CPU time recently (threshold: 10%)\n",
      "distributed.utils_perf - WARNING - full garbage collections took 13% CPU time recently (threshold: 10%)\n",
      "distributed.utils_perf - WARNING - full garbage collections took 13% CPU time recently (threshold: 10%)\n",
      "distributed.utils_perf - WARNING - full garbage collections took 13% CPU time recently (threshold: 10%)\n",
      "distributed.utils_perf - WARNING - full garbage collections took 13% CPU time recently (threshold: 10%)\n",
      "distributed.utils_perf - WARNING - full garbage collections took 13% CPU time recently (threshold: 10%)\n",
      "distributed.utils_perf - WARNING - full garbage collections took 12% CPU time recently (threshold: 10%)\n",
      "distributed.utils_perf - WARNING - full garbage collections took 12% CPU time recently (threshold: 10%)\n",
      "distributed.utils_perf - WARNING - full garbage collections took 12% CPU time recently (threshold: 10%)\n",
      "distributed.utils_perf - WARNING - full garbage collections took 13% CPU time recently (threshold: 10%)\n",
      "distributed.utils_perf - WARNING - full garbage collections took 12% CPU time recently (threshold: 10%)\n",
      "distributed.utils_perf - WARNING - full garbage collections took 12% CPU time recently (threshold: 10%)\n",
      "distributed.utils_perf - WARNING - full garbage collections took 11% CPU time recently (threshold: 10%)\n",
      "distributed.utils_perf - WARNING - full garbage collections took 11% CPU time recently (threshold: 10%)\n"
     ]
    },
    {
     "name": "stdout",
     "output_type": "stream",
     "text": [
      "CPU times: user 3min 1s, sys: 6.63 s, total: 3min 8s\n",
      "Wall time: 3min 16s\n",
      "--- face 1 done\n"
     ]
    }
   ],
   "source": [
    "# 3.5 mins for 2 months (1440)\n",
    "overwrite=True\n",
    "    \n",
    "#for face in range(13):\n",
    "for face in [1]:\n",
    "\n",
    "    Efile = work_data_dir+'xy/comparison/Movies/Eta_SSV_f%02d.zarr'%(face)\n",
    "\n",
    "    if not os.path.isdir(Efile) or overwrite:\n",
    "\n",
    "        # load data\n",
    "        dsE = xr.open_zarr(root_data_dir+'zarr/%s.zarr'%('Eta')).isel(time=slice(1512+200,1512+200+time_length))\n",
    "        dsE = dsE.isel(face = face, i=slice(0,None,dij), j=slice(0,None,dij))\n",
    "        \n",
    "        ds_v = xr.open_zarr(work_data_dir+'xy/comparison/v_f%02d.zarr'%(face))\n",
    "        dsv = ds_v.isel(time=slice(200,200+time_length))\n",
    "        del dsv['v'].encoding['chunks']\n",
    "        del dsv['v_geo'].encoding['chunks']\n",
    "        del dsv['v_ageo'].encoding['chunks']\n",
    "        dsv = dsv.chunk({'time':1, 'i': 24*8, 'j':47*4})    \n",
    "        \n",
    "        E = xr.merge([dsE,dsv])\n",
    "\n",
    "        # store\n",
    "        for c in E.coords:\n",
    "            try:\n",
    "                del E[c].encoding['chunks']\n",
    "            except:\n",
    "                print(c)\n",
    "\n",
    "        E = E.chunk({'time':1, 'i': 1080, 'j':1080})\n",
    "        print(E)\n",
    "        %time E.to_zarr(Efile, mode='w')\n",
    "        print('--- face %d done'%face)\n",
    "\n",
    "    else:\n",
    "        print('--- face %d allready computed'%face)"
   ]
  },
  {
   "cell_type": "code",
   "execution_count": 6,
   "metadata": {},
   "outputs": [
    {
     "name": "stdout",
     "output_type": "stream",
     "text": [
      "<xarray.Dataset>\n",
      "Dimensions:  (i: 1080, j: 1080, time: 1440)\n",
      "Coordinates:\n",
      "    CS       (j, i) float32 dask.array<chunksize=(1080, 1080), meta=np.ndarray>\n",
      "    Depth    (j, i) float32 dask.array<chunksize=(1080, 1080), meta=np.ndarray>\n",
      "    SN       (j, i) float32 dask.array<chunksize=(1080, 1080), meta=np.ndarray>\n",
      "    XC       (j, i) float32 dask.array<chunksize=(1080, 1080), meta=np.ndarray>\n",
      "    YC       (j, i) float32 dask.array<chunksize=(1080, 1080), meta=np.ndarray>\n",
      "    dtime    (time) datetime64[ns] dask.array<chunksize=(1440,), meta=np.ndarray>\n",
      "    dxC      (j, i) float32 dask.array<chunksize=(1080, 1080), meta=np.ndarray>\n",
      "    dxG      (j, i) float32 dask.array<chunksize=(1080, 1080), meta=np.ndarray>\n",
      "    dyC      (j, i) float32 dask.array<chunksize=(1080, 1080), meta=np.ndarray>\n",
      "    dyG      (j, i) float32 dask.array<chunksize=(1080, 1080), meta=np.ndarray>\n",
      "    f_i      (j, i) float32 dask.array<chunksize=(1080, 1080), meta=np.ndarray>\n",
      "    f_j      (j, i) float32 dask.array<chunksize=(1080, 1080), meta=np.ndarray>\n",
      "    face     int64 ...\n",
      "  * i        (i) int64 0 4 8 12 16 20 24 ... 4292 4296 4300 4304 4308 4312 4316\n",
      "    iters    (time) int64 dask.array<chunksize=(1,), meta=np.ndarray>\n",
      "  * j        (j) int64 0 4 8 12 16 20 24 ... 4292 4296 4300 4304 4308 4312 4316\n",
      "    mask     (j, i) int8 dask.array<chunksize=(1080, 1080), meta=np.ndarray>\n",
      "  * time     (time) datetime64[ns] 2011-11-23T08:00:00 ... 2012-01-22T07:00:00\n",
      "Data variables:\n",
      "    Eta      (time, j, i) float32 dask.array<chunksize=(1, 1080, 1080), meta=np.ndarray>\n",
      "    v        (j, i, time) float32 dask.array<chunksize=(1080, 1080, 1), meta=np.ndarray>\n",
      "    v_ageo   (time, j, i) float32 dask.array<chunksize=(1, 1080, 1080), meta=np.ndarray>\n",
      "    v_geo    (time, j, i) float32 dask.array<chunksize=(1, 1080, 1080), meta=np.ndarray>\n",
      "\n",
      " data size: 26.9 GB\n"
     ]
    }
   ],
   "source": [
    "# read data\n",
    "ds_ice = xr.open_zarr(work_data_dir+'xy/sea_ice_mask.zarr')\n",
    "ice = ds_ice.AREA.isel(i=slice(0,None,dij), j=slice(0,None,dij), face=face)\n",
    "\n",
    "ds = xr.open_zarr(work_data_dir+'xy/comparison/Movies/Eta_SSV_f%02d.zarr'%(face))\n",
    "# define (real) time\n",
    "def iters_to_date(iters, delta_t=3600.):\n",
    "    t0 = datetime.datetime(2011,11,23,8)    \n",
    "    ltime = delta_t * (np.array(iters))\n",
    "    dtime = [t0+dateutil.relativedelta.relativedelta(seconds=t) for t in ltime]    \n",
    "    return dtime\n",
    "\n",
    "time_day = iters_to_date(np.arange(time_length))\n",
    "ds = ds.assign_coords(time=time_day) \n",
    "print(ds)\n",
    "print('\\n data size: %.1f GB' %(ds.nbytes / 1e9))"
   ]
  },
  {
   "cell_type": "markdown",
   "metadata": {},
   "source": [
    "# Movies"
   ]
  },
  {
   "cell_type": "code",
   "execution_count": 7,
   "metadata": {},
   "outputs": [],
   "source": [
    "font_size = 12\n",
    "linewidith = 0.5\n",
    "\n",
    "def plot_scalar(v1, v2, v3, v4, colorbar=False, title=None, label=None, vmin=None, vmax=None, savefig=None, \n",
    "                offline=False, figsize=(10,10), cmap=None):\n",
    "    #\n",
    "    if vmin is None:\n",
    "        vmin = v.min()\n",
    "    if vmax is None:\n",
    "        vmax = v.max()\n",
    "    #\n",
    "    MPL_LOCK = threading.Lock()\n",
    "    with MPL_LOCK:\n",
    "        if offline:\n",
    "            plt.switch_backend('agg')\n",
    "        #\n",
    "        fig = plt.figure(figsize=figsize)\n",
    "        #ax = fig.add_subplot(111, projection=ccrs.PlateCarree())\n",
    "        #colmap = _get_cmap(v1, cmap)\n",
    "        try:\n",
    "            \n",
    "            ## subplot 221\n",
    "            ax = fig.add_subplot(221, projection=ccrs.PlateCarree())\n",
    "            im = v1.plot.pcolormesh(ax=ax, transform=ccrs.PlateCarree(), vmin=-4, vmax=4,\n",
    "                                   x='XC', y='YC', add_colorbar=colorbar, cmap=cmap)\n",
    "            cb=fig.colorbar(im)\n",
    "            #gl=ax.gridlines(crs=ccrs.PlateCarree(), draw_labels=True, linewidth=linewidith , color='k', alpha=0.5, linestyle='--')\n",
    "            #gl.xlabels_top = False\n",
    "            #gl.ylabels_right = False\n",
    "            ax.grid(linewidth=linewidith , color='k', alpha=0.5, linestyle='--')\n",
    "            ax.set_title(title[0],fontsize=font_size) \n",
    "            cb.set_label(label=label[0], fontsize=font_size)\n",
    "            ax.set_xlim(-35., 50.)\n",
    "            ax.set_xticks([-30, -15, 0, 15, 30, 45])\n",
    "            ax.set_xticklabels(['$30\\degree$W','$15\\degree$W','$0\\degree$','$15\\degree$E','$30\\degree$E','$45\\degree$E'])\n",
    "            ax.set_ylim(-55., 15.)\n",
    "            ax.set_yticks([-45, -30, -15, 0, 15])\n",
    "            ax.set_yticklabels(['$45\\degree$S','$30\\degree$S','$15\\degree$S','$0\\degree$','$15\\degree$N'])\n",
    "            ax.tick_params(direction='out', length=4, width=1.5)\n",
    "            ax.set_ylabel('',fontsize=font_size)\n",
    "            ax.set_xlabel('',fontsize=font_size)\n",
    "            ax.tick_params(labelsize=font_size)\n",
    "\n",
    "            ## subplot 222\n",
    "            ax = fig.add_subplot(222, projection=ccrs.PlateCarree())\n",
    "            im = v2.plot.pcolormesh(ax=ax, transform=ccrs.PlateCarree(), vmin=vmin, vmax=vmax,\n",
    "                                   x='XC', y='YC', add_colorbar=colorbar, cmap=cmap)\n",
    "            cb=fig.colorbar(im)\n",
    "            ax.grid(linewidth=linewidith , color='k', alpha=0.5, linestyle='--')\n",
    "            ax.set_title(title[1],fontsize=font_size)                        \n",
    "            cb.set_label(label=label[1], fontsize=font_size)\n",
    "            ax.set_xlim(-35., 50.)\n",
    "            ax.set_xticks([-30, -15, 0, 15, 30, 45])\n",
    "            ax.set_xticklabels(['$30\\degree$W','$15\\degree$W','$0\\degree$','$15\\degree$E','$30\\degree$E','$45\\degree$E'])\n",
    "            ax.set_ylim(-55., 15.)\n",
    "            ax.set_yticks([-45, -30, -15, 0, 15])\n",
    "            ax.set_yticklabels(['$45\\degree$S','$30\\degree$S','$15\\degree$S','$0\\degree$','$15\\degree$N'])\n",
    "            ax.tick_params(direction='out', length=6, width=2)\n",
    "            ax.set_ylabel('',fontsize=font_size)\n",
    "            ax.set_xlabel('',fontsize=font_size)\n",
    "            ax.tick_params(labelsize=font_size)\n",
    "       \n",
    "            ## subplot 223\n",
    "            ax = fig.add_subplot(223, projection=ccrs.PlateCarree())\n",
    "            im = v3.plot.pcolormesh(ax=ax, transform=ccrs.PlateCarree(), vmin=vmin, vmax=vmax,\n",
    "                                   x='XC', y='YC', add_colorbar=colorbar, cmap=cmap)\n",
    "            cb=fig.colorbar(im)\n",
    "            ax.grid(linewidth=linewidith , color='k', alpha=0.5, linestyle='--')\n",
    "            ax.set_title(title[2],fontsize=font_size)                        \n",
    "            cb.set_label(label=label[2], fontsize=font_size)\n",
    "            ax.set_xlim(-35., 50.)\n",
    "            ax.set_xticks([-30, -15, 0, 15, 30, 45])\n",
    "            ax.set_xticklabels(['$30\\degree$W','$15\\degree$W','$0\\degree$','$15\\degree$E','$30\\degree$E','$45\\degree$E'])\n",
    "            ax.set_ylim(-55., 15.)\n",
    "            ax.set_yticks([-45, -30, -15, 0, 15])\n",
    "            ax.set_yticklabels(['$45\\degree$S','$30\\degree$S','$15\\degree$S','$0\\degree$','$15\\degree$N'])\n",
    "            ax.tick_params(direction='out', length=6, width=2)\n",
    "            ax.set_ylabel('',fontsize=font_size)\n",
    "            ax.set_xlabel('',fontsize=font_size)\n",
    "            ax.tick_params(labelsize=font_size)\n",
    "            \n",
    "            ## subplot 224\n",
    "            ax = fig.add_subplot(224, projection=ccrs.PlateCarree())\n",
    "            im = v4.plot.pcolormesh(ax=ax, transform=ccrs.PlateCarree(), vmin=vmin, vmax=vmax,\n",
    "                                   x='XC', y='YC', add_colorbar=colorbar, cmap=cmap)\n",
    "            cb=fig.colorbar(im)\n",
    "            ax.grid(linewidth=linewidith , color='k', alpha=0.5, linestyle='--')\n",
    "            ax.set_title(title[3],fontsize=font_size)    \n",
    "            cb.set_label(label=label[3], fontsize=font_size)\n",
    "            ax.set_xlim(-35., 50.)\n",
    "            ax.set_xticks([-30, -15, 0, 15, 30, 45])\n",
    "            ax.set_xticklabels(['$30\\degree$W','$15\\degree$W','$0\\degree$','$15\\degree$E','$30\\degree$E','$45\\degree$E'])\n",
    "            ax.set_ylim(-55., 15.)\n",
    "            ax.set_yticks([-45, -30, -15, 0, 15])\n",
    "            ax.set_yticklabels(['$45\\degree$S','$30\\degree$S','$15\\degree$S','$0\\degree$','$15\\degree$N'])\n",
    "            ax.tick_params(direction='out', length=6, width=2)\n",
    "            ax.set_ylabel('',fontsize=font_size)\n",
    "            ax.set_xlabel('',fontsize=font_size)\n",
    "            ax.tick_params(labelsize=font_size)\n",
    "                        \n",
    "        except:\n",
    "            pass\n",
    "        #\n",
    "        #if label is not None:\n",
    "        #    ax.set_label(label=label, size=font_size)     #\n",
    "            \n",
    "        if savefig is not None:\n",
    "            fig.savefig(savefig, dpi=150)\n",
    "            plt.close(fig)\n",
    "        #\n",
    "        if not offline:\n",
    "            plt.show()"
   ]
  },
  {
   "cell_type": "code",
   "execution_count": 8,
   "metadata": {},
   "outputs": [
    {
     "name": "stdout",
     "output_type": "stream",
     "text": [
      "range(0, 1440)\n"
     ]
    }
   ],
   "source": [
    "vmin, vmax = -2, 2\n",
    "lds = ds\n",
    "\n",
    "def process(ds, i, overwrite=True):    \n",
    "    \n",
    "    v = ds['v'].where(ice>0)\n",
    "    vg = ds['v_geo'].where(ice>0)\n",
    "    va = ds['v_ageo'].where(ice>0)\n",
    "    eta = ds['Eta'].where(ice>0)\n",
    "    \n",
    "    #mtime = ds['time'].values/86400\n",
    "    mtime = time_day[i]\n",
    "    figname = '/home/uz/yux/mit_equinox/hal/Geostrophy_assessment/Figures/V_Movies/All_V_f%02d_t%05d' %(face, i)+'.png'\n",
    "    #\n",
    "    if not os.path.isfile(figname) or overwrite:\n",
    "        #\n",
    "        #title = ['$\\eta$ (m) %s' %mtime, 'u (m/s) %s' %mtime, '$u_g$ (m/s) %s' %mtime, '$u_a$ (m/s) %s' %mtime]\n",
    "        title = ['%s' %mtime, '%s' %mtime, '%s' %mtime, '%s' %mtime]\n",
    "        label = ['$\\eta$ (m)', 'v (m/s)', '$v_g$ (m/s)', '$v_a$ (m/s)']\n",
    "            \n",
    "        plot_scalar(eta, v, vg, va, colorbar=False, title=title, label=label, savefig=figname, vmin=vmin, vmax=vmax,\n",
    "                    offline=False, figsize=(15,10),cmap=cm.balance)\n",
    "        #\n",
    "        m = float(v.mean().values)\n",
    "    else:\n",
    "        m = -1.\n",
    "    return m\n",
    "\n",
    "I = range(len(ds['time']))\n",
    "#I = range(0,10)\n",
    "print(I)\n",
    "values = [delayed(process)(lds.isel(time=i), i) for i in I]"
   ]
  },
  {
   "cell_type": "code",
   "execution_count": 9,
   "metadata": {},
   "outputs": [
    {
     "name": "stdout",
     "output_type": "stream",
     "text": [
      "CPU times: user 2min 7s, sys: 44.1 s, total: 2min 51s\n",
      "Wall time: 3min 28s\n"
     ]
    }
   ],
   "source": [
    "futures = client.compute(values)\n",
    "%time results = client.gather(futures)"
   ]
  },
  {
   "cell_type": "code",
   "execution_count": null,
   "metadata": {},
   "outputs": [],
   "source": []
  },
  {
   "cell_type": "code",
   "execution_count": null,
   "metadata": {},
   "outputs": [],
   "source": []
  },
  {
   "cell_type": "code",
   "execution_count": null,
   "metadata": {},
   "outputs": [],
   "source": []
  },
  {
   "cell_type": "code",
   "execution_count": null,
   "metadata": {},
   "outputs": [],
   "source": []
  },
  {
   "cell_type": "code",
   "execution_count": null,
   "metadata": {},
   "outputs": [],
   "source": []
  },
  {
   "cell_type": "code",
   "execution_count": null,
   "metadata": {},
   "outputs": [],
   "source": []
  },
  {
   "cell_type": "code",
   "execution_count": 11,
   "metadata": {
    "scrolled": true
   },
   "outputs": [
    {
     "name": "stderr",
     "output_type": "stream",
     "text": [
      "distributed.client - ERROR - Failed to reconnect to scheduler after 10.00 seconds, closing client\n",
      "distributed.utils - ERROR - \n",
      "Traceback (most recent call last):\n",
      "  File \"/home/uz/yux/.conda/envs/equinox/lib/python3.7/site-packages/distributed/utils.py\", line 666, in log_errors\n",
      "    yield\n",
      "  File \"/home/uz/yux/.conda/envs/equinox/lib/python3.7/site-packages/distributed/client.py\", line 1276, in _close\n",
      "    await gen.with_timeout(timedelta(seconds=2), list(coroutines))\n",
      "concurrent.futures._base.CancelledError\n",
      "distributed.utils - ERROR - \n",
      "Traceback (most recent call last):\n",
      "  File \"/home/uz/yux/.conda/envs/equinox/lib/python3.7/site-packages/distributed/utils.py\", line 666, in log_errors\n",
      "    yield\n",
      "  File \"/home/uz/yux/.conda/envs/equinox/lib/python3.7/site-packages/distributed/client.py\", line 1005, in _reconnect\n",
      "    await self._close()\n",
      "  File \"/home/uz/yux/.conda/envs/equinox/lib/python3.7/site-packages/distributed/client.py\", line 1276, in _close\n",
      "    await gen.with_timeout(timedelta(seconds=2), list(coroutines))\n",
      "concurrent.futures._base.CancelledError\n"
     ]
    }
   ],
   "source": [
    "cluster.close()"
   ]
  },
  {
   "cell_type": "code",
   "execution_count": null,
   "metadata": {},
   "outputs": [],
   "source": []
  }
 ],
 "metadata": {
  "kernelspec": {
   "display_name": "equinox",
   "language": "python",
   "name": "equinox"
  },
  "language_info": {
   "codemirror_mode": {
    "name": "ipython",
    "version": 3
   },
   "file_extension": ".py",
   "mimetype": "text/x-python",
   "name": "python",
   "nbconvert_exporter": "python",
   "pygments_lexer": "ipython3",
   "version": "3.8.6"
  }
 },
 "nbformat": 4,
 "nbformat_minor": 4
}
