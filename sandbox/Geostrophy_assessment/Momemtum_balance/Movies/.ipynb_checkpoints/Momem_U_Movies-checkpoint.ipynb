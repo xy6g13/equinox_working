{
 "cells": [
  {
   "cell_type": "code",
   "execution_count": 1,
   "metadata": {},
   "outputs": [],
   "source": [
    "import os, sys\n",
    "from glob import glob\n",
    "import numpy as np\n",
    "import dask\n",
    "import xarray as xr\n",
    "import xgcm\n",
    "import cartopy.crs as ccrs\n",
    "from cmocean import cm\n",
    "\n",
    "from matplotlib import pyplot as plt\n",
    "%matplotlib inline\n",
    "\n",
    "from mitequinox.utils import *\n",
    "from mitequinox.sigp import *\n",
    "from mitequinox.plot import *\n",
    "from dask import compute, delayed"
   ]
  },
  {
   "cell_type": "code",
   "execution_count": 2,
   "metadata": {},
   "outputs": [],
   "source": [
    "from dask_jobqueue import PBSCluster\n",
    "#cluster = PBSCluster(cores=6, walltime='06:00:00')\n",
    "cluster = PBSCluster(cores=6, processes=6,  walltime='04:00:00')\n",
    "\n",
    "w = cluster.scale(6*10)"
   ]
  },
  {
   "cell_type": "code",
   "execution_count": 3,
   "metadata": {},
   "outputs": [],
   "source": [
    "# get dask handles and check dask server status\n",
    "from dask.distributed import Client\n",
    "client = Client(cluster)"
   ]
  },
  {
   "cell_type": "code",
   "execution_count": 4,
   "metadata": {},
   "outputs": [
    {
     "data": {
      "text/html": [
       "<table style=\"border: 2px solid white;\">\n",
       "<tr>\n",
       "<td style=\"vertical-align: top; border: 0px solid white\">\n",
       "<h3 style=\"text-align: left;\">Client</h3>\n",
       "<ul style=\"text-align: left; list-style: none; margin: 0; padding: 0;\">\n",
       "  <li><b>Scheduler: </b>tcp://10.135.39.24:44236</li>\n",
       "  <li><b>Dashboard: </b><a href='http://10.135.39.24:8787/status' target='_blank'>http://10.135.39.24:8787/status</a>\n",
       "</ul>\n",
       "</td>\n",
       "<td style=\"vertical-align: top; border: 0px solid white\">\n",
       "<h3 style=\"text-align: left;\">Cluster</h3>\n",
       "<ul style=\"text-align: left; list-style:none; margin: 0; padding: 0;\">\n",
       "  <li><b>Workers: </b>60</li>\n",
       "  <li><b>Cores: </b>60</li>\n",
       "  <li><b>Memory: </b>1.00 TB</li>\n",
       "</ul>\n",
       "</td>\n",
       "</tr>\n",
       "</table>"
      ],
      "text/plain": [
       "<Client: 'tcp://10.135.39.24:44236' processes=60 threads=60, memory=1.00 TB>"
      ]
     },
     "execution_count": 4,
     "metadata": {},
     "output_type": "execute_result"
    }
   ],
   "source": [
    "client"
   ]
  },
  {
   "cell_type": "markdown",
   "metadata": {},
   "source": [
    "__________\n",
    "\n",
    "# Read one face"
   ]
  },
  {
   "cell_type": "code",
   "execution_count": 77,
   "metadata": {},
   "outputs": [],
   "source": [
    "time_length = 358\n",
    "face = 1\n",
    "dij=4"
   ]
  },
  {
   "cell_type": "code",
   "execution_count": 78,
   "metadata": {},
   "outputs": [],
   "source": [
    "E_dir = '/work/ALT/swot/aval/syn/xy/momentum_balance/daily/'\n",
    "\n",
    "du_dt = xr.open_zarr(E_dir+'du_dt_f%02d.zarr'%(face)).isel(time=slice(0, time_length))\n",
    "dudt = du_dt.du_dt\n",
    "\n",
    "f_v = xr.open_zarr(E_dir+'fv_f%02d.zarr'%(face)).isel(time=slice(0, time_length))\n",
    "fv = f_v.fv\n",
    "\n",
    "zeta_v = xr.open_zarr(E_dir+'zeta_v_f%02d.zarr'%(face)).isel(time=slice(0, time_length))\n",
    "zeta_v = zeta_v.zeta_v\n",
    "\n",
    "dKEdx = xr.open_zarr(E_dir+'dKE_dx_f%02d.zarr'%(face)).isel(time=slice(0, time_length))\n",
    "dKE_dx = dKEdx.dKE_dx\n",
    "\n",
    "detadx = xr.open_zarr(E_dir+'deta_dx_f%02d.zarr'%(face)).isel(time=slice(0, time_length))\n",
    "deta_dx = detadx.deta_dx\n",
    "\n",
    "residuals_u = xr.open_zarr(E_dir+'residuals_u_f%02d.zarr'%(face)).isel(time=slice(0, time_length))\n",
    "residuals_u = residuals_u.residuals_u"
   ]
  },
  {
   "cell_type": "code",
   "execution_count": 79,
   "metadata": {},
   "outputs": [
    {
     "name": "stdout",
     "output_type": "stream",
     "text": [
      "<xarray.Dataset>\n",
      "Dimensions:      (i: 1080, j: 1080, time: 358)\n",
      "Coordinates:\n",
      "    CS           (j, i) float32 dask.array<chunksize=(1080, 1080), meta=np.ndarray>\n",
      "    Depth        (j, i) float32 dask.array<chunksize=(1080, 1080), meta=np.ndarray>\n",
      "    SN           (j, i) float32 dask.array<chunksize=(1080, 1080), meta=np.ndarray>\n",
      "    XC           (j, i) float32 dask.array<chunksize=(1080, 1080), meta=np.ndarray>\n",
      "    YC           (j, i) float32 dask.array<chunksize=(1080, 1080), meta=np.ndarray>\n",
      "    face         int64 1\n",
      "    hFacC        (j, i) float32 dask.array<chunksize=(1080, 1080), meta=np.ndarray>\n",
      "  * i            (i) int64 0 4 8 12 16 20 24 ... 4296 4300 4304 4308 4312 4316\n",
      "  * j            (j) int64 0 4 8 12 16 20 24 ... 4296 4300 4304 4308 4312 4316\n",
      "    rA           (j, i) float32 dask.array<chunksize=(1080, 1080), meta=np.ndarray>\n",
      "  * time         (time) datetime64[ns] 2011-11-23T08:00:00 ... 2012-11-14T08:00:00\n",
      "    dtime        (time) datetime64[ns] dask.array<chunksize=(358,), meta=np.ndarray>\n",
      "    iters        (time) int64 dask.array<chunksize=(1,), meta=np.ndarray>\n",
      "Data variables:\n",
      "    du_dt        (time, j, i) float32 dask.array<chunksize=(1, 1080, 1080), meta=np.ndarray>\n",
      "    fv           (time, j, i) float32 dask.array<chunksize=(1, 1080, 1080), meta=np.ndarray>\n",
      "    zeta_v       (j, i, time) float32 dask.array<chunksize=(1080, 1080, 1), meta=np.ndarray>\n",
      "    dKE_dx       (time, j, i) float32 dask.array<chunksize=(1, 1080, 1080), meta=np.ndarray>\n",
      "    deta_dx      (time, j, i) float32 dask.array<chunksize=(1, 1080, 1080), meta=np.ndarray>\n",
      "    residuals_u  (time, j, i) float32 dask.array<chunksize=(1, 1080, 1080), meta=np.ndarray>\n",
      "\n",
      " data size: 10.1 GB\n"
     ]
    }
   ],
   "source": [
    "# read data\n",
    "ds = xr.merge([dudt,fv, zeta_v,dKE_dx, deta_dx, residuals_u])\n",
    "\n",
    "# define (real) time\n",
    "def iters_to_date(iters, delta_t=24*3600.):\n",
    "    t0 = datetime.datetime(2011,11,23,8)    \n",
    "    ltime = delta_t * (np.array(iters))\n",
    "    dtime = [t0+dateutil.relativedelta.relativedelta(seconds=t) for t in ltime]    \n",
    "    return dtime\n",
    "\n",
    "time_day = iters_to_date(np.arange(time_length))\n",
    "ds = ds.assign_coords(time=time_day) \n",
    "print(ds)\n",
    "print('\\n data size: %.1f GB' %(ds.nbytes / 1e9))"
   ]
  },
  {
   "cell_type": "code",
   "execution_count": 80,
   "metadata": {},
   "outputs": [
    {
     "data": {
      "text/plain": [
       "<xarray.DataArray 'AREA' (j: 1080, i: 1080)>\n",
       "dask.array<getitem, shape=(1080, 1080), dtype=float64, chunksize=(1080, 1080), chunktype=numpy.ndarray>\n",
       "Coordinates:\n",
       "    face     int64 1\n",
       "  * i        (i) int64 0 4 8 12 16 20 24 ... 4292 4296 4300 4304 4308 4312 4316\n",
       "  * j        (j) int64 0 4 8 12 16 20 24 ... 4292 4296 4300 4304 4308 4312 4316"
      ]
     },
     "execution_count": 80,
     "metadata": {},
     "output_type": "execute_result"
    }
   ],
   "source": [
    "ds_ice = xr.open_zarr(work_data_dir+'xy/sea_ice_mask.zarr')\n",
    "dij=4 \n",
    "ice = ds_ice.AREA.isel(i=slice(0,None,dij), j=slice(0,None,dij)) \n",
    "lice = ice.isel(face=1)\n",
    "lice"
   ]
  },
  {
   "cell_type": "code",
   "execution_count": 94,
   "metadata": {},
   "outputs": [
    {
     "data": {
      "image/png": "[encoded data removed]",
      "text/plain": [
       "<Figure size 1080x720 with 2 Axes>"
      ]
     },
     "metadata": {
      "needs_background": "light"
     },
     "output_type": "display_data"
    }
   ],
   "source": [
    "eta = ds['du_dt'].isel(time=1).where(lice>0)\n",
    "\n",
    "fig = plt.figure(figsize=(15,10))\n",
    "ax = fig.add_subplot(111, projection=ccrs.PlateCarree())\n",
    "eta.plot.pcolormesh(ax=ax, x='XC', y='YC', transform=ccrs.PlateCarree(), vmin=-2, vmax=2,cmap=cm.balance)\n",
    "ax.grid(linewidth=1 , color='k', alpha=0.5, linestyle='--')\n",
    "ax.set_xlim(-35., 50.)\n",
    "ax.set_xticks([-30, -15, 0, 15, 30, 45])\n",
    "ax.set_xticklabels(['$30\\degree$W','$15\\degree$W','$0\\degree$','$15\\degree$E','$30\\degree$E','$45\\degree$E'])\n",
    "ax.set_ylim(-60., 15.)\n",
    "ax.set_yticks([-60, -45, -30, -15, 0, 15])\n",
    "ax.set_yticklabels(['$60\\degree$S','$45\\degree$S','$30\\degree$S','$15\\degree$S','$0\\degree$','$15\\degree$N'])\n",
    "ax.tick_params(direction='out', length=4, width=1.5)\n",
    "ax.set_title('$\\dfrac{P(x)}{Q(x)}$ \\n (m s$^{-2}$)')   \n",
    "ax.set_ylabel('',fontsize=font_size)\n",
    "ax.set_xlabel('',fontsize=font_size)\n",
    "ax.tick_params(labelsize=font_size)"
   ]
  },
  {
   "cell_type": "markdown",
   "metadata": {},
   "source": [
    "# Movies"
   ]
  },
  {
   "cell_type": "code",
   "execution_count": 97,
   "metadata": {},
   "outputs": [],
   "source": [
    "font_size = 12\n",
    "linewidith = 0.5\n",
    "\n",
    "def plot_scalar(v1, v2, v3, v4, v5, v6, colorbar=False, title=None, label=None, vmin=None, vmax=None, savefig=None, \n",
    "                offline=False, figsize=(10,10), cmap=None):\n",
    "    #\n",
    "    if vmin is None:\n",
    "        vmin = v.min()\n",
    "    if vmax is None:\n",
    "        vmax = v.max()\n",
    "    #\n",
    "    MPL_LOCK = threading.Lock()\n",
    "    with MPL_LOCK:\n",
    "        if offline:\n",
    "            plt.switch_backend('agg')\n",
    "        #\n",
    "        fig = plt.figure(figsize=figsize)\n",
    "        #ax = fig.add_subplot(111, projection=ccrs.PlateCarree())\n",
    "        #colmap = _get_cmap(v1, cmap)\n",
    "        try:\n",
    "            \n",
    "            ## subplot 231\n",
    "            ax = fig.add_subplot(231, projection=ccrs.PlateCarree())\n",
    "            im = v1.plot.pcolormesh(ax=ax, transform=ccrs.PlateCarree(), vmin=vmin, vmax=vmax,\n",
    "                                   x='XC', y='YC', add_colorbar=colorbar, cmap=cmap)\n",
    "            cb=fig.colorbar(im)\n",
    "            #gl=ax.gridlines(crs=ccrs.PlateCarree(), draw_labels=True, linewidth=linewidith , color='k', alpha=0.5, linestyle='--')\n",
    "            #gl.xlabels_top = False\n",
    "            #gl.ylabels_right = False\n",
    "            ax.grid(linewidth=linewidith , color='k', alpha=0.5, linestyle='--')\n",
    "            ax.set_title(title[0],fontsize=font_size) \n",
    "            #cb.set_label(label=label[0], fontsize=font_size)\n",
    "            ax.set_xlim(-35., 50.)\n",
    "            ax.set_xticks([-30, -15, 0, 15, 30, 45])\n",
    "            ax.set_xticklabels(['$30\\degree$W','$15\\degree$W','$0\\degree$','$15\\degree$E','$30\\degree$E','$45\\degree$E'])\n",
    "            ax.set_ylim(-55., 15.)\n",
    "            ax.set_yticks([-45, -30, -15, 0, 15])\n",
    "            ax.set_yticklabels(['$45\\degree$S','$30\\degree$S','$15\\degree$S','$0\\degree$','$15\\degree$N'])\n",
    "            ax.tick_params(direction='out', length=4, width=1.5)\n",
    "            ax.set_ylabel('',fontsize=font_size)\n",
    "            ax.set_xlabel('',fontsize=font_size)\n",
    "            ax.tick_params(labelsize=font_size)\n",
    "\n",
    "            ## subplot 232\n",
    "            ax = fig.add_subplot(232, projection=ccrs.PlateCarree())\n",
    "            im = v2.plot.pcolormesh(ax=ax, transform=ccrs.PlateCarree(), vmin=vmin, vmax=vmax,\n",
    "                                   x='XC', y='YC', add_colorbar=colorbar, cmap=cmap)\n",
    "            cb=fig.colorbar(im)\n",
    "            ax.grid(linewidth=linewidith , color='k', alpha=0.5, linestyle='--')\n",
    "            ax.set_title(title[1],fontsize=font_size)                        \n",
    "            #cb.set_label(label=label[1], fontsize=font_size)\n",
    "            ax.set_xlim(-35., 50.)\n",
    "            ax.set_xticks([-30, -15, 0, 15, 30, 45])\n",
    "            ax.set_xticklabels(['$30\\degree$W','$15\\degree$W','$0\\degree$','$15\\degree$E','$30\\degree$E','$45\\degree$E'])\n",
    "            ax.set_ylim(-55., 15.)\n",
    "            ax.set_yticks([-45, -30, -15, 0, 15])\n",
    "            ax.set_yticklabels(['$45\\degree$S','$30\\degree$S','$15\\degree$S','$0\\degree$','$15\\degree$N'])\n",
    "            ax.tick_params(direction='out', length=6, width=2)\n",
    "            ax.set_ylabel('',fontsize=font_size)\n",
    "            ax.set_xlabel('',fontsize=font_size)\n",
    "            ax.tick_params(labelsize=font_size)\n",
    "       \n",
    "            ## subplot 233\n",
    "            ax = fig.add_subplot(233, projection=ccrs.PlateCarree())\n",
    "            im = v3.plot.pcolormesh(ax=ax, transform=ccrs.PlateCarree(), vmin=vmin, vmax=vmax,\n",
    "                                   x='XC', y='YC', add_colorbar=colorbar, cmap=cmap)\n",
    "            cb=fig.colorbar(im)\n",
    "            ax.grid(linewidth=linewidith , color='k', alpha=0.5, linestyle='--')\n",
    "            ax.set_title(title[2],fontsize=font_size)                        \n",
    "            #cb.set_label(label=label[2], fontsize=font_size)\n",
    "            ax.set_xlim(-35., 50.)\n",
    "            ax.set_xticks([-30, -15, 0, 15, 30, 45])\n",
    "            ax.set_xticklabels(['$30\\degree$W','$15\\degree$W','$0\\degree$','$15\\degree$E','$30\\degree$E','$45\\degree$E'])\n",
    "            ax.set_ylim(-55., 15.)\n",
    "            ax.set_yticks([-45, -30, -15, 0, 15])\n",
    "            ax.set_yticklabels(['$45\\degree$S','$30\\degree$S','$15\\degree$S','$0\\degree$','$15\\degree$N'])\n",
    "            ax.tick_params(direction='out', length=6, width=2)\n",
    "            ax.set_ylabel('',fontsize=font_size)\n",
    "            ax.set_xlabel('',fontsize=font_size)\n",
    "            ax.tick_params(labelsize=font_size)\n",
    "            \n",
    "            ## subplot 234\n",
    "            ax = fig.add_subplot(234, projection=ccrs.PlateCarree())\n",
    "            im = v4.plot.pcolormesh(ax=ax, transform=ccrs.PlateCarree(), vmin=vmin, vmax=vmax,\n",
    "                                   x='XC', y='YC', add_colorbar=colorbar, cmap=cmap)\n",
    "            cb=fig.colorbar(im)\n",
    "            ax.grid(linewidth=linewidith , color='k', alpha=0.5, linestyle='--')\n",
    "            ax.set_title(title[3],fontsize=font_size)    \n",
    "            #cb.set_label(label=label[3], fontsize=font_size)\n",
    "            ax.set_xlim(-35., 50.)\n",
    "            ax.set_xticks([-30, -15, 0, 15, 30, 45])\n",
    "            ax.set_xticklabels(['$30\\degree$W','$15\\degree$W','$0\\degree$','$15\\degree$E','$30\\degree$E','$45\\degree$E'])\n",
    "            ax.set_ylim(-55., 15.)\n",
    "            ax.set_yticks([-45, -30, -15, 0, 15])\n",
    "            ax.set_yticklabels(['$45\\degree$S','$30\\degree$S','$15\\degree$S','$0\\degree$','$15\\degree$N'])\n",
    "            ax.tick_params(direction='out', length=6, width=2)\n",
    "            ax.set_ylabel('',fontsize=font_size)\n",
    "            ax.set_xlabel('',fontsize=font_size)\n",
    "            ax.tick_params(labelsize=font_size)\n",
    "            \n",
    "            ## subplot 235\n",
    "            ax = fig.add_subplot(235, projection=ccrs.PlateCarree())\n",
    "            im = v5.plot.pcolormesh(ax=ax, transform=ccrs.PlateCarree(), vmin=vmin, vmax=vmax,\n",
    "                                   x='XC', y='YC', add_colorbar=colorbar, cmap=cmap)\n",
    "            cb=fig.colorbar(im)\n",
    "            ax.grid(linewidth=linewidith , color='k', alpha=0.5, linestyle='--')\n",
    "            ax.set_title(title[4],fontsize=font_size)    \n",
    "            #cb.set_label(label=label[4], fontsize=font_size)\n",
    "            ax.set_xlim(-35., 50.)\n",
    "            ax.set_xticks([-30, -15, 0, 15, 30, 45])\n",
    "            ax.set_xticklabels(['$30\\degree$W','$15\\degree$W','$0\\degree$','$15\\degree$E','$30\\degree$E','$45\\degree$E'])\n",
    "            ax.set_ylim(-55., 15.)\n",
    "            ax.set_yticks([-45, -30, -15, 0, 15])\n",
    "            ax.set_yticklabels(['$45\\degree$S','$30\\degree$S','$15\\degree$S','$0\\degree$','$15\\degree$N'])\n",
    "            ax.tick_params(direction='out', length=6, width=2)\n",
    "            ax.set_ylabel('',fontsize=font_size)\n",
    "            ax.set_xlabel('',fontsize=font_size)\n",
    "            ax.tick_params(labelsize=font_size)\n",
    "            \n",
    "            ## subplot 236\n",
    "            ax = fig.add_subplot(236, projection=ccrs.PlateCarree())\n",
    "            im = v6.plot.pcolormesh(ax=ax, transform=ccrs.PlateCarree(), vmin=vmin, vmax=vmax,\n",
    "                                   x='XC', y='YC', add_colorbar=colorbar, cmap=cmap)\n",
    "            cb=fig.colorbar(im)\n",
    "            ax.grid(linewidth=linewidith , color='k', alpha=0.5, linestyle='--')\n",
    "            ax.set_title(title[5],fontsize=font_size)    \n",
    "            #cb.set_label(label=label[5], fontsize=font_size)\n",
    "            ax.set_xlim(-35., 50.)\n",
    "            ax.set_xticks([-30, -15, 0, 15, 30, 45])\n",
    "            ax.set_xticklabels(['$30\\degree$W','$15\\degree$W','$0\\degree$','$15\\degree$E','$30\\degree$E','$45\\degree$E'])\n",
    "            ax.set_ylim(-55., 15.)\n",
    "            ax.set_yticks([-45, -30, -15, 0, 15])\n",
    "            ax.set_yticklabels(['$45\\degree$S','$30\\degree$S','$15\\degree$S','$0\\degree$','$15\\degree$N'])\n",
    "            ax.tick_params(direction='out', length=6, width=2)\n",
    "            ax.set_ylabel('',fontsize=font_size)\n",
    "            ax.set_xlabel('',fontsize=font_size)\n",
    "            ax.tick_params(labelsize=font_size)\n",
    "                           \n",
    "        except:\n",
    "            pass\n",
    "            \n",
    "        if savefig is not None:\n",
    "            fig.savefig(savefig, dpi=150)\n",
    "            plt.close(fig)\n",
    "        #\n",
    "        if not offline:\n",
    "            plt.show()"
   ]
  },
  {
   "cell_type": "code",
   "execution_count": 98,
   "metadata": {},
   "outputs": [
    {
     "name": "stdout",
     "output_type": "stream",
     "text": [
      "range(0, 358)\n"
     ]
    }
   ],
   "source": [
    "vmin, vmax = -4e-5, 4e-5\n",
    "lds = ds\n",
    "\n",
    "def process(ds, i, overwrite=True):    \n",
    "    \n",
    "    du_dt = ds['du_dt'].where(lice>0)\n",
    "    fv = -1*ds['fv'].where(lice>0)\n",
    "    zeta_v = -1*ds['zeta_v'].where(lice>0)\n",
    "    dKE_dx = ds['dKE_dx'].where(lice>0)\n",
    "    deta_dx = ds['deta_dx'].where(lice>0)\n",
    "    residual_u = ds['residuals_u'].where(lice>0)\n",
    "    \n",
    "    #mtime = ds['time'].values/86400\n",
    "    mtime = time_day[i]\n",
    "    figname = '/home/uz/yux/mit_equinox/hal/Geostrophy_assessment/Figures/M_Movies/Mo_f%02d_t%05d' %(face, i)+'.png'\n",
    "    #\n",
    "    if not os.path.isfile(figname) or overwrite:\n",
    "        \n",
    "        #title = ['%s' %mtime, '%s' %mtime, '%s' %mtime, '%s' %mtime, '%s' %mtime, '%s' %mtime]\n",
    "\n",
    "        title = ['$\\partial u/\\partial t$ (m s$^{-2}$)', '%s \\n $-\\zeta v$ (m s$^{-2}$)' %mtime, '$\\partial KE/\\partial x$ (m s$^{-2}$)', \n",
    "                 '$-fv$ (m s$^{-2}$)', '$g\\partial \\eta/\\partial x$ (m s$^{-2}$)', '$R_u$ (m s$^{-2}$)']\n",
    "        \n",
    "        \n",
    "        #label = ['$\\\\frac{\\partial u}{\\partial t}$ (m s$^{-2}$)', '$-\\zeta v$ (m s$^{-2}$)', '$\\\\frac{\\partial KE}{\\partial x}$ (m s$^{-2}$)', \n",
    "        #         '$-fv$ (m s$^{-2}$)', '$g\\\\frac{\\partial \\eta}{\\partial x}$ (m s$^{-2}$)', '$R_u$ (m s$^{-2}$)']\n",
    "            \n",
    "        plot_scalar(du_dt, zeta_v, dKE_dx, fv, deta_dx, residual_u, colorbar=False, title=title, label=None, savefig=figname, vmin=vmin, vmax=vmax, offline=False, figsize=(24,10), cmap=cm.balance)\n",
    "        #\n",
    "        m = float(du_dt.mean().values)\n",
    "    else:\n",
    "        m = -1.\n",
    "    return m\n",
    "\n",
    "I = range(len(ds['time']))\n",
    "#I = range(0,10)\n",
    "print(I)\n",
    "values = [delayed(process)(lds.isel(time=i), i) for i in I]"
   ]
  },
  {
   "cell_type": "code",
   "execution_count": 99,
   "metadata": {},
   "outputs": [
    {
     "name": "stdout",
     "output_type": "stream",
     "text": [
      "CPU times: user 1min, sys: 14.3 s, total: 1min 14s\n",
      "Wall time: 2min 9s\n"
     ]
    }
   ],
   "source": [
    "futures = client.compute(values)\n",
    "%time results = client.gather(futures)"
   ]
  },
  {
   "cell_type": "code",
   "execution_count": null,
   "metadata": {},
   "outputs": [],
   "source": []
  },
  {
   "cell_type": "code",
   "execution_count": null,
   "metadata": {},
   "outputs": [],
   "source": []
  },
  {
   "cell_type": "markdown",
   "metadata": {},
   "source": [
    "# Global"
   ]
  },
  {
   "cell_type": "code",
   "execution_count": 5,
   "metadata": {},
   "outputs": [],
   "source": [
    "E_dir = '/work/ALT/swot/aval/syn/xy/momentum_balance/daily/'\n",
    "\n",
    "F = [0, 1, 2, 3, 4, 5, 6, 7, 8, 9, 10, 11, 12]\n",
    "du_dt = xr.concat([xr.open_zarr(E_dir+'du_dt_f%02d.zarr'%(face)) for face in F], dim='face', compat='identical')\n",
    "f_v = xr.concat([xr.open_zarr(E_dir+'fv_f%02d.zarr'%(face)) for face in F], dim='face', compat='identical')\n",
    "zeta_v = xr.concat([xr.open_zarr(E_dir+'zeta_v_f%02d.zarr'%(face)) for face in F], dim='face', compat='identical')\n",
    "dKEdx = xr.concat([xr.open_zarr(E_dir+'dKE_dx_f%02d.zarr'%(face)) for face in F], dim='face', compat='identical')\n",
    "detadx = xr.concat([xr.open_zarr(E_dir+'deta_dx_f%02d.zarr'%(face)) for face in F], dim='face', compat='identical')\n",
    "residuals_u = xr.concat([xr.open_zarr(E_dir+'residuals_u_f%02d.zarr'%(face)) for face in F], dim='face', compat='identical')\n",
    "\n",
    "dudt = du_dt.du_dt\n",
    "fv = f_v.fv\n",
    "zeta_v = zeta_v.zeta_v\n",
    "dKE_dx = dKEdx.dKE_dx\n",
    "deta_dx = detadx.deta_dx\n",
    "residuals_u = residuals_u.residuals_u"
   ]
  },
  {
   "cell_type": "code",
   "execution_count": 6,
   "metadata": {},
   "outputs": [],
   "source": [
    "time_length = 358\n",
    "dij=4\n",
    "\n",
    "ds_ice = xr.open_zarr(work_data_dir+'xy/sea_ice_mask.zarr')\n",
    "ice = ds_ice.AREA.isel(i=slice(0,None,dij), j=slice(0,None,dij))\n",
    "\n",
    "# define (real) time\n",
    "def iters_to_date(iters, delta_t=24*3600.):\n",
    "    t0 = datetime.datetime(2011,11,23,8)    \n",
    "    ltime = delta_t * (np.array(iters))\n",
    "    dtime = [t0+dateutil.relativedelta.relativedelta(seconds=t) for t in ltime]    \n",
    "    return dtime\n",
    "\n",
    "time_day = iters_to_date(np.arange(time_length))"
   ]
  },
  {
   "cell_type": "code",
   "execution_count": 7,
   "metadata": {},
   "outputs": [
    {
     "name": "stdout",
     "output_type": "stream",
     "text": [
      "<xarray.Dataset>\n",
      "Dimensions:      (face: 13, i: 1080, j: 1080, time: 358)\n",
      "Coordinates:\n",
      "  * i            (i) int64 0 4 8 12 16 20 24 ... 4296 4300 4304 4308 4312 4316\n",
      "  * j            (j) int64 0 4 8 12 16 20 24 ... 4296 4300 4304 4308 4312 4316\n",
      "  * time         (time) datetime64[ns] 2011-11-23T08:00:00 ... 2012-11-14T08:00:00\n",
      "    CS           (face, j, i) float32 dask.array<chunksize=(1, 1080, 1080), meta=np.ndarray>\n",
      "    Depth        (face, j, i) float32 dask.array<chunksize=(1, 1080, 1080), meta=np.ndarray>\n",
      "    SN           (face, j, i) float32 dask.array<chunksize=(1, 1080, 1080), meta=np.ndarray>\n",
      "    XC           (face, j, i) float32 dask.array<chunksize=(1, 1080, 1080), meta=np.ndarray>\n",
      "    YC           (face, j, i) float32 dask.array<chunksize=(1, 1080, 1080), meta=np.ndarray>\n",
      "  * face         (face) int64 0 1 2 3 4 5 6 7 8 9 10 11 12\n",
      "    hFacC        (face, j, i) float32 dask.array<chunksize=(1, 1080, 1080), meta=np.ndarray>\n",
      "    rA           (face, j, i) float32 dask.array<chunksize=(1, 1080, 1080), meta=np.ndarray>\n",
      "    dtime        (time) datetime64[ns] 2011-11-23T08:00:00 ... 2012-11-14T08:00:00\n",
      "    iters        (time) int64 256896 260352 263808 ... 1483776 1487232 1490688\n",
      "Data variables:\n",
      "    du_dt        (face, time, j, i) float32 dask.array<chunksize=(1, 1, 1080, 1080), meta=np.ndarray>\n",
      "    fv           (face, time, j, i) float32 dask.array<chunksize=(1, 1, 1080, 1080), meta=np.ndarray>\n",
      "    zeta_v       (face, j, i, time) float32 dask.array<chunksize=(1, 1080, 1080, 1), meta=np.ndarray>\n",
      "    dKE_dx       (face, time, j, i) float32 dask.array<chunksize=(1, 1, 1080, 1080), meta=np.ndarray>\n",
      "    deta_dx      (face, time, j, i) float32 dask.array<chunksize=(1, 1, 1080, 1080), meta=np.ndarray>\n",
      "    residuals_u  (face, time, j, i) float32 dask.array<chunksize=(1, 1, 1080, 1080), meta=np.ndarray>\n",
      "\n",
      " data size: 130.7 GB\n"
     ]
    }
   ],
   "source": [
    "# read data\n",
    "ds = xr.merge([dudt,fv, zeta_v,dKE_dx, deta_dx, residuals_u])\n",
    "ds = ds.assign_coords(time=time_day) \n",
    "print(ds)\n",
    "print('\\n data size: %.1f GB' %(ds.nbytes / 1e9))"
   ]
  },
  {
   "cell_type": "code",
   "execution_count": 8,
   "metadata": {},
   "outputs": [],
   "source": [
    "font_size = 20\n",
    "\n",
    "def plot_pretty_6(v1, v2, v3, v4, v5, v6, colorbar=False, title=None, label=None, vmin=None, vmax=None, savefig=None, \n",
    "                  offline=False, figsize=(20,12), cmmap='thermal', ignore_face=[]):\n",
    "    \n",
    "    if vmin is None:\n",
    "        vmin = v.min()\n",
    "    if vmax is None:\n",
    "        vmax = v.max()\n",
    "    #\n",
    "    MPL_LOCK = threading.Lock()\n",
    "    with MPL_LOCK:\n",
    "        if offline:\n",
    "            plt.switch_backend('agg')\n",
    "        #\n",
    "        fig = plt.figure(figsize=figsize)\n",
    "        cmap = getattr(cm, cmmap)\n",
    "        \n",
    "        # 1\n",
    "        ax = fig.add_subplot(321, projection=ccrs.PlateCarree(central_longitude=180))\n",
    "        gen = [0,1,2,3,4,5,7,8,9,10,11,12]\n",
    "        for face in gen:\n",
    "            vplt = v1.isel(face=face)\n",
    "            im = vplt.plot.pcolormesh(ax=ax,                   \n",
    "                            transform=ccrs.PlateCarree(), vmin=vmin, vmax=vmax,\n",
    "                            x='XC', y='YC', add_colorbar=colorbar, cmap=cmap)\n",
    "        cb = plt.colorbar(im, ax=ax)\n",
    "        cb.set_label(label=label[0], fontsize=font_size)   \n",
    "        cb.ax.tick_params(labelsize=font_size)\n",
    "        ax.set_title(title[0],fontsize=font_size) \n",
    "        ax.set_xticks([-180, -135, -90, -45, 0, 45,  90, 135, 180])\n",
    "        ax.set_xticklabels(['$180\\degree$W','$135\\degree$W','$90\\degree$W','$45\\degree$W','$0\\degree$','$45\\degree$E','$90\\degree$E','$135\\degree$E','$180\\degree$E'])\n",
    "        ax.set_ylim(-70., 70.)\n",
    "        ax.set_yticks([-60, -50, -40, -30, -20, -10, 0, 10, 20, 30, 40, 50, 60])\n",
    "        ax.set_yticklabels(['$60\\degree$S','','$40\\degree$S','','$20\\degree$S','','$0\\degree$','','$20\\degree$N','','$40\\degree$N','','$60\\degree$N'])\n",
    "        ax.tick_params(direction='out', length=6, width=2)\n",
    "        ax.set_ylabel('',fontsize=font_size)\n",
    "        ax.set_xlabel('',fontsize=font_size)\n",
    "        ax.tick_params(labelsize=font_size)\n",
    "\n",
    "        # 2\n",
    "        ax = fig.add_subplot(322, projection=ccrs.PlateCarree(central_longitude=180))\n",
    "        gen = [0,1,2,3,4,5,7,8,9,10,11,12]\n",
    "        for face in gen:\n",
    "            vplt = v2.isel(face=face)\n",
    "            im = vplt.plot.pcolormesh(ax=ax,                   \n",
    "                            transform=ccrs.PlateCarree(), vmin=vmin, vmax=vmax,\n",
    "                            x='XC', y='YC', add_colorbar=colorbar, cmap=cmap)\n",
    "        cb = plt.colorbar(im, ax=ax)\n",
    "        cb.set_label(label=label[1], fontsize=font_size)            \n",
    "        cb.ax.tick_params(labelsize=font_size)\n",
    "        #ax.set_title('%s \\n $-\\zeta v \\: (m\\, s^{-2})$'%mtime, fontsize=font_size) \n",
    "        ax.set_title(title[1],fontsize=font_size) \n",
    "        ax.set_xticks([-180, -135, -90, -45, 0, 45,  90, 135, 180])\n",
    "        ax.set_xticklabels(['$180\\degree$W','$135\\degree$W','$90\\degree$W','$45\\degree$W','$0\\degree$','$45\\degree$E','$90\\degree$E','$135\\degree$E','$180\\degree$E'])\n",
    "        ax.set_ylim(-70., 70.)\n",
    "        ax.set_yticks([-60, -50, -40, -30, -20, -10, 0, 10, 20, 30, 40, 50, 60])\n",
    "        ax.set_yticklabels(['$60\\degree$S','','$40\\degree$S','','$20\\degree$S','','$0\\degree$','','$20\\degree$N','','$40\\degree$N','','$60\\degree$N'])\n",
    "        ax.tick_params(direction='out', length=6, width=2)\n",
    "        ax.set_ylabel('',fontsize=font_size)\n",
    "        ax.set_xlabel('',fontsize=font_size)\n",
    "        ax.tick_params(labelsize=font_size)        \n",
    "\n",
    "        # 3\n",
    "        ax = fig.add_subplot(323, projection=ccrs.PlateCarree(central_longitude=180))\n",
    "        gen = [0,1,2,3,4,5,7,8,9,10,11,12]\n",
    "        for face in gen:\n",
    "            vplt = v3.isel(face=face)\n",
    "            im = vplt.plot.pcolormesh(ax=ax,                   \n",
    "                            transform=ccrs.PlateCarree(), vmin=vmin, vmax=vmax,\n",
    "                            x='XC', y='YC', add_colorbar=colorbar, cmap=cmap)\n",
    "        cb = plt.colorbar(im, ax=ax)\n",
    "        cb.set_label(label=label[2], fontsize=font_size)            \n",
    "        cb.ax.tick_params(labelsize=font_size)\n",
    "        ax.set_title(title[2],fontsize=font_size) \n",
    "        ax.set_xticks([-180, -135, -90, -45, 0, 45,  90, 135, 180])\n",
    "        ax.set_xticklabels(['$180\\degree$W','$135\\degree$W','$90\\degree$W','$45\\degree$W','$0\\degree$','$45\\degree$E','$90\\degree$E','$135\\degree$E','$180\\degree$E'])\n",
    "        ax.set_ylim(-70., 70.)\n",
    "        ax.set_yticks([-60, -50, -40, -30, -20, -10, 0, 10, 20, 30, 40, 50, 60])\n",
    "        ax.set_yticklabels(['$60\\degree$S','','$40\\degree$S','','$20\\degree$S','','$0\\degree$','','$20\\degree$N','','$40\\degree$N','','$60\\degree$N'])\n",
    "        ax.tick_params(direction='out', length=6, width=2)\n",
    "        ax.set_ylabel('',fontsize=font_size)\n",
    "        ax.set_xlabel('',fontsize=font_size)\n",
    "        ax.tick_params(labelsize=font_size)                \n",
    "\n",
    "        # 4\n",
    "        ax = fig.add_subplot(324, projection=ccrs.PlateCarree(central_longitude=180))\n",
    "        gen = [0,1,2,3,4,5,7,8,9,10,11,12]\n",
    "        for face in gen:\n",
    "            vplt = v4.isel(face=face)\n",
    "            im = vplt.plot.pcolormesh(ax=ax,                   \n",
    "                            transform=ccrs.PlateCarree(), vmin=vmin, vmax=vmax,\n",
    "                            x='XC', y='YC', add_colorbar=colorbar, cmap=cmap)\n",
    "        cb = plt.colorbar(im, ax=ax)\n",
    "        cb.set_label(label=label[3], fontsize=font_size)            \n",
    "        cb.ax.tick_params(labelsize=font_size)\n",
    "        ax.set_title(title[3],fontsize=font_size) \n",
    "        ax.set_xticks([-180, -135, -90, -45, 0, 45,  90, 135, 180])\n",
    "        ax.set_xticklabels(['$180\\degree$W','$135\\degree$W','$90\\degree$W','$45\\degree$W','$0\\degree$','$45\\degree$E','$90\\degree$E','$135\\degree$E','$180\\degree$E'])\n",
    "        ax.set_ylim(-70., 70.)\n",
    "        ax.set_yticks([-60, -50, -40, -30, -20, -10, 0, 10, 20, 30, 40, 50, 60])\n",
    "        ax.set_yticklabels(['$60\\degree$S','','$40\\degree$S','','$20\\degree$S','','$0\\degree$','','$20\\degree$N','','$40\\degree$N','','$60\\degree$N'])\n",
    "        ax.tick_params(direction='out', length=6, width=2)\n",
    "        ax.set_ylabel('',fontsize=font_size)\n",
    "        ax.set_xlabel('',fontsize=font_size)\n",
    "        ax.tick_params(labelsize=font_size)     \n",
    "\n",
    "        # 5\n",
    "        ax = fig.add_subplot(325, projection=ccrs.PlateCarree(central_longitude=180))\n",
    "        gen = [0,1,2,3,4,5,7,8,9,10,11,12]\n",
    "        for face in gen:\n",
    "            vplt = v5.isel(face=face)\n",
    "            im = vplt.plot.pcolormesh(ax=ax,                   \n",
    "                            transform=ccrs.PlateCarree(), vmin=vmin, vmax=vmax,\n",
    "                            x='XC', y='YC', add_colorbar=colorbar, cmap=cmap)\n",
    "        cb = plt.colorbar(im, ax=ax)\n",
    "        cb.set_label(label=label[4], fontsize=font_size)            \n",
    "        cb.ax.tick_params(labelsize=font_size)\n",
    "        ax.set_title(title[4],fontsize=font_size) \n",
    "        ax.set_xticks([-180, -135, -90, -45, 0, 45,  90, 135, 180])\n",
    "        ax.set_xticklabels(['$180\\degree$W','$135\\degree$W','$90\\degree$W','$45\\degree$W','$0\\degree$','$45\\degree$E','$90\\degree$E','$135\\degree$E','$180\\degree$E'])\n",
    "        ax.set_ylim(-70., 70.)\n",
    "        ax.set_yticks([-60, -50, -40, -30, -20, -10, 0, 10, 20, 30, 40, 50, 60])\n",
    "        ax.set_yticklabels(['$60\\degree$S','','$40\\degree$S','','$20\\degree$S','','$0\\degree$','','$20\\degree$N','','$40\\degree$N','','$60\\degree$N'])\n",
    "        ax.tick_params(direction='out', length=6, width=2)\n",
    "        ax.set_ylabel('',fontsize=font_size)\n",
    "        ax.set_xlabel('',fontsize=font_size)\n",
    "        ax.tick_params(labelsize=font_size)     \n",
    "\n",
    "        # 6\n",
    "        ax = fig.add_subplot(326, projection=ccrs.PlateCarree(central_longitude=180))\n",
    "        gen = [0,1,2,3,4,5,7,8,9,10,11,12]\n",
    "        for face in gen:\n",
    "            vplt = v6.isel(face=face)\n",
    "            im = vplt.plot.pcolormesh(ax=ax,                   \n",
    "                            transform=ccrs.PlateCarree(), vmin=vmin, vmax=vmax,\n",
    "                            x='XC', y='YC', add_colorbar=colorbar, cmap=cmap)\n",
    "        cb = plt.colorbar(im, ax=ax)\n",
    "        cb.set_label(label=label[5], fontsize=font_size)            \n",
    "        cb.ax.tick_params(labelsize=font_size) \n",
    "        ax.set_title(title[5],fontsize=font_size) \n",
    "        ax.set_xticks([-180, -135, -90, -45, 0, 45,  90, 135, 180])\n",
    "        ax.set_xticklabels(['$180\\degree$W','$135\\degree$W','$90\\degree$W','$45\\degree$W','$0\\degree$','$45\\degree$E','$90\\degree$E','$135\\degree$E','$180\\degree$E'])\n",
    "        ax.set_ylim(-70., 70.)\n",
    "        ax.set_yticks([-60, -50, -40, -30, -20, -10, 0, 10, 20, 30, 40, 50, 60])\n",
    "        ax.set_yticklabels(['$60\\degree$S','','$40\\degree$S','','$20\\degree$S','','$0\\degree$','','$20\\degree$N','','$40\\degree$N','','$60\\degree$N'])\n",
    "        ax.tick_params(direction='out', length=6, width=2)\n",
    "        ax.set_ylabel('',fontsize=font_size)\n",
    "        ax.set_xlabel('',fontsize=font_size)\n",
    "        ax.tick_params(labelsize=font_size)     \n",
    "        \n",
    "        #if title is not None:\n",
    "        #    ax.set_title(title, size=font_size)\n",
    "        #if label is not None:\n",
    "        #    cb.set_label(label=label, size=font_size)     #\n",
    "            \n",
    "        if savefig is not None:\n",
    "            fig.savefig(savefig, dpi=100)\n",
    "            plt.close(fig)\n",
    "        #\n",
    "        if not offline:\n",
    "            plt.show()\n",
    "            "
   ]
  },
  {
   "cell_type": "code",
   "execution_count": 17,
   "metadata": {},
   "outputs": [
    {
     "name": "stdout",
     "output_type": "stream",
     "text": [
      "range(320, 358)\n"
     ]
    }
   ],
   "source": [
    "vmin, vmax = -4e-5, 4e-5\n",
    "lds = ds\n",
    "\n",
    "def process(ds, i, overwrite=True):    \n",
    "    \n",
    "    du_dt = ds['du_dt'].where(ice>0)\n",
    "    hadv = -1*ds['zeta_v'].isel(i=slice(1,-1),j=slice(1,-1)).where(ice>0) + ds['dKE_dx'].isel(i=slice(1,-1),j=slice(1,-1)).where(ice>0)\n",
    "    fv = -1*ds['fv'].where(ice>0)\n",
    "    #zeta_v = -1*ds['zeta_v'].isel(i=slice(1,-1),j=slice(1,-1)).where(ice>0)\n",
    "    #dKE_dx = ds['dKE_dx'].isel(i=slice(1,-1),j=slice(1,-1)).where(ice>0)\n",
    "    deta_dx = ds['deta_dx'].isel(i=slice(1,-1),j=slice(1,-1)).where(ice>0)\n",
    "    residual_u = ds['residuals_u'].isel(i=slice(1,-1),j=slice(1,-1)).where(ice>0)\n",
    "    fva = -1*ds['fv'].where(ice>0) + ds['deta_dx'].isel(i=slice(1,-1),j=slice(1,-1)).where(ice>0)\n",
    "    \n",
    "    mtime = time_day[i]\n",
    "    figname = '/home/uz/yux/mit_equinox/hal/Geostrophy_assessment/Figures/Global_M_U/M_global_t%05d'%(i)+'.png'\n",
    "    #\n",
    "    if not os.path.isfile(figname) or overwrite:\n",
    "        \n",
    "        title = ['%s \\n $\\partial u/\\partial t \\: (m\\, s^{-2})$'%mtime, r'$-\\zeta v + \\partial KE/\\partial x \\: (m\\, s^{-2})$', r'$-fv \\: (m\\, s^{-2})$',\n",
    "                 r'$g\\partial \\eta/\\partial x \\: (m\\, s^{-2})$', r'$R_u \\: (m\\, s^{-2})$', r'$-fv+g\\partial \\eta/\\partial x \\: (m\\, s^{-2})$']\n",
    "        label = ['', '', '', '', '', '']\n",
    "        \n",
    "        plot_pretty_6(du_dt, hadv, fv, deta_dx, residual_u, fva, colorbar=False, title=title, label=label, savefig=figname, vmin=vmin, vmax=vmax, offline=False, figsize=(40,18), cmmap='balance')\n",
    "        m = 1\n",
    "    else:\n",
    "        m = -1.\n",
    "    return m\n",
    "\n",
    "#I = range(len(ds['time']))\n",
    "#I = range(0,60)\n",
    "#I = range(120,240)\n",
    "I = range(320,358)\n",
    "print(I)\n",
    "values = [delayed(process)(lds.isel(time=i), i) for i in I]"
   ]
  },
  {
   "cell_type": "markdown",
   "metadata": {},
   "source": [
    "Process all times"
   ]
  },
  {
   "cell_type": "code",
   "execution_count": 18,
   "metadata": {},
   "outputs": [
    {
     "name": "stdout",
     "output_type": "stream",
     "text": [
      "CPU times: user 4min 52s, sys: 4min 39s, total: 9min 32s\n",
      "Wall time: 11min 6s\n"
     ]
    }
   ],
   "source": [
    "futures = client.compute(values)\n",
    "%time results = client.gather(futures)"
   ]
  },
  {
   "cell_type": "code",
   "execution_count": null,
   "metadata": {},
   "outputs": [],
   "source": []
  },
  {
   "cell_type": "code",
   "execution_count": null,
   "metadata": {},
   "outputs": [],
   "source": []
  },
  {
   "cell_type": "code",
   "execution_count": null,
   "metadata": {},
   "outputs": [],
   "source": []
  },
  {
   "cell_type": "code",
   "execution_count": null,
   "metadata": {},
   "outputs": [],
   "source": []
  },
  {
   "cell_type": "code",
   "execution_count": null,
   "metadata": {},
   "outputs": [],
   "source": []
  },
  {
   "cell_type": "code",
   "execution_count": null,
   "metadata": {},
   "outputs": [],
   "source": []
  },
  {
   "cell_type": "code",
   "execution_count": 19,
   "metadata": {
    "scrolled": true
   },
   "outputs": [
    {
     "name": "stderr",
     "output_type": "stream",
     "text": [
      "distributed.client - ERROR - Failed to reconnect to scheduler after 10.00 seconds, closing client\n",
      "distributed.utils - ERROR - \n",
      "Traceback (most recent call last):\n",
      "  File \"/home/uz/yux/.conda/envs/equinox/lib/python3.7/site-packages/distributed/utils.py\", line 666, in log_errors\n",
      "    yield\n",
      "  File \"/home/uz/yux/.conda/envs/equinox/lib/python3.7/site-packages/distributed/client.py\", line 1276, in _close\n",
      "    await gen.with_timeout(timedelta(seconds=2), list(coroutines))\n",
      "concurrent.futures._base.CancelledError\n",
      "distributed.utils - ERROR - \n",
      "Traceback (most recent call last):\n",
      "  File \"/home/uz/yux/.conda/envs/equinox/lib/python3.7/site-packages/distributed/utils.py\", line 666, in log_errors\n",
      "    yield\n",
      "  File \"/home/uz/yux/.conda/envs/equinox/lib/python3.7/site-packages/distributed/client.py\", line 1005, in _reconnect\n",
      "    await self._close()\n",
      "  File \"/home/uz/yux/.conda/envs/equinox/lib/python3.7/site-packages/distributed/client.py\", line 1276, in _close\n",
      "    await gen.with_timeout(timedelta(seconds=2), list(coroutines))\n",
      "concurrent.futures._base.CancelledError\n"
     ]
    }
   ],
   "source": [
    "cluster.close()"
   ]
  },
  {
   "cell_type": "code",
   "execution_count": null,
   "metadata": {},
   "outputs": [],
   "source": []
  },
  {
   "cell_type": "code",
   "execution_count": null,
   "metadata": {},
   "outputs": [],
   "source": []
  },
  {
   "cell_type": "code",
   "execution_count": null,
   "metadata": {},
   "outputs": [],
   "source": []
  }
 ],
 "metadata": {
  "kernelspec": {
   "display_name": "equinox",
   "language": "python",
   "name": "equinox"
  },
  "language_info": {
   "codemirror_mode": {
    "name": "ipython",
    "version": 3
   },
   "file_extension": ".py",
   "mimetype": "text/x-python",
   "name": "python",
   "nbconvert_exporter": "python",
   "pygments_lexer": "ipython3",
   "version": "3.7.3"
  }
 },
 "nbformat": 4,
 "nbformat_minor": 4
}
