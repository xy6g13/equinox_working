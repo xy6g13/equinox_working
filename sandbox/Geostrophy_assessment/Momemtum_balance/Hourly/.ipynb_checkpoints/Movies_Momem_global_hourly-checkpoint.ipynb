{
 "cells": [
  {
   "cell_type": "code",
   "execution_count": 1,
   "metadata": {},
   "outputs": [],
   "source": [
    "import os, sys\n",
    "from glob import glob\n",
    "import numpy as np\n",
    "import dask\n",
    "import xarray as xr\n",
    "import xgcm\n",
    "import cartopy.crs as ccrs\n",
    "from cmocean import cm\n",
    "\n",
    "from matplotlib import pyplot as plt\n",
    "%matplotlib inline\n",
    "\n",
    "from mitequinox.utils import *\n",
    "from mitequinox.sigp import *\n",
    "from mitequinox.plot import *\n",
    "from dask import compute, delayed"
   ]
  },
  {
   "cell_type": "code",
   "execution_count": 2,
   "metadata": {},
   "outputs": [],
   "source": [
    "from dask_jobqueue import PBSCluster\n",
    "#cluster = PBSCluster(cores=6, walltime='06:00:00')\n",
    "cluster = PBSCluster(cores=6, processes=6,  walltime='04:00:00')\n",
    "w = cluster.scale(6*10)"
   ]
  },
  {
   "cell_type": "code",
   "execution_count": 3,
   "metadata": {},
   "outputs": [],
   "source": [
    "# get dask handles and check dask server status\n",
    "from dask.distributed import Client\n",
    "client = Client(cluster)"
   ]
  },
  {
   "cell_type": "code",
   "execution_count": 4,
   "metadata": {},
   "outputs": [
    {
     "data": {
      "text/html": [
       "<table style=\"border: 2px solid white;\">\n",
       "<tr>\n",
       "<td style=\"vertical-align: top; border: 0px solid white\">\n",
       "<h3 style=\"text-align: left;\">Client</h3>\n",
       "<ul style=\"text-align: left; list-style: none; margin: 0; padding: 0;\">\n",
       "  <li><b>Scheduler: </b>tcp://10.135.39.35:40321</li>\n",
       "  <li><b>Dashboard: </b><a href='http://10.135.39.35:8787/status' target='_blank'>http://10.135.39.35:8787/status</a>\n",
       "</ul>\n",
       "</td>\n",
       "<td style=\"vertical-align: top; border: 0px solid white\">\n",
       "<h3 style=\"text-align: left;\">Cluster</h3>\n",
       "<ul style=\"text-align: left; list-style:none; margin: 0; padding: 0;\">\n",
       "  <li><b>Workers: </b>60</li>\n",
       "  <li><b>Cores: </b>60</li>\n",
       "  <li><b>Memory: </b>1.00 TB</li>\n",
       "</ul>\n",
       "</td>\n",
       "</tr>\n",
       "</table>"
      ],
      "text/plain": [
       "<Client: 'tcp://10.135.39.35:40321' processes=60 threads=60, memory=1.00 TB>"
      ]
     },
     "execution_count": 4,
     "metadata": {},
     "output_type": "execute_result"
    }
   ],
   "source": [
    "client"
   ]
  },
  {
   "cell_type": "markdown",
   "metadata": {},
   "source": [
    "__________\n",
    "\n",
    "# Global"
   ]
  },
  {
   "cell_type": "code",
   "execution_count": 5,
   "metadata": {},
   "outputs": [],
   "source": [
    "E_dir = '/work/ALT/swot/aval/syn/xy/momentum_balance/hourly/'\n",
    "\n",
    "time_length = 240\n",
    "dij=4\n",
    "\n",
    "ds_ice = xr.open_zarr(work_data_dir+'xy/sea_ice_mask.zarr')\n",
    "ice = ds_ice.AREA.isel(i=slice(0,None,dij), j=slice(0,None,dij))\n",
    "\n",
    "# define (real) time\n",
    "def iters_to_date(iters, delta_t=3600.):\n",
    "    t0 = datetime.datetime(2011,11,23,8)    \n",
    "    ltime = delta_t * (np.array(iters))\n",
    "    dtime = [t0+dateutil.relativedelta.relativedelta(seconds=t) for t in ltime]    \n",
    "    return dtime\n",
    "\n",
    "time_day = iters_to_date(np.arange(time_length))"
   ]
  },
  {
   "cell_type": "code",
   "execution_count": 6,
   "metadata": {},
   "outputs": [],
   "source": [
    "font_size = 20\n",
    "\n",
    "def plot_pretty_6(v1, v2, v3, v4, v5, v6, colorbar=False, title=None, label=None, vmin=None, vmax=None, savefig=None, \n",
    "                  offline=False, figsize=(20,12), cmmap='thermal', ignore_face=[]):\n",
    "    \n",
    "    if vmin is None:\n",
    "        vmin = v.min()\n",
    "    if vmax is None:\n",
    "        vmax = v.max()\n",
    "    #\n",
    "    MPL_LOCK = threading.Lock()\n",
    "    with MPL_LOCK:\n",
    "        if offline:\n",
    "            plt.switch_backend('agg')\n",
    "        #\n",
    "        fig = plt.figure(figsize=figsize)\n",
    "        cmap = getattr(cm, cmmap)\n",
    "        \n",
    "        # 1\n",
    "        ax = fig.add_subplot(321, projection=ccrs.PlateCarree(central_longitude=180))\n",
    "        gen = [0,1,2,3,4,5,7,8,9,10,11,12]\n",
    "        for face in gen:\n",
    "            vplt = v1.isel(face=face)\n",
    "            im = vplt.plot.pcolormesh(ax=ax,                   \n",
    "                            transform=ccrs.PlateCarree(), vmin=vmin, vmax=vmax,\n",
    "                            x='XC', y='YC', add_colorbar=colorbar, cmap=cmap)\n",
    "        cb = plt.colorbar(im, ax=ax)\n",
    "        cb.set_label(label=label[0], fontsize=font_size)   \n",
    "        cb.ax.tick_params(labelsize=font_size)\n",
    "        ax.set_title(title[0],fontsize=font_size) \n",
    "        ax.set_xticks([-180, -135, -90, -45, 0, 45,  90, 135, 180])\n",
    "        ax.set_xticklabels(['$180\\degree$W','$135\\degree$W','$90\\degree$W','$45\\degree$W','$0\\degree$','$45\\degree$E','$90\\degree$E','$135\\degree$E','$180\\degree$E'])\n",
    "        ax.set_ylim(-70., 70.)\n",
    "        ax.set_yticks([-60, -50, -40, -30, -20, -10, 0, 10, 20, 30, 40, 50, 60])\n",
    "        ax.set_yticklabels(['$60\\degree$S','','$40\\degree$S','','$20\\degree$S','','$0\\degree$','','$20\\degree$N','','$40\\degree$N','','$60\\degree$N'])\n",
    "        ax.tick_params(direction='out', length=6, width=2)\n",
    "        ax.set_ylabel('',fontsize=font_size)\n",
    "        ax.set_xlabel('',fontsize=font_size)\n",
    "        ax.tick_params(labelsize=font_size)\n",
    "\n",
    "        # 2\n",
    "        ax = fig.add_subplot(322, projection=ccrs.PlateCarree(central_longitude=180))\n",
    "        gen = [0,1,2,3,4,5,7,8,9,10,11,12]\n",
    "        for face in gen:\n",
    "            vplt = v2.isel(face=face)\n",
    "            im = vplt.plot.pcolormesh(ax=ax,                   \n",
    "                            transform=ccrs.PlateCarree(), vmin=vmin, vmax=vmax,\n",
    "                            x='XC', y='YC', add_colorbar=colorbar, cmap=cmap)\n",
    "        cb = plt.colorbar(im, ax=ax)\n",
    "        cb.set_label(label=label[1], fontsize=font_size)            \n",
    "        cb.ax.tick_params(labelsize=font_size)\n",
    "        #ax.set_title('%s \\n $-\\zeta v \\: (m\\, s^{-2})$'%mtime, fontsize=font_size) \n",
    "        ax.set_title(title[1],fontsize=font_size) \n",
    "        ax.set_xticks([-180, -135, -90, -45, 0, 45,  90, 135, 180])\n",
    "        ax.set_xticklabels(['$180\\degree$W','$135\\degree$W','$90\\degree$W','$45\\degree$W','$0\\degree$','$45\\degree$E','$90\\degree$E','$135\\degree$E','$180\\degree$E'])\n",
    "        ax.set_ylim(-70., 70.)\n",
    "        ax.set_yticks([-60, -50, -40, -30, -20, -10, 0, 10, 20, 30, 40, 50, 60])\n",
    "        ax.set_yticklabels(['$60\\degree$S','','$40\\degree$S','','$20\\degree$S','','$0\\degree$','','$20\\degree$N','','$40\\degree$N','','$60\\degree$N'])\n",
    "        ax.tick_params(direction='out', length=6, width=2)\n",
    "        ax.set_ylabel('',fontsize=font_size)\n",
    "        ax.set_xlabel('',fontsize=font_size)\n",
    "        ax.tick_params(labelsize=font_size)        \n",
    "\n",
    "        # 3\n",
    "        ax = fig.add_subplot(323, projection=ccrs.PlateCarree(central_longitude=180))\n",
    "        gen = [0,1,2,3,4,5,7,8,9,10,11,12]\n",
    "        for face in gen:\n",
    "            vplt = v3.isel(face=face)\n",
    "            im = vplt.plot.pcolormesh(ax=ax,                   \n",
    "                            transform=ccrs.PlateCarree(), vmin=vmin, vmax=vmax,\n",
    "                            x='XC', y='YC', add_colorbar=colorbar, cmap=cmap)\n",
    "        cb = plt.colorbar(im, ax=ax)\n",
    "        cb.set_label(label=label[2], fontsize=font_size)            \n",
    "        cb.ax.tick_params(labelsize=font_size)\n",
    "        ax.set_title(title[2],fontsize=font_size) \n",
    "        ax.set_xticks([-180, -135, -90, -45, 0, 45,  90, 135, 180])\n",
    "        ax.set_xticklabels(['$180\\degree$W','$135\\degree$W','$90\\degree$W','$45\\degree$W','$0\\degree$','$45\\degree$E','$90\\degree$E','$135\\degree$E','$180\\degree$E'])\n",
    "        ax.set_ylim(-70., 70.)\n",
    "        ax.set_yticks([-60, -50, -40, -30, -20, -10, 0, 10, 20, 30, 40, 50, 60])\n",
    "        ax.set_yticklabels(['$60\\degree$S','','$40\\degree$S','','$20\\degree$S','','$0\\degree$','','$20\\degree$N','','$40\\degree$N','','$60\\degree$N'])\n",
    "        ax.tick_params(direction='out', length=6, width=2)\n",
    "        ax.set_ylabel('',fontsize=font_size)\n",
    "        ax.set_xlabel('',fontsize=font_size)\n",
    "        ax.tick_params(labelsize=font_size)                \n",
    "\n",
    "        # 4\n",
    "        ax = fig.add_subplot(324, projection=ccrs.PlateCarree(central_longitude=180))\n",
    "        gen = [0,1,2,3,4,5,7,8,9,10,11,12]\n",
    "        for face in gen:\n",
    "            vplt = v4.isel(face=face)\n",
    "            im = vplt.plot.pcolormesh(ax=ax,                   \n",
    "                            transform=ccrs.PlateCarree(), vmin=vmin, vmax=vmax,\n",
    "                            x='XC', y='YC', add_colorbar=colorbar, cmap=cmap)\n",
    "        cb = plt.colorbar(im, ax=ax)\n",
    "        cb.set_label(label=label[3], fontsize=font_size)            \n",
    "        cb.ax.tick_params(labelsize=font_size)\n",
    "        ax.set_title(title[3],fontsize=font_size) \n",
    "        ax.set_xticks([-180, -135, -90, -45, 0, 45,  90, 135, 180])\n",
    "        ax.set_xticklabels(['$180\\degree$W','$135\\degree$W','$90\\degree$W','$45\\degree$W','$0\\degree$','$45\\degree$E','$90\\degree$E','$135\\degree$E','$180\\degree$E'])\n",
    "        ax.set_ylim(-70., 70.)\n",
    "        ax.set_yticks([-60, -50, -40, -30, -20, -10, 0, 10, 20, 30, 40, 50, 60])\n",
    "        ax.set_yticklabels(['$60\\degree$S','','$40\\degree$S','','$20\\degree$S','','$0\\degree$','','$20\\degree$N','','$40\\degree$N','','$60\\degree$N'])\n",
    "        ax.tick_params(direction='out', length=6, width=2)\n",
    "        ax.set_ylabel('',fontsize=font_size)\n",
    "        ax.set_xlabel('',fontsize=font_size)\n",
    "        ax.tick_params(labelsize=font_size)     \n",
    "\n",
    "        # 5\n",
    "        ax = fig.add_subplot(325, projection=ccrs.PlateCarree(central_longitude=180))\n",
    "        gen = [0,1,2,3,4,5,7,8,9,10,11,12]\n",
    "        for face in gen:\n",
    "            vplt = v5.isel(face=face)\n",
    "            im = vplt.plot.pcolormesh(ax=ax,                   \n",
    "                            transform=ccrs.PlateCarree(), vmin=vmin, vmax=vmax,\n",
    "                            x='XC', y='YC', add_colorbar=colorbar, cmap=cmap)\n",
    "        cb = plt.colorbar(im, ax=ax)\n",
    "        cb.set_label(label=label[4], fontsize=font_size)            \n",
    "        cb.ax.tick_params(labelsize=font_size)\n",
    "        ax.set_title(title[4],fontsize=font_size) \n",
    "        ax.set_xticks([-180, -135, -90, -45, 0, 45,  90, 135, 180])\n",
    "        ax.set_xticklabels(['$180\\degree$W','$135\\degree$W','$90\\degree$W','$45\\degree$W','$0\\degree$','$45\\degree$E','$90\\degree$E','$135\\degree$E','$180\\degree$E'])\n",
    "        ax.set_ylim(-70., 70.)\n",
    "        ax.set_yticks([-60, -50, -40, -30, -20, -10, 0, 10, 20, 30, 40, 50, 60])\n",
    "        ax.set_yticklabels(['$60\\degree$S','','$40\\degree$S','','$20\\degree$S','','$0\\degree$','','$20\\degree$N','','$40\\degree$N','','$60\\degree$N'])\n",
    "        ax.tick_params(direction='out', length=6, width=2)\n",
    "        ax.set_ylabel('',fontsize=font_size)\n",
    "        ax.set_xlabel('',fontsize=font_size)\n",
    "        ax.tick_params(labelsize=font_size)     \n",
    "\n",
    "        # 6\n",
    "        ax = fig.add_subplot(326, projection=ccrs.PlateCarree(central_longitude=180))\n",
    "        gen = [0,1,2,3,4,5,7,8,9,10,11,12]\n",
    "        for face in gen:\n",
    "            vplt = v6.isel(face=face)\n",
    "            im = vplt.plot.pcolormesh(ax=ax,                   \n",
    "                            transform=ccrs.PlateCarree(), vmin=vmin, vmax=vmax,\n",
    "                            x='XC', y='YC', add_colorbar=colorbar, cmap=cmap)\n",
    "        cb = plt.colorbar(im, ax=ax)\n",
    "        cb.set_label(label=label[5], fontsize=font_size)            \n",
    "        cb.ax.tick_params(labelsize=font_size) \n",
    "        ax.set_title(title[5],fontsize=font_size) \n",
    "        ax.set_xticks([-180, -135, -90, -45, 0, 45,  90, 135, 180])\n",
    "        ax.set_xticklabels(['$180\\degree$W','$135\\degree$W','$90\\degree$W','$45\\degree$W','$0\\degree$','$45\\degree$E','$90\\degree$E','$135\\degree$E','$180\\degree$E'])\n",
    "        ax.set_ylim(-70., 70.)\n",
    "        ax.set_yticks([-60, -50, -40, -30, -20, -10, 0, 10, 20, 30, 40, 50, 60])\n",
    "        ax.set_yticklabels(['$60\\degree$S','','$40\\degree$S','','$20\\degree$S','','$0\\degree$','','$20\\degree$N','','$40\\degree$N','','$60\\degree$N'])\n",
    "        ax.tick_params(direction='out', length=6, width=2)\n",
    "        ax.set_ylabel('',fontsize=font_size)\n",
    "        ax.set_xlabel('',fontsize=font_size)\n",
    "        ax.tick_params(labelsize=font_size)     \n",
    "        \n",
    "        #if title is not None:\n",
    "        #    ax.set_title(title, size=font_size)\n",
    "        #if label is not None:\n",
    "        #    cb.set_label(label=label, size=font_size)     #\n",
    "            \n",
    "        if savefig is not None:\n",
    "            fig.savefig(savefig, dpi=100)\n",
    "            plt.close(fig)\n",
    "        #\n",
    "        if not offline:\n",
    "            plt.show()\n",
    "            "
   ]
  },
  {
   "cell_type": "markdown",
   "metadata": {},
   "source": [
    "# zonal"
   ]
  },
  {
   "cell_type": "code",
   "execution_count": 7,
   "metadata": {},
   "outputs": [
    {
     "name": "stdout",
     "output_type": "stream",
     "text": [
      "<xarray.Dataset>\n",
      "Dimensions:      (face: 13, i: 1080, j: 1080, time: 240)\n",
      "Coordinates:\n",
      "  * time         (time) datetime64[ns] 2011-11-23T08:00:00 ... 2011-12-03T07:00:00\n",
      "  * i            (i) int64 0 4 8 12 16 20 24 ... 4296 4300 4304 4308 4312 4316\n",
      "  * j            (j) int64 0 4 8 12 16 20 24 ... 4296 4300 4304 4308 4312 4316\n",
      "    CS           (face, j, i) float32 dask.array<chunksize=(1, 1080, 1080), meta=np.ndarray>\n",
      "    Depth        (face, j, i) float32 dask.array<chunksize=(1, 1080, 1080), meta=np.ndarray>\n",
      "    SN           (face, j, i) float32 dask.array<chunksize=(1, 1080, 1080), meta=np.ndarray>\n",
      "    XC           (face, j, i) float32 dask.array<chunksize=(1, 1080, 1080), meta=np.ndarray>\n",
      "    YC           (face, j, i) float32 dask.array<chunksize=(1, 1080, 1080), meta=np.ndarray>\n",
      "  * face         (face) int64 0 1 2 3 4 5 6 7 8 9 10 11 12\n",
      "    hFacC        (face, j, i) float32 dask.array<chunksize=(1, 1080, 1080), meta=np.ndarray>\n",
      "    rA           (face, j, i) float32 dask.array<chunksize=(1, 1080, 1080), meta=np.ndarray>\n",
      "    dtime        (time) datetime64[ns] 2011-11-23T08:00:00 ... 2011-12-03T07:00:00\n",
      "    iters        (time) int64 256896 257040 257184 ... 291024 291168 291312\n",
      "Data variables:\n",
      "    du_dt        (face, time, j, i) float32 dask.array<chunksize=(1, 1, 1080, 1080), meta=np.ndarray>\n",
      "    fv           (face, time, j, i) float32 dask.array<chunksize=(1, 1, 1080, 1080), meta=np.ndarray>\n",
      "    zeta_v       (face, j, i, time) float32 dask.array<chunksize=(1, 1080, 1080, 1), meta=np.ndarray>\n",
      "    dKE_dx       (face, time, j, i) float32 dask.array<chunksize=(1, 1, 1080, 1080), meta=np.ndarray>\n",
      "    deta_dx      (face, time, j, i) float32 dask.array<chunksize=(1, 1, 1080, 1080), meta=np.ndarray>\n",
      "    residuals_u  (face, time, j, i) float32 dask.array<chunksize=(1, 1, 1080, 1080), meta=np.ndarray>\n",
      "\n",
      " data size: 87.8 GB\n"
     ]
    }
   ],
   "source": [
    "# read data\n",
    "F = [0, 1, 2, 3, 4, 5, 6, 7, 8, 9, 10, 11, 12]\n",
    "du_dt = xr.concat([xr.open_zarr(E_dir+'du_dt_f%02d.zarr'%(face)) for face in F], dim='face', compat='identical')\n",
    "f_v = xr.concat([xr.open_zarr(E_dir+'fv_f%02d.zarr'%(face)) for face in F], dim='face', compat='identical')\n",
    "zeta_v = xr.concat([xr.open_zarr(E_dir+'zeta_v_f%02d.zarr'%(face)) for face in F], dim='face', compat='identical')\n",
    "dKEdx = xr.concat([xr.open_zarr(E_dir+'dKE_dx_f%02d.zarr'%(face)) for face in F], dim='face', compat='identical')\n",
    "detadx = xr.concat([xr.open_zarr(E_dir+'deta_dx_f%02d.zarr'%(face)) for face in F], dim='face', compat='identical')\n",
    "residuals_u = xr.concat([xr.open_zarr(E_dir+'residuals_u_f%02d.zarr'%(face)) for face in F], dim='face', compat='identical')\n",
    "\n",
    "dudt = du_dt.du_dt\n",
    "fv = f_v.fv\n",
    "zeta_v = zeta_v.zeta_v\n",
    "dKE_dx = dKEdx.dKE_dx\n",
    "deta_dx = detadx.deta_dx\n",
    "residuals_u = residuals_u.residuals_u\n",
    "\n",
    "ds = xr.merge([dudt,fv, zeta_v,dKE_dx, deta_dx, residuals_u])\n",
    "ds = ds.assign_coords(time=time_day) \n",
    "print(ds)\n",
    "print('\\n data size: %.1f GB' %(ds.nbytes / 1e9))"
   ]
  },
  {
   "cell_type": "code",
   "execution_count": 14,
   "metadata": {},
   "outputs": [
    {
     "name": "stdout",
     "output_type": "stream",
     "text": [
      "range(180, 240)\n"
     ]
    }
   ],
   "source": [
    "vmin, vmax = -4e-5, 4e-5\n",
    "lds = ds\n",
    "\n",
    "def process(ds, i, overwrite=True):    \n",
    "    \n",
    "    du_dt = ds['du_dt'].where(ice>0)\n",
    "    hadv = -1*ds['zeta_v'].isel(i=slice(1,-1),j=slice(1,-1)).where(ice>0) + ds['dKE_dx'].isel(i=slice(1,-1),j=slice(1,-1)).where(ice>0)\n",
    "    fv = -1*ds['fv'].where(ice>0)\n",
    "    #zeta_v = -1*ds['zeta_v'].isel(i=slice(1,-1),j=slice(1,-1)).where(ice>0)\n",
    "    #dKE_dx = ds['dKE_dx'].isel(i=slice(1,-1),j=slice(1,-1)).where(ice>0)\n",
    "    deta_dx = ds['deta_dx'].isel(i=slice(1,-1),j=slice(1,-1)).where(ice>0)\n",
    "    residual_u = ds['residuals_u'].isel(i=slice(1,-1),j=slice(1,-1)).where(ice>0)\n",
    "    fva = -1*ds['fv'].where(ice>0) + ds['deta_dx'].isel(i=slice(1,-1),j=slice(1,-1)).where(ice>0)\n",
    "    \n",
    "    mtime = time_day[i]\n",
    "    figname = '/home/uz/yux/mit_equinox/hal/Geostrophy_assessment/Figures/Global_M_U/M_U_global_t%05d'%(i)+'.png'\n",
    "    #\n",
    "    if not os.path.isfile(figname) or overwrite:\n",
    "        \n",
    "        title = ['%s \\n $\\partial u/\\partial t \\: (m\\, s^{-2})$'%mtime, r'$-\\zeta v + \\partial KE/\\partial x \\: (m\\, s^{-2})$', r'$-fv \\: (m\\, s^{-2})$',\n",
    "                 r'$g\\partial \\eta/\\partial x \\: (m\\, s^{-2})$', r'$R_u \\: (m\\, s^{-2})$', r'$-fv+g\\partial \\eta/\\partial x \\: (m\\, s^{-2})$']\n",
    "        label = ['', '', '', '', '', '']\n",
    "        \n",
    "        plot_pretty_6(du_dt, hadv, fv, deta_dx, residual_u, fva, colorbar=False, title=title, label=label, savefig=figname, vmin=vmin, vmax=vmax, offline=False, figsize=(40,18), cmmap='balance')\n",
    "        m = 1\n",
    "    else:\n",
    "        m = -1.\n",
    "    return m\n",
    "\n",
    "#I = range(len(ds['time']))\n",
    "I = range(180,240)\n",
    "#I = range(120,180)\n",
    "print(I)\n",
    "values = [delayed(process)(lds.isel(time=i), i) for i in I]"
   ]
  },
  {
   "cell_type": "markdown",
   "metadata": {},
   "source": [
    "Process all times"
   ]
  },
  {
   "cell_type": "code",
   "execution_count": 15,
   "metadata": {},
   "outputs": [
    {
     "name": "stdout",
     "output_type": "stream",
     "text": [
      "CPU times: user 7min 47s, sys: 8min 1s, total: 15min 48s\n",
      "Wall time: 16min 36s\n"
     ]
    }
   ],
   "source": [
    "futures = client.compute(values)\n",
    "%time results = client.gather(futures)"
   ]
  },
  {
   "cell_type": "code",
   "execution_count": null,
   "metadata": {},
   "outputs": [],
   "source": []
  },
  {
   "cell_type": "code",
   "execution_count": null,
   "metadata": {},
   "outputs": [],
   "source": []
  },
  {
   "cell_type": "markdown",
   "metadata": {},
   "source": [
    "# meridional"
   ]
  },
  {
   "cell_type": "code",
   "execution_count": 7,
   "metadata": {},
   "outputs": [
    {
     "name": "stdout",
     "output_type": "stream",
     "text": [
      "<xarray.Dataset>\n",
      "Dimensions:      (face: 13, i: 1080, j: 1080, time: 240)\n",
      "Coordinates:\n",
      "  * time         (time) datetime64[ns] 2011-11-23T08:00:00 ... 2011-12-03T07:00:00\n",
      "  * j            (j) int64 0 4 8 12 16 20 24 ... 4296 4300 4304 4308 4312 4316\n",
      "  * i            (i) int64 0 4 8 12 16 20 24 ... 4296 4300 4304 4308 4312 4316\n",
      "    CS           (face, j, i) float32 dask.array<chunksize=(1, 1080, 1080), meta=np.ndarray>\n",
      "    Depth        (face, j, i) float32 dask.array<chunksize=(1, 1080, 1080), meta=np.ndarray>\n",
      "    SN           (face, j, i) float32 dask.array<chunksize=(1, 1080, 1080), meta=np.ndarray>\n",
      "    XC           (face, j, i) float32 dask.array<chunksize=(1, 1080, 1080), meta=np.ndarray>\n",
      "    YC           (face, j, i) float32 dask.array<chunksize=(1, 1080, 1080), meta=np.ndarray>\n",
      "  * face         (face) int64 0 1 2 3 4 5 6 7 8 9 10 11 12\n",
      "    hFacC        (face, j, i) float32 dask.array<chunksize=(1, 1080, 1080), meta=np.ndarray>\n",
      "    rA           (face, j, i) float32 dask.array<chunksize=(1, 1080, 1080), meta=np.ndarray>\n",
      "    iters        (time) int64 256896 257040 257184 ... 291024 291168 291312\n",
      "    dtime        (time) datetime64[ns] 2011-11-23T08:00:00 ... 2011-12-03T07:00:00\n",
      "Data variables:\n",
      "    dv_dt        (face, time, j, i) float32 dask.array<chunksize=(1, 1, 1080, 1080), meta=np.ndarray>\n",
      "    fu           (face, time, j, i) float32 dask.array<chunksize=(1, 1, 1080, 1080), meta=np.ndarray>\n",
      "    zeta_u       (face, j, i, time) float32 dask.array<chunksize=(1, 1080, 1080, 1), meta=np.ndarray>\n",
      "    dKE_dy       (face, time, j, i) float32 dask.array<chunksize=(1, 1, 1080, 1080), meta=np.ndarray>\n",
      "    deta_dy      (face, time, j, i) float32 dask.array<chunksize=(1, 1, 1080, 1080), meta=np.ndarray>\n",
      "    residuals_v  (face, time, j, i) float32 dask.array<chunksize=(1, 1, 1080, 1080), meta=np.ndarray>\n",
      "\n",
      " data size: 87.8 GB\n"
     ]
    }
   ],
   "source": [
    "F = [0, 1, 2, 3, 4, 5, 6, 7, 8, 9, 10, 11, 12]\n",
    "dv_dt = xr.concat([xr.open_zarr(E_dir+'dv_dt_f%02d.zarr'%(face)) for face in F], dim='face', compat='identical')\n",
    "f_u = xr.concat([xr.open_zarr(E_dir+'fu_f%02d.zarr'%(face)) for face in F], dim='face', compat='identical')\n",
    "zeta_u = xr.concat([xr.open_zarr(E_dir+'zeta_u_f%02d.zarr'%(face)) for face in F], dim='face', compat='identical')\n",
    "dKEdy = xr.concat([xr.open_zarr(E_dir+'dKE_dy_f%02d.zarr'%(face)) for face in F], dim='face', compat='identical')\n",
    "detady = xr.concat([xr.open_zarr(E_dir+'deta_dy_f%02d.zarr'%(face)) for face in F], dim='face', compat='identical')\n",
    "residuals_v = xr.concat([xr.open_zarr(E_dir+'residuals_v_f%02d.zarr'%(face)) for face in F], dim='face', compat='identical')\n",
    "\n",
    "dvdt = dv_dt.dv_dt\n",
    "fu = f_u.fu\n",
    "zeta_u = zeta_u.zeta_u\n",
    "dKE_dy = dKEdy.dKE_dy\n",
    "deta_dy = detady.deta_dy\n",
    "residuals_v = residuals_v.residuals_v\n",
    "\n",
    "# merge data\n",
    "ds = xr.merge([dvdt,fu, zeta_u,dKE_dy, deta_dy, residuals_v])\n",
    "ds = ds.assign_coords(time=time_day) \n",
    "print(ds)\n",
    "print('\\n data size: %.1f GB' %(ds.nbytes / 1e9))"
   ]
  },
  {
   "cell_type": "code",
   "execution_count": 12,
   "metadata": {},
   "outputs": [
    {
     "name": "stdout",
     "output_type": "stream",
     "text": [
      "range(180, 240)\n"
     ]
    }
   ],
   "source": [
    "vmin, vmax = -4e-5, 4e-5\n",
    "lds = ds\n",
    "\n",
    "def process(ds, i, overwrite=True):    \n",
    "    \n",
    "    dv_dt = ds['dv_dt'].where(ice>0)\n",
    "    hadv = ds['zeta_u'].isel(i=slice(1,-1),j=slice(1,-1)).where(ice>0) + ds['dKE_dy'].isel(i=slice(1,-1),j=slice(1,-1)).where(ice>0)\n",
    "    fu = ds['fu'].where(ice>0)\n",
    "    deta_dy = ds['deta_dy'].isel(i=slice(1,-1),j=slice(1,-1)).where(ice>0)\n",
    "    residual_v = ds['residuals_v'].isel(i=slice(1,-1),j=slice(1,-1)).where(ice>0)\n",
    "    fua = ds['fu'].where(ice>0) + ds['deta_dy'].isel(i=slice(1,-1),j=slice(1,-1)).where(ice>0)\n",
    "    \n",
    "    mtime = time_day[i]\n",
    "    figname = '/home/uz/yux/mit_equinox/hal/Geostrophy_assessment/Figures/Global_M_V/M_V_global_t%05d'%(i)+'.png'\n",
    "    #\n",
    "    if not os.path.isfile(figname) or overwrite:\n",
    "        \n",
    "        title = ['%s \\n $\\partial v/\\partial t \\: (m\\, s^{-2})$'%mtime, r'$\\zeta u + \\partial KE/\\partial y \\: (m\\, s^{-2})$', r'$fu \\: (m\\, s^{-2})$',\n",
    "                 r'$g\\partial \\eta/\\partial y \\: (m\\, s^{-2})$', r'$R_v \\: (m\\, s^{-2})$', r'$fu+g\\partial \\eta/\\partial y \\: (m\\, s^{-2})$']\n",
    "        label = ['', '', '', '', '', '']\n",
    "        \n",
    "        plot_pretty_6(dv_dt, hadv, fu, deta_dy, residual_v, fua, colorbar=False, title=title, label=label, savefig=figname, vmin=vmin, vmax=vmax, offline=False, figsize=(40,18), cmmap='balance')\n",
    "        m = 1\n",
    "    else:\n",
    "        m = -1.\n",
    "    return m\n",
    "\n",
    "#I = range(len(ds['time']))\n",
    "I = range(180,240)\n",
    "print(I)\n",
    "values = [delayed(process)(lds.isel(time=i), i) for i in I]"
   ]
  },
  {
   "cell_type": "code",
   "execution_count": 13,
   "metadata": {},
   "outputs": [
    {
     "name": "stdout",
     "output_type": "stream",
     "text": [
      "CPU times: user 8min 56s, sys: 6min 50s, total: 15min 47s\n",
      "Wall time: 16min 34s\n"
     ]
    }
   ],
   "source": [
    "futures = client.compute(values)\n",
    "%time results = client.gather(futures)"
   ]
  },
  {
   "cell_type": "code",
   "execution_count": null,
   "metadata": {},
   "outputs": [],
   "source": []
  },
  {
   "cell_type": "code",
   "execution_count": null,
   "metadata": {},
   "outputs": [],
   "source": []
  },
  {
   "cell_type": "code",
   "execution_count": null,
   "metadata": {},
   "outputs": [],
   "source": []
  },
  {
   "cell_type": "code",
   "execution_count": null,
   "metadata": {},
   "outputs": [],
   "source": []
  },
  {
   "cell_type": "code",
   "execution_count": null,
   "metadata": {},
   "outputs": [],
   "source": []
  },
  {
   "cell_type": "code",
   "execution_count": null,
   "metadata": {},
   "outputs": [],
   "source": []
  },
  {
   "cell_type": "code",
   "execution_count": null,
   "metadata": {},
   "outputs": [],
   "source": []
  },
  {
   "cell_type": "code",
   "execution_count": null,
   "metadata": {},
   "outputs": [],
   "source": []
  },
  {
   "cell_type": "code",
   "execution_count": null,
   "metadata": {},
   "outputs": [],
   "source": []
  },
  {
   "cell_type": "code",
   "execution_count": null,
   "metadata": {},
   "outputs": [],
   "source": []
  },
  {
   "cell_type": "code",
   "execution_count": null,
   "metadata": {},
   "outputs": [],
   "source": []
  },
  {
   "cell_type": "code",
   "execution_count": null,
   "metadata": {},
   "outputs": [],
   "source": []
  },
  {
   "cell_type": "code",
   "execution_count": null,
   "metadata": {},
   "outputs": [],
   "source": []
  },
  {
   "cell_type": "code",
   "execution_count": 14,
   "metadata": {
    "scrolled": true
   },
   "outputs": [
    {
     "name": "stderr",
     "output_type": "stream",
     "text": [
      "distributed.client - ERROR - Failed to reconnect to scheduler after 10.00 seconds, closing client\n",
      "distributed.utils - ERROR - \n",
      "Traceback (most recent call last):\n",
      "  File \"/home/uz/yux/.conda/envs/equinox/lib/python3.7/site-packages/distributed/utils.py\", line 666, in log_errors\n",
      "    yield\n",
      "  File \"/home/uz/yux/.conda/envs/equinox/lib/python3.7/site-packages/distributed/client.py\", line 1276, in _close\n",
      "    await gen.with_timeout(timedelta(seconds=2), list(coroutines))\n",
      "concurrent.futures._base.CancelledError\n",
      "distributed.utils - ERROR - \n",
      "Traceback (most recent call last):\n",
      "  File \"/home/uz/yux/.conda/envs/equinox/lib/python3.7/site-packages/distributed/utils.py\", line 666, in log_errors\n",
      "    yield\n",
      "  File \"/home/uz/yux/.conda/envs/equinox/lib/python3.7/site-packages/distributed/client.py\", line 1005, in _reconnect\n",
      "    await self._close()\n",
      "  File \"/home/uz/yux/.conda/envs/equinox/lib/python3.7/site-packages/distributed/client.py\", line 1276, in _close\n",
      "    await gen.with_timeout(timedelta(seconds=2), list(coroutines))\n",
      "concurrent.futures._base.CancelledError\n"
     ]
    }
   ],
   "source": [
    "cluster.close()"
   ]
  },
  {
   "cell_type": "code",
   "execution_count": null,
   "metadata": {},
   "outputs": [],
   "source": []
  },
  {
   "cell_type": "code",
   "execution_count": null,
   "metadata": {},
   "outputs": [],
   "source": []
  },
  {
   "cell_type": "code",
   "execution_count": null,
   "metadata": {},
   "outputs": [],
   "source": []
  }
 ],
 "metadata": {
  "kernelspec": {
   "display_name": "equinox",
   "language": "python",
   "name": "equinox"
  },
  "language_info": {
   "codemirror_mode": {
    "name": "ipython",
    "version": 3
   },
   "file_extension": ".py",
   "mimetype": "text/x-python",
   "name": "python",
   "nbconvert_exporter": "python",
   "pygments_lexer": "ipython3",
   "version": "3.8.6"
  }
 },
 "nbformat": 4,
 "nbformat_minor": 4
}
