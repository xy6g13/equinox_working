{
 "cells": [
  {
   "cell_type": "markdown",
   "id": "b2995646",
   "metadata": {},
   "source": [
    "# llc4320 drifters spectra: Lagrangian"
   ]
  },
  {
   "cell_type": "code",
   "execution_count": 1,
   "id": "5078a07f",
   "metadata": {},
   "outputs": [
    {
     "name": "stderr",
     "output_type": "stream",
     "text": [
      "INFO: Compiled ParcelsRandom ==> /dev/shm/pbs.7423654.datarmor0/parcels-502027/libparcels_random_32ffac4d-0284-4d6b-818c-694e200549ba.so\n"
     ]
    }
   ],
   "source": [
    "import os\n",
    "import numpy as np\n",
    "import pandas as pd\n",
    "import xarray as xr\n",
    "from cmocean import cm\n",
    "import dask.dataframe as dd\n",
    "from xhistogram.xarray import histogram\n",
    "import xskillscore as xs\n",
    "\n",
    "%matplotlib inline\n",
    "from matplotlib import pyplot as plt\n",
    "from matplotlib import gridspec\n",
    "\n",
    "import mitequinox.utils as ut\n",
    "import mitequinox.parcels as pa\n",
    "import mitequinox.drifters as dr"
   ]
  },
  {
   "cell_type": "code",
   "execution_count": 2,
   "id": "379bae6d",
   "metadata": {},
   "outputs": [],
   "source": [
    "if True:\n",
    "    from dask.distributed import Client, LocalCluster\n",
    "    from dask_jobqueue import PBSCluster\n",
    "    #cluster = PBSCluster()\n",
    "    cluster = PBSCluster() # necessary?\n",
    "    w = cluster.scale(jobs=15)\n",
    "    #w = cluster.scale(jobs=1)\n",
    "    # 3 needed for lagrangian lon/lat binning\n",
    "    # 15 for eulerian binning\n",
    "    client = Client(cluster)\n",
    "    client\n",
    "else:\n",
    "    from dask.distributed import Client, LocalCluster\n",
    "    #\n",
    "    cluster = LocalCluster()\n",
    "    client = Client(cluster)\n",
    "    client"
   ]
  },
  {
   "cell_type": "code",
   "execution_count": 5,
   "id": "ae4e6266",
   "metadata": {},
   "outputs": [
    {
     "data": {
      "text/html": [
       "<table style=\"border: 2px solid white;\">\n",
       "<tr>\n",
       "<td style=\"vertical-align: top; border: 0px solid white\">\n",
       "<h3 style=\"text-align: left;\">Client</h3>\n",
       "<ul style=\"text-align: left; list-style: none; margin: 0; padding: 0;\">\n",
       "  <li><b>Scheduler: </b>tcp://10.148.0.215:41814</li>\n",
       "  <li><b>Dashboard: </b><a href='http://10.148.0.215:8787/status' target='_blank'>http://10.148.0.215:8787/status</a></li>\n",
       "</ul>\n",
       "</td>\n",
       "<td style=\"vertical-align: top; border: 0px solid white\">\n",
       "<h3 style=\"text-align: left;\">Cluster</h3>\n",
       "<ul style=\"text-align: left; list-style:none; margin: 0; padding: 0;\">\n",
       "  <li><b>Workers: </b>70</li>\n",
       "  <li><b>Cores: </b>70</li>\n",
       "  <li><b>Memory: </b>1.09 TiB</li>\n",
       "</ul>\n",
       "</td>\n",
       "</tr>\n",
       "</table>"
      ],
      "text/plain": [
       "<Client: 'tcp://10.148.0.215:41814' processes=66 threads=66, memory=1.03 TiB>"
      ]
     },
     "execution_count": 5,
     "metadata": {},
     "output_type": "execute_result"
    }
   ],
   "source": [
    "client"
   ]
  },
  {
   "cell_type": "markdown",
   "id": "5e085ef6",
   "metadata": {},
   "source": [
    "---\n",
    "# Lagrangian spectra"
   ]
  },
  {
   "cell_type": "markdown",
   "id": "01c51b26",
   "metadata": {},
   "source": [
    "## 1. lat x lon binning (i.e. 2D)"
   ]
  },
  {
   "cell_type": "code",
   "execution_count": 4,
   "id": "1079b4ec",
   "metadata": {},
   "outputs": [],
   "source": [
    "# load Lagrangian data\n",
    "# The 'global_T365j_dt1j_dij50' data do not work\n",
    "\n",
    "root_dir = '/home/datawork-lops-osi/equinox/mit4320/parcels/'\n",
    "run_name = 'global_extra_T365j_dt1j_dij50_XCYC'\n",
    "\n",
    "p = pa.parcels_output(root_dir+run_name, parquets=['trajectory'])"
   ]
  },
  {
   "cell_type": "code",
   "execution_count": 9,
   "id": "bf863abb",
   "metadata": {},
   "outputs": [
    {
     "name": "stdout",
     "output_type": "stream",
     "text": [
      "[41 42 43 44 45 46 47 48 49 50 51 52 53 54 55 56 57 58 59 60]\n"
     ]
    }
   ],
   "source": [
    "# bin size\n",
    "dl = 1\n",
    "lat_bins = np.arange(41, 61, dl)\n",
    "print(lat_bins)"
   ]
  },
  {
   "cell_type": "code",
   "execution_count": 10,
   "id": "fdd1e564",
   "metadata": {},
   "outputs": [
    {
     "name": "stdout",
     "output_type": "stream",
     "text": [
      "[21 22 23 24 25 26 27 28 29 30 31 32 33 34 35 36 37 38 39 40]\n"
     ]
    }
   ],
   "source": [
    "lat_bins = np.arange(21, 41, dl)\n",
    "print(lat_bins)"
   ]
  },
  {
   "cell_type": "code",
   "execution_count": 11,
   "id": "93d86774",
   "metadata": {},
   "outputs": [
    {
     "name": "stdout",
     "output_type": "stream",
     "text": [
      "[ 1  2  3  4  5  6  7  8  9 10 11 12 13 14 15 16 17 18 19 20]\n"
     ]
    }
   ],
   "source": [
    "lat_bins = np.arange(1, 21, dl)\n",
    "print(lat_bins)"
   ]
  },
  {
   "cell_type": "code",
   "execution_count": 12,
   "id": "313c1d60",
   "metadata": {},
   "outputs": [
    {
     "name": "stdout",
     "output_type": "stream",
     "text": [
      "[-21 -20 -19 -18 -17 -16 -15 -14 -13 -12 -11 -10  -9  -8  -7  -6  -5  -4\n",
      "  -3  -2  -1   0]\n"
     ]
    }
   ],
   "source": [
    "lat_bins = np.arange(-21, 1, dl)\n",
    "print(lat_bins)"
   ]
  },
  {
   "cell_type": "code",
   "execution_count": 13,
   "id": "1000d608",
   "metadata": {},
   "outputs": [
    {
     "name": "stdout",
     "output_type": "stream",
     "text": [
      "[-41 -40 -39 -38 -37 -36 -35 -34 -33 -32 -31 -30 -29 -28 -27 -26 -25 -24\n",
      " -23 -22]\n"
     ]
    }
   ],
   "source": [
    "lat_bins = np.arange(-41, -21, dl)\n",
    "print(lat_bins)"
   ]
  },
  {
   "cell_type": "code",
   "execution_count": 15,
   "id": "19fbebb4",
   "metadata": {},
   "outputs": [
    {
     "name": "stdout",
     "output_type": "stream",
     "text": [
      "[-60 -59 -58 -57 -56 -55 -54 -53 -52 -51 -50 -49 -48 -47 -46 -45 -44 -43\n",
      " -42]\n"
     ]
    }
   ],
   "source": [
    "lat_bins = np.arange(-60, -41, dl)\n",
    "print(lat_bins)"
   ]
  },
  {
   "cell_type": "code",
   "execution_count": 17,
   "id": "7b72e8aa",
   "metadata": {},
   "outputs": [
    {
     "name": "stdout",
     "output_type": "stream",
     "text": [
      "[41 42 43 44 45 46 47 48 49 50 51 52 53 54 55 56 57 58 59 60]\n"
     ]
    },
    {
     "name": "stderr",
     "output_type": "stream",
     "text": [
      "/home1/datahome/xyu/.miniconda3/envs/equinox/lib/python3.8/site-packages/pandas/core/generic.py:4147: PerformanceWarning: dropping on a non-lexsorted multi-index without a level parameter may impact performance.\n",
      "  obj = obj._drop_axis(labels, axis, level=level, errors=errors)\n"
     ]
    },
    {
     "name": "stdout",
     "output_type": "stream",
     "text": [
      "<xarray.Dataset>\n",
      "Dimensions:   (lat_bins: 19, lon_bins: 359)\n",
      "Coordinates:\n",
      "  * lon_bins  (lon_bins) float64 -179.5 -178.5 -177.5 ... 176.5 177.5 178.5\n",
      "  * lat_bins  (lat_bins) float64 41.5 42.5 43.5 44.5 ... 56.5 57.5 58.5 59.5\n",
      "Data variables:\n",
      "    E         (lon_bins, lat_bins) float64 30.0 13.0 23.0 ... 23.0 20.0 28.0\n",
      "Lagrangian_weight_lat_lon_1deg_North3 diagnostics stored in /home/datawork-lops-osi/equinox/mit4320/parcels/global_extra_T365j_dt1j_dij50_XCYC/diagnostics/Lagrangian_weight_lat_lon_1deg_North3.zarr\n"
     ]
    }
   ],
   "source": [
    "# This works for 2*2 bins\n",
    "\n",
    "# bin size\n",
    "dl = 1\n",
    "# water depth lower bound\n",
    "depth = 500\n",
    "\n",
    "###### north ######\n",
    "# read raw Lagrangian spectra\n",
    "df = p.load_diagnostic('spectra_uv_T60_mean0')\n",
    "df.head()\n",
    "\n",
    "# add bathymetry to dataframe\n",
    "def interp_bathy(df):\n",
    "    bathy = ut.load_bathy(15)\n",
    "    ds = df[['lon','lat']].to_xarray()\n",
    "    ds_interpolated = bathy.interp(lon=ds['lon'], lat=ds['lat'])\n",
    "    df_interpolated = ds_interpolated.to_dataframe()[bathy.name]\n",
    "    return df.assign(**{bathy.name: df_interpolated})\n",
    "df = df.map_partitions(interp_bathy)\n",
    "\n",
    "# filter out depth ranges\n",
    "df = df[df['h']>depth]\n",
    "df.head()\n",
    "\n",
    "# bin geographically\n",
    "lon_bins = np.arange(-180.,180., dl)\n",
    "lat_bins = np.arange(41, 61, dl)\n",
    "print(lat_bins)\n",
    "df['lon'] = (df['lon']+180)%360 - 180\n",
    "df['lon_cut'] = df['lon'].map_partitions(pd.cut, bins=lon_bins)\n",
    "df['lat_cut'] = df['lat'].map_partitions(pd.cut, bins=lat_bins)\n",
    "df = df.reset_index().persist()\n",
    "E = df.groupby(['lon_cut', 'lat_cut']).agg(['mean', 'count']).compute()\n",
    "\n",
    "#Converting pandas dataframe in xarray dataset:\n",
    "index = pd.MultiIndex.from_arrays([E.index.map(lambda v: v[0].mid),\n",
    "                                   E.index.map(lambda v: v[1].mid)\n",
    "                                  ], \n",
    "                                  names=('lon_cut', 'lat_cut'),\n",
    "                                 )\n",
    "ds = (pd.melt(E.set_index(index)\n",
    "              .drop(columns=['time','lon','lat', 'h', 'trajectory'])\n",
    "              .reset_index(), id_vars=['lon_cut', 'lat_cut',],\n",
    "              #var_name='frequency',\n",
    "             )\n",
    "      .rename(columns={'lon_cut': 'lon_bins', 'lat_cut': 'lat_bins', 'value': 'E'})\n",
    "     ).to_xarray().set_index(index=['lon_bins', 'lat_bins']).unstack()\n",
    "ds = ds.drop(['variable_0','variable_1'])\n",
    "ds_north = ds\n",
    "print(ds)\n",
    "\n",
    "# store diagnostic\n",
    "p.store_diagnostic('Lagrangian_weight_lat_lon_1deg_North3', ds, overwrite=True)"
   ]
  },
  {
   "cell_type": "code",
   "execution_count": 11,
   "id": "56dca1b9",
   "metadata": {},
   "outputs": [
    {
     "name": "stdout",
     "output_type": "stream",
     "text": [
      "[21 22 23 24 25 26 27 28 29 30 31 32 33 34 35 36 37 38 39 40 41]\n"
     ]
    },
    {
     "name": "stderr",
     "output_type": "stream",
     "text": [
      "/home1/datahome/xyu/.miniconda3/envs/equinox/lib/python3.8/site-packages/pandas/core/generic.py:4147: PerformanceWarning: dropping on a non-lexsorted multi-index without a level parameter may impact performance.\n",
      "  obj = obj._drop_axis(labels, axis, level=level, errors=errors)\n"
     ]
    },
    {
     "name": "stdout",
     "output_type": "stream",
     "text": [
      "<xarray.Dataset>\n",
      "Dimensions:   (lat_bins: 20, lon_bins: 359)\n",
      "Coordinates:\n",
      "  * lon_bins  (lon_bins) float64 -179.5 -178.5 -177.5 ... 176.5 177.5 178.5\n",
      "  * lat_bins  (lat_bins) float64 21.5 22.5 23.5 24.5 ... 37.5 38.5 39.5 40.5\n",
      "Data variables:\n",
      "    E         (lon_bins, lat_bins) float64 11.0 15.0 20.0 ... 24.0 18.0 20.0\n",
      "Lagrangian_weight_lat_lon_1deg_North2 diagnostics stored in /home/datawork-lops-osi/equinox/mit4320/parcels/global_extra_T365j_dt1j_dij50_XCYC/diagnostics/Lagrangian_weight_lat_lon_1deg_North2.zarr\n"
     ]
    }
   ],
   "source": [
    "# This works for 2*2 bins\n",
    "\n",
    "# bin size\n",
    "dl = 1\n",
    "# water depth lower bound\n",
    "depth = 500\n",
    "\n",
    "###### north ######\n",
    "# read raw Lagrangian spectra\n",
    "df = p.load_diagnostic('spectra_uv_T60_mean0')\n",
    "df.head()\n",
    "\n",
    "# add bathymetry to dataframe\n",
    "def interp_bathy(df):\n",
    "    bathy = ut.load_bathy(15)\n",
    "    ds = df[['lon','lat']].to_xarray()\n",
    "    ds_interpolated = bathy.interp(lon=ds['lon'], lat=ds['lat'])\n",
    "    df_interpolated = ds_interpolated.to_dataframe()[bathy.name]\n",
    "    return df.assign(**{bathy.name: df_interpolated})\n",
    "df = df.map_partitions(interp_bathy)\n",
    "\n",
    "# filter out depth ranges\n",
    "df = df[df['h']>depth]\n",
    "df.head()\n",
    "\n",
    "# bin geographically\n",
    "lon_bins = np.arange(-180.,180., dl)\n",
    "lat_bins = np.arange(21, 42, dl)\n",
    "print(lat_bins)\n",
    "df['lon'] = (df['lon']+180)%360 - 180\n",
    "df['lon_cut'] = df['lon'].map_partitions(pd.cut, bins=lon_bins)\n",
    "df['lat_cut'] = df['lat'].map_partitions(pd.cut, bins=lat_bins)\n",
    "df = df.reset_index().persist()\n",
    "E = df.groupby(['lon_cut', 'lat_cut']).agg(['mean', 'count']).compute()\n",
    "\n",
    "#Converting pandas dataframe in xarray dataset:\n",
    "index = pd.MultiIndex.from_arrays([E.index.map(lambda v: v[0].mid),\n",
    "                                   E.index.map(lambda v: v[1].mid)\n",
    "                                  ], \n",
    "                                  names=('lon_cut', 'lat_cut'),\n",
    "                                 )\n",
    "ds = (pd.melt(E.set_index(index)\n",
    "              .drop(columns=['time','lon','lat', 'h', 'trajectory'])\n",
    "              .reset_index(), id_vars=['lon_cut', 'lat_cut',],\n",
    "              #var_name='frequency',\n",
    "             )\n",
    "      .rename(columns={'lon_cut': 'lon_bins', 'lat_cut': 'lat_bins', 'value': 'E'})\n",
    "     ).to_xarray().set_index(index=['lon_bins', 'lat_bins']).unstack()\n",
    "ds = ds.drop(['variable_0','variable_1'])\n",
    "ds_north = ds\n",
    "print(ds)\n",
    "\n",
    "# store diagnostic\n",
    "p.store_diagnostic('Lagrangian_weight_lat_lon_1deg_North2', ds, overwrite=True)"
   ]
  },
  {
   "cell_type": "code",
   "execution_count": 13,
   "id": "b07c8708",
   "metadata": {},
   "outputs": [
    {
     "name": "stdout",
     "output_type": "stream",
     "text": [
      "[ 1  2  3  4  5  6  7  8  9 10 11 12 13 14 15 16 17 18 19 20 21]\n"
     ]
    },
    {
     "name": "stderr",
     "output_type": "stream",
     "text": [
      "/home1/datahome/xyu/.miniconda3/envs/equinox/lib/python3.8/site-packages/pandas/core/generic.py:4147: PerformanceWarning: dropping on a non-lexsorted multi-index without a level parameter may impact performance.\n",
      "  obj = obj._drop_axis(labels, axis, level=level, errors=errors)\n"
     ]
    },
    {
     "name": "stdout",
     "output_type": "stream",
     "text": [
      "<xarray.Dataset>\n",
      "Dimensions:   (lat_bins: 20, lon_bins: 359)\n",
      "Coordinates:\n",
      "  * lon_bins  (lon_bins) float64 -179.5 -178.5 -177.5 ... 176.5 177.5 178.5\n",
      "  * lat_bins  (lat_bins) float64 1.5 2.5 3.5 4.5 5.5 ... 17.5 18.5 19.5 20.5\n",
      "Data variables:\n",
      "    E         (lon_bins, lat_bins) float64 3.0 13.0 10.0 10.0 ... 24.0 19.0 30.0\n",
      "Lagrangian_weight_lat_lon_1deg_North1 diagnostics stored in /home/datawork-lops-osi/equinox/mit4320/parcels/global_extra_T365j_dt1j_dij50_XCYC/diagnostics/Lagrangian_weight_lat_lon_1deg_North1.zarr\n"
     ]
    }
   ],
   "source": [
    "# This works for 2*2 bins\n",
    "\n",
    "# bin size\n",
    "dl = 1\n",
    "# water depth lower bound\n",
    "depth = 500\n",
    "\n",
    "###### north ######\n",
    "# read raw Lagrangian spectra\n",
    "df = p.load_diagnostic('spectra_uv_T60_mean0')\n",
    "df.head()\n",
    "\n",
    "# add bathymetry to dataframe\n",
    "def interp_bathy(df):\n",
    "    bathy = ut.load_bathy(15)\n",
    "    ds = df[['lon','lat']].to_xarray()\n",
    "    ds_interpolated = bathy.interp(lon=ds['lon'], lat=ds['lat'])\n",
    "    df_interpolated = ds_interpolated.to_dataframe()[bathy.name]\n",
    "    return df.assign(**{bathy.name: df_interpolated})\n",
    "df = df.map_partitions(interp_bathy)\n",
    "\n",
    "# filter out depth ranges\n",
    "df = df[df['h']>depth]\n",
    "df.head()\n",
    "\n",
    "# bin geographically\n",
    "lon_bins = np.arange(-180.,180., dl)\n",
    "lat_bins = np.arange(1, 22, dl)\n",
    "print(lat_bins)\n",
    "df['lon'] = (df['lon']+180)%360 - 180\n",
    "df['lon_cut'] = df['lon'].map_partitions(pd.cut, bins=lon_bins)\n",
    "df['lat_cut'] = df['lat'].map_partitions(pd.cut, bins=lat_bins)\n",
    "df = df.reset_index().persist()\n",
    "E = df.groupby(['lon_cut', 'lat_cut']).agg(['mean', 'count']).compute()\n",
    "\n",
    "#Converting pandas dataframe in xarray dataset:\n",
    "index = pd.MultiIndex.from_arrays([E.index.map(lambda v: v[0].mid),\n",
    "                                   E.index.map(lambda v: v[1].mid)\n",
    "                                  ], \n",
    "                                  names=('lon_cut', 'lat_cut'),\n",
    "                                 )\n",
    "ds = (pd.melt(E.set_index(index)\n",
    "              .drop(columns=['time','lon','lat', 'h', 'trajectory'])\n",
    "              .reset_index(), id_vars=['lon_cut', 'lat_cut',],\n",
    "              #var_name='frequency',\n",
    "             )\n",
    "      .rename(columns={'lon_cut': 'lon_bins', 'lat_cut': 'lat_bins', 'value': 'E'})\n",
    "     ).to_xarray().set_index(index=['lon_bins', 'lat_bins']).unstack()\n",
    "ds = ds.drop(['variable_0','variable_1'])\n",
    "ds_north = ds\n",
    "print(ds)\n",
    "\n",
    "# store diagnostic\n",
    "p.store_diagnostic('Lagrangian_weight_lat_lon_1deg_North1', ds, overwrite=True)"
   ]
  },
  {
   "cell_type": "code",
   "execution_count": null,
   "id": "08d3bf2c",
   "metadata": {},
   "outputs": [],
   "source": []
  },
  {
   "cell_type": "code",
   "execution_count": 14,
   "id": "5725dceb",
   "metadata": {
    "tags": []
   },
   "outputs": [
    {
     "name": "stdout",
     "output_type": "stream",
     "text": [
      "[-21 -20 -19 -18 -17 -16 -15 -14 -13 -12 -11 -10  -9  -8  -7  -6  -5  -4\n",
      "  -3  -2  -1   0   1]\n"
     ]
    },
    {
     "name": "stderr",
     "output_type": "stream",
     "text": [
      "/home1/datahome/xyu/.miniconda3/envs/equinox/lib/python3.8/site-packages/pandas/core/generic.py:4147: PerformanceWarning: dropping on a non-lexsorted multi-index without a level parameter may impact performance.\n",
      "  obj = obj._drop_axis(labels, axis, level=level, errors=errors)\n"
     ]
    },
    {
     "name": "stdout",
     "output_type": "stream",
     "text": [
      "<xarray.Dataset>\n",
      "Dimensions:   (lat_bins: 22, lon_bins: 359)\n",
      "Coordinates:\n",
      "  * lon_bins  (lon_bins) float64 -179.5 -178.5 -177.5 ... 176.5 177.5 178.5\n",
      "  * lat_bins  (lat_bins) float64 -20.5 -19.5 -18.5 -17.5 ... -2.5 -1.5 -0.5 0.5\n",
      "Data variables:\n",
      "    E         (lon_bins, lat_bins) float64 17.0 14.0 25.0 9.0 ... 16.0 4.0 3.0\n",
      "Lagrangian_weight_lat_lon_1deg_South1 diagnostics stored in /home/datawork-lops-osi/equinox/mit4320/parcels/global_extra_T365j_dt1j_dij50_XCYC/diagnostics/Lagrangian_weight_lat_lon_1deg_South1.zarr\n"
     ]
    }
   ],
   "source": [
    "# This works for 2*2 bins\n",
    "\n",
    "# bin size\n",
    "dl = 1\n",
    "# water depth lower bound\n",
    "depth = 500\n",
    "\n",
    "###### north ######\n",
    "# read raw Lagrangian spectra\n",
    "df = p.load_diagnostic('spectra_uv_T60_mean0')\n",
    "df.head()\n",
    "\n",
    "# add bathymetry to dataframe\n",
    "def interp_bathy(df):\n",
    "    bathy = ut.load_bathy(15)\n",
    "    ds = df[['lon','lat']].to_xarray()\n",
    "    ds_interpolated = bathy.interp(lon=ds['lon'], lat=ds['lat'])\n",
    "    df_interpolated = ds_interpolated.to_dataframe()[bathy.name]\n",
    "    return df.assign(**{bathy.name: df_interpolated})\n",
    "df = df.map_partitions(interp_bathy)\n",
    "\n",
    "# filter out depth ranges\n",
    "df = df[df['h']>depth]\n",
    "df.head()\n",
    "\n",
    "# bin geographically\n",
    "lon_bins = np.arange(-180.,180., dl)\n",
    "lat_bins = np.arange(-21, 2, dl)\n",
    "print(lat_bins)\n",
    "df['lon'] = (df['lon']+180)%360 - 180\n",
    "df['lon_cut'] = df['lon'].map_partitions(pd.cut, bins=lon_bins)\n",
    "df['lat_cut'] = df['lat'].map_partitions(pd.cut, bins=lat_bins)\n",
    "df = df.reset_index().persist()\n",
    "E = df.groupby(['lon_cut', 'lat_cut']).agg(['mean', 'count']).compute()\n",
    "\n",
    "#Converting pandas dataframe in xarray dataset:\n",
    "index = pd.MultiIndex.from_arrays([E.index.map(lambda v: v[0].mid),\n",
    "                                   E.index.map(lambda v: v[1].mid)\n",
    "                                  ], \n",
    "                                  names=('lon_cut', 'lat_cut'),\n",
    "                                 )\n",
    "ds = (pd.melt(E.set_index(index)\n",
    "              .drop(columns=['time','lon','lat', 'h', 'trajectory'])\n",
    "              .reset_index(), id_vars=['lon_cut', 'lat_cut',],\n",
    "              #var_name='frequency',\n",
    "             )\n",
    "      .rename(columns={'lon_cut': 'lon_bins', 'lat_cut': 'lat_bins', 'value': 'E'})\n",
    "     ).to_xarray().set_index(index=['lon_bins', 'lat_bins']).unstack()\n",
    "ds = ds.drop(['variable_0','variable_1'])\n",
    "ds_north = ds\n",
    "print(ds)\n",
    "\n",
    "# store diagnostic\n",
    "p.store_diagnostic('Lagrangian_weight_lat_lon_1deg_South1', ds, overwrite=True)"
   ]
  },
  {
   "cell_type": "code",
   "execution_count": 24,
   "id": "beea2dfd",
   "metadata": {},
   "outputs": [
    {
     "name": "stdout",
     "output_type": "stream",
     "text": [
      "[-43 -42 -41 -40 -39 -38 -37 -36 -35 -34 -33 -32 -31 -30 -29 -28 -27 -26\n",
      " -25 -24 -23 -22 -21]\n"
     ]
    },
    {
     "name": "stderr",
     "output_type": "stream",
     "text": [
      "/home1/datahome/xyu/.miniconda3/envs/equinox/lib/python3.8/site-packages/pandas/core/generic.py:4147: PerformanceWarning: dropping on a non-lexsorted multi-index without a level parameter may impact performance.\n",
      "  obj = obj._drop_axis(labels, axis, level=level, errors=errors)\n"
     ]
    },
    {
     "name": "stdout",
     "output_type": "stream",
     "text": [
      "<xarray.Dataset>\n",
      "Dimensions:   (lat_bins: 22, lon_bins: 359)\n",
      "Coordinates:\n",
      "  * lon_bins  (lon_bins) float64 -179.5 -178.5 -177.5 ... 176.5 177.5 178.5\n",
      "  * lat_bins  (lat_bins) float64 -42.5 -41.5 -40.5 -39.5 ... -23.5 -22.5 -21.5\n",
      "Data variables:\n",
      "    E         (lon_bins, lat_bins) float64 29.0 23.0 21.0 26.0 ... 27.0 9.0 13.0\n",
      "Lagrangian_weight_lat_lon_1deg_South2 diagnostics stored in /home/datawork-lops-osi/equinox/mit4320/parcels/global_extra_T365j_dt1j_dij50_XCYC/diagnostics/Lagrangian_weight_lat_lon_1deg_South2.zarr\n"
     ]
    }
   ],
   "source": [
    "# This works for 2*2 bins\n",
    "\n",
    "# bin size\n",
    "dl = 1\n",
    "# water depth lower bound\n",
    "depth = 500\n",
    "\n",
    "###### north ######\n",
    "# read raw Lagrangian spectra\n",
    "df = p.load_diagnostic('spectra_uv_T60_mean0')\n",
    "df.head()\n",
    "\n",
    "# add bathymetry to dataframe\n",
    "def interp_bathy(df):\n",
    "    bathy = ut.load_bathy(15)\n",
    "    ds = df[['lon','lat']].to_xarray()\n",
    "    ds_interpolated = bathy.interp(lon=ds['lon'], lat=ds['lat'])\n",
    "    df_interpolated = ds_interpolated.to_dataframe()[bathy.name]\n",
    "    return df.assign(**{bathy.name: df_interpolated})\n",
    "df = df.map_partitions(interp_bathy)\n",
    "\n",
    "# filter out depth ranges\n",
    "df = df[df['h']>depth]\n",
    "df.head()\n",
    "\n",
    "# bin geographically\n",
    "lon_bins = np.arange(-180.,180., dl)\n",
    "lat_bins = np.arange(-43, -20, dl)\n",
    "print(lat_bins)\n",
    "df['lon'] = (df['lon']+180)%360 - 180\n",
    "df['lon_cut'] = df['lon'].map_partitions(pd.cut, bins=lon_bins)\n",
    "df['lat_cut'] = df['lat'].map_partitions(pd.cut, bins=lat_bins)\n",
    "df = df.reset_index().persist()\n",
    "E = df.groupby(['lon_cut', 'lat_cut']).agg(['mean', 'count']).compute()\n",
    "\n",
    "#Converting pandas dataframe in xarray dataset:\n",
    "index = pd.MultiIndex.from_arrays([E.index.map(lambda v: v[0].mid),\n",
    "                                   E.index.map(lambda v: v[1].mid)\n",
    "                                  ], \n",
    "                                  names=('lon_cut', 'lat_cut'),\n",
    "                                 )\n",
    "ds = (pd.melt(E.set_index(index)\n",
    "              .drop(columns=['time','lon','lat', 'h', 'trajectory'])\n",
    "              .reset_index(), id_vars=['lon_cut', 'lat_cut',],\n",
    "              #var_name='frequency',\n",
    "             )\n",
    "      .rename(columns={'lon_cut': 'lon_bins', 'lat_cut': 'lat_bins', 'value': 'E'})\n",
    "     ).to_xarray().set_index(index=['lon_bins', 'lat_bins']).unstack()\n",
    "ds = ds.drop(['variable_0','variable_1'])\n",
    "ds_north = ds\n",
    "print(ds)\n",
    "\n",
    "# store diagnostic\n",
    "p.store_diagnostic('Lagrangian_weight_lat_lon_1deg_South2', ds, overwrite=True)"
   ]
  },
  {
   "cell_type": "code",
   "execution_count": 16,
   "id": "dc93b37f",
   "metadata": {
    "tags": []
   },
   "outputs": [
    {
     "name": "stdout",
     "output_type": "stream",
     "text": [
      "[-60 -59 -58 -57 -56 -55 -54 -53 -52 -51 -50 -49 -48 -47 -46 -45 -44 -43]\n"
     ]
    },
    {
     "name": "stderr",
     "output_type": "stream",
     "text": [
      "/home1/datahome/xyu/.miniconda3/envs/equinox/lib/python3.8/site-packages/pandas/core/generic.py:4147: PerformanceWarning: dropping on a non-lexsorted multi-index without a level parameter may impact performance.\n",
      "  obj = obj._drop_axis(labels, axis, level=level, errors=errors)\n"
     ]
    },
    {
     "name": "stdout",
     "output_type": "stream",
     "text": [
      "<xarray.Dataset>\n",
      "Dimensions:   (lat_bins: 17, lon_bins: 359)\n",
      "Coordinates:\n",
      "  * lon_bins  (lon_bins) float64 -179.5 -178.5 -177.5 ... 176.5 177.5 178.5\n",
      "  * lat_bins  (lat_bins) float64 -59.5 -58.5 -57.5 -56.5 ... -45.5 -44.5 -43.5\n",
      "Data variables:\n",
      "    E         (lon_bins, lat_bins) float64 17.0 24.0 28.0 16.0 ... 38.0 21.0 0.0\n",
      "Lagrangian_weight_lat_lon_1deg_South3 diagnostics stored in /home/datawork-lops-osi/equinox/mit4320/parcels/global_extra_T365j_dt1j_dij50_XCYC/diagnostics/Lagrangian_weight_lat_lon_1deg_South3.zarr\n"
     ]
    }
   ],
   "source": [
    "# This works for 2*2 bins\n",
    "\n",
    "# bin size\n",
    "dl = 1\n",
    "# water depth lower bound\n",
    "depth = 500\n",
    "\n",
    "###### north ######\n",
    "# read raw Lagrangian spectra\n",
    "df = p.load_diagnostic('spectra_uv_T60_mean0')\n",
    "df.head()\n",
    "\n",
    "# add bathymetry to dataframe\n",
    "def interp_bathy(df):\n",
    "    bathy = ut.load_bathy(15)\n",
    "    ds = df[['lon','lat']].to_xarray()\n",
    "    ds_interpolated = bathy.interp(lon=ds['lon'], lat=ds['lat'])\n",
    "    df_interpolated = ds_interpolated.to_dataframe()[bathy.name]\n",
    "    return df.assign(**{bathy.name: df_interpolated})\n",
    "df = df.map_partitions(interp_bathy)\n",
    "\n",
    "# filter out depth ranges\n",
    "df = df[df['h']>depth]\n",
    "df.head()\n",
    "\n",
    "# bin geographically\n",
    "lon_bins = np.arange(-180.,180., dl)\n",
    "lat_bins = np.arange(-60, -42, dl)\n",
    "print(lat_bins)\n",
    "df['lon'] = (df['lon']+180)%360 - 180\n",
    "df['lon_cut'] = df['lon'].map_partitions(pd.cut, bins=lon_bins)\n",
    "df['lat_cut'] = df['lat'].map_partitions(pd.cut, bins=lat_bins)\n",
    "df = df.reset_index().persist()\n",
    "E = df.groupby(['lon_cut', 'lat_cut']).agg(['mean', 'count']).compute()\n",
    "\n",
    "#Converting pandas dataframe in xarray dataset:\n",
    "index = pd.MultiIndex.from_arrays([E.index.map(lambda v: v[0].mid),\n",
    "                                   E.index.map(lambda v: v[1].mid)\n",
    "                                  ], \n",
    "                                  names=('lon_cut', 'lat_cut'),\n",
    "                                 )\n",
    "ds = (pd.melt(E.set_index(index)\n",
    "              .drop(columns=['time','lon','lat', 'h', 'trajectory'])\n",
    "              .reset_index(), id_vars=['lon_cut', 'lat_cut',],\n",
    "              #var_name='frequency',\n",
    "             )\n",
    "      .rename(columns={'lon_cut': 'lon_bins', 'lat_cut': 'lat_bins', 'value': 'E'})\n",
    "     ).to_xarray().set_index(index=['lon_bins', 'lat_bins']).unstack()\n",
    "ds = ds.drop(['variable_0','variable_1'])\n",
    "ds_north = ds\n",
    "print(ds)\n",
    "\n",
    "# store diagnostic\n",
    "p.store_diagnostic('Lagrangian_weight_lat_lon_1deg_South3', ds, overwrite=True)"
   ]
  },
  {
   "cell_type": "code",
   "execution_count": null,
   "id": "1f56b071",
   "metadata": {},
   "outputs": [],
   "source": []
  },
  {
   "cell_type": "code",
   "execution_count": null,
   "id": "7b02a502",
   "metadata": {},
   "outputs": [],
   "source": []
  },
  {
   "cell_type": "markdown",
   "id": "96308ab1",
   "metadata": {},
   "source": [
    "# Account for Lagrangian weights"
   ]
  },
  {
   "cell_type": "code",
   "execution_count": 26,
   "id": "be59926f",
   "metadata": {},
   "outputs": [],
   "source": [
    "out_dir_zarr = '/home1/datawork/xyu/others/' # could change to datawork file"
   ]
  },
  {
   "cell_type": "code",
   "execution_count": 27,
   "id": "65adbe56",
   "metadata": {},
   "outputs": [
    {
     "name": "stdout",
     "output_type": "stream",
     "text": [
      "<xarray.DataArray 'E' (lon_bins: 359, lat_bins: 17)>\n",
      "dask.array<where, shape=(359, 17), dtype=float64, chunksize=(359, 17), chunktype=numpy.ndarray>\n",
      "Coordinates:\n",
      "  * lat_bins  (lat_bins) float64 -59.5 -58.5 -57.5 -56.5 ... -45.5 -44.5 -43.5\n",
      "  * lon_bins  (lon_bins) float64 -179.5 -178.5 -177.5 ... 176.5 177.5 178.5\n",
      "CPU times: user 52 ms, sys: 0 ns, total: 52 ms\n",
      "Wall time: 332 ms\n"
     ]
    }
   ],
   "source": [
    "# load spectra\n",
    "ds_c = p.load_diagnostic('Lagrangian_weight_lat_lon_1deg_South3.zarr')\n",
    "ds_c = ds_c.E.where(ds_c.E>0)\n",
    "print(ds_c)\n",
    "file_out = out_dir_zarr+'/Lagrangian_weight_lat_lon_1deg_South3.nc'\n",
    "%time ds_c.to_netcdf(file_out, mode='w')"
   ]
  },
  {
   "cell_type": "code",
   "execution_count": 28,
   "id": "7af7eea9",
   "metadata": {},
   "outputs": [
    {
     "name": "stdout",
     "output_type": "stream",
     "text": [
      "<xarray.DataArray 'E' (lon_bins: 359, lat_bins: 22)>\n",
      "dask.array<where, shape=(359, 22), dtype=float64, chunksize=(359, 22), chunktype=numpy.ndarray>\n",
      "Coordinates:\n",
      "  * lat_bins  (lat_bins) float64 -42.5 -41.5 -40.5 -39.5 ... -23.5 -22.5 -21.5\n",
      "  * lon_bins  (lon_bins) float64 -179.5 -178.5 -177.5 ... 176.5 177.5 178.5\n",
      "CPU times: user 32 ms, sys: 0 ns, total: 32 ms\n",
      "Wall time: 142 ms\n"
     ]
    }
   ],
   "source": [
    "# load spectra\n",
    "ds_c = p.load_diagnostic('Lagrangian_weight_lat_lon_1deg_South2.zarr')\n",
    "ds_c = ds_c.E.where(ds_c.E>0)\n",
    "print(ds_c)\n",
    "file_out = out_dir_zarr+'/Lagrangian_weight_lat_lon_1deg_South2.nc'\n",
    "%time ds_c.to_netcdf(file_out, mode='w')"
   ]
  },
  {
   "cell_type": "code",
   "execution_count": 29,
   "id": "c73a9d90",
   "metadata": {},
   "outputs": [
    {
     "name": "stdout",
     "output_type": "stream",
     "text": [
      "<xarray.DataArray 'E' (lon_bins: 359, lat_bins: 22)>\n",
      "dask.array<where, shape=(359, 22), dtype=float64, chunksize=(359, 22), chunktype=numpy.ndarray>\n",
      "Coordinates:\n",
      "  * lat_bins  (lat_bins) float64 -20.5 -19.5 -18.5 -17.5 ... -2.5 -1.5 -0.5 0.5\n",
      "  * lon_bins  (lon_bins) float64 -179.5 -178.5 -177.5 ... 176.5 177.5 178.5\n",
      "CPU times: user 48 ms, sys: 0 ns, total: 48 ms\n",
      "Wall time: 256 ms\n"
     ]
    }
   ],
   "source": [
    "# load spectra\n",
    "ds_c = p.load_diagnostic('Lagrangian_weight_lat_lon_1deg_South1.zarr')\n",
    "ds_c = ds_c.E.where(ds_c.E>0)\n",
    "print(ds_c)\n",
    "file_out = out_dir_zarr+'/Lagrangian_weight_lat_lon_1deg_South1.nc'\n",
    "%time ds_c.to_netcdf(file_out, mode='w')"
   ]
  },
  {
   "cell_type": "code",
   "execution_count": 30,
   "id": "7d21e263",
   "metadata": {},
   "outputs": [
    {
     "name": "stdout",
     "output_type": "stream",
     "text": [
      "<xarray.DataArray 'E' (lon_bins: 359, lat_bins: 20)>\n",
      "dask.array<where, shape=(359, 20), dtype=float64, chunksize=(359, 20), chunktype=numpy.ndarray>\n",
      "Coordinates:\n",
      "  * lat_bins  (lat_bins) float64 1.5 2.5 3.5 4.5 5.5 ... 17.5 18.5 19.5 20.5\n",
      "  * lon_bins  (lon_bins) float64 -179.5 -178.5 -177.5 ... 176.5 177.5 178.5\n",
      "CPU times: user 40 ms, sys: 0 ns, total: 40 ms\n",
      "Wall time: 216 ms\n"
     ]
    }
   ],
   "source": [
    "# load spectra\n",
    "ds_c = p.load_diagnostic('Lagrangian_weight_lat_lon_1deg_North1.zarr')\n",
    "ds_c = ds_c.E.where(ds_c.E>0)\n",
    "print(ds_c)\n",
    "file_out = out_dir_zarr+'/Lagrangian_weight_lat_lon_1deg_North1.nc'\n",
    "%time ds_c.to_netcdf(file_out, mode='w')"
   ]
  },
  {
   "cell_type": "code",
   "execution_count": 31,
   "id": "dc566e53",
   "metadata": {
    "tags": []
   },
   "outputs": [
    {
     "name": "stdout",
     "output_type": "stream",
     "text": [
      "<xarray.DataArray 'E' (lon_bins: 359, lat_bins: 20)>\n",
      "dask.array<where, shape=(359, 20), dtype=float64, chunksize=(359, 20), chunktype=numpy.ndarray>\n",
      "Coordinates:\n",
      "  * lat_bins  (lat_bins) float64 21.5 22.5 23.5 24.5 ... 37.5 38.5 39.5 40.5\n",
      "  * lon_bins  (lon_bins) float64 -179.5 -178.5 -177.5 ... 176.5 177.5 178.5\n",
      "CPU times: user 40 ms, sys: 8 ms, total: 48 ms\n",
      "Wall time: 226 ms\n"
     ]
    }
   ],
   "source": [
    "# load spectra\n",
    "ds_c = p.load_diagnostic('Lagrangian_weight_lat_lon_1deg_North2.zarr')\n",
    "ds_c = ds_c.E.where(ds_c.E>0)\n",
    "print(ds_c)\n",
    "file_out = out_dir_zarr+'/Lagrangian_weight_lat_lon_1deg_North2.nc'\n",
    "%time ds_c.to_netcdf(file_out, mode='w')"
   ]
  },
  {
   "cell_type": "code",
   "execution_count": 32,
   "id": "8f85993f",
   "metadata": {},
   "outputs": [
    {
     "name": "stdout",
     "output_type": "stream",
     "text": [
      "<xarray.DataArray 'E' (lon_bins: 359, lat_bins: 19)>\n",
      "dask.array<where, shape=(359, 19), dtype=float64, chunksize=(359, 19), chunktype=numpy.ndarray>\n",
      "Coordinates:\n",
      "  * lat_bins  (lat_bins) float64 41.5 42.5 43.5 44.5 ... 56.5 57.5 58.5 59.5\n",
      "  * lon_bins  (lon_bins) float64 -179.5 -178.5 -177.5 ... 176.5 177.5 178.5\n",
      "CPU times: user 40 ms, sys: 4 ms, total: 44 ms\n",
      "Wall time: 189 ms\n"
     ]
    }
   ],
   "source": [
    "# load spectra\n",
    "ds_c = p.load_diagnostic('Lagrangian_weight_lat_lon_1deg_North3.zarr')\n",
    "ds_c = ds_c.E.where(ds_c.E>0)\n",
    "print(ds_c)\n",
    "file_out = out_dir_zarr+'/Lagrangian_weight_lat_lon_1deg_North3.nc'\n",
    "%time ds_c.to_netcdf(file_out, mode='w')"
   ]
  },
  {
   "cell_type": "code",
   "execution_count": null,
   "id": "77090420",
   "metadata": {
    "tags": []
   },
   "outputs": [],
   "source": [
    "\n",
    "\n",
    "# together\n",
    "ds_all = xr.concat([ds_south, ds_north.where(ds_north.lat_bins>0,drop=True)], dim=\"lat_bins\")\n",
    "\n",
    "# store diagnostic\n",
    "p.store_diagnostic('Lagrangian_weight_lat_lon_1deg', ds_all, overwrite=True)"
   ]
  },
  {
   "cell_type": "code",
   "execution_count": 7,
   "id": "cc8cac55",
   "metadata": {},
   "outputs": [
    {
     "name": "stdout",
     "output_type": "stream",
     "text": [
      "CPU times: user 28 ms, sys: 0 ns, total: 28 ms\n",
      "Wall time: 301 ms\n"
     ]
    }
   ],
   "source": [
    "out_dir_zarr = '/home1/datawork/xyu/others/' # could change to datawork file\n",
    "\n",
    "file_out = out_dir_zarr+'/Lagrangian_weight_lat_lon_1deg.nc'\n",
    "%time ds_c.to_netcdf(file_out, mode='w')"
   ]
  },
  {
   "cell_type": "code",
   "execution_count": 35,
   "id": "6a27c619",
   "metadata": {},
   "outputs": [
    {
     "data": {
      "image/png": "[encoded data removed]",
      "text/plain": [
       "<Figure size 1728x576 with 3 Axes>"
      ]
     },
     "metadata": {
      "needs_background": "light"
     },
     "output_type": "display_data"
    }
   ],
   "source": [
    "# load spectra\n",
    "font_size = 24\n",
    "\n",
    "fig, ax = plt.subplots(figsize=(24,8))\n",
    "gs = gridspec.GridSpec(1, 2, width_ratios=[4, 1]) \n",
    "ax = plt.subplot(gs[0])\n",
    "cax = ds_c.plot(x='lon_bins',cmap='viridis',vmin=0,vmax=200, add_colorbar = False)\n",
    "cbar = plt.colorbar(cax, ax=ax, extend='max', orientation='vertical')\n",
    "cbar.ax.tick_params(labelsize=font_size)\n",
    "cbar.set_label('', fontsize=font_size)\n",
    "ax.set_xlim(-180., 180.)\n",
    "ax.set_xticks([-180., -90., 0., 90., 180.])\n",
    "ax.set_xticklabels(['$180\\degree$W','$90\\degree$W','$0\\degree$','$90\\degree$E','$180\\degree$E'])\n",
    "ax.set_ylim(-60., 60.)\n",
    "ax.set_yticks([-60., -40., -20., 0., 20., 40., 60.])\n",
    "ax.set_yticklabels(['$60\\degree$S','$40\\degree$S','$20\\degree$S','$0\\degree$','$20\\degree$N','$40\\degree$N','$60\\degree$N'])\n",
    "ax.tick_params(direction='out', length=10, width=1)\n",
    "ax.set_ylabel('',fontsize=font_size)\n",
    "ax.set_xlabel('',fontsize=font_size)\n",
    "ax.tick_params(labelsize=font_size)\n",
    "ax.set_title('Number of 60-day segments',fontsize=font_size)\n",
    "ax.tick_params(labelsize=font_size)\n",
    "\n",
    "ax = plt.subplot(gs[1])\n",
    "ds_c.mean('lon_bins').plot(y='lat_bins',linewidth=4)\n",
    "ax.set_xlim(0., 100.)\n",
    "ax.set_ylim(-60., 60.)\n",
    "ax.set_yticks([-60., -40., -20., 0., 20., 40., 60.])\n",
    "ax.set_yticklabels(['$60\\degree$S','$40\\degree$S','$20\\degree$S','$0\\degree$','$20\\degree$N','$40\\degree$N','$60\\degree$N'])\n",
    "ax.grid()\n",
    "ax.set_ylabel('',fontsize=font_size)\n",
    "ax.set_xlabel('',fontsize=font_size)\n",
    "ax.tick_params(labelsize=font_size)\n",
    "ax.set_title('',fontsize=font_size)\n",
    "ax.tick_params(direction='out', length=10, width=1)\n",
    "ax.set_title('Number of 60-day segments',fontsize=font_size)\n",
    "\n",
    "plt.tight_layout()\n",
    "#plt.savefig('/home1/datahome/xyu/equinox_working/Lagrangian_vs_Eulerian_LLC4320/Figures/Segment_distribution.png')"
   ]
  },
  {
   "cell_type": "code",
   "execution_count": null,
   "id": "613c2e5f",
   "metadata": {},
   "outputs": [],
   "source": []
  },
  {
   "cell_type": "code",
   "execution_count": null,
   "id": "bdc420b6",
   "metadata": {},
   "outputs": [],
   "source": []
  },
  {
   "cell_type": "code",
   "execution_count": 35,
   "id": "14d9e462",
   "metadata": {},
   "outputs": [],
   "source": [
    "cluster.close()"
   ]
  },
  {
   "cell_type": "code",
   "execution_count": null,
   "id": "1357aee4",
   "metadata": {},
   "outputs": [],
   "source": []
  },
  {
   "cell_type": "code",
   "execution_count": null,
   "id": "8bb6ad1c",
   "metadata": {},
   "outputs": [],
   "source": []
  }
 ],
 "metadata": {
  "kernelspec": {
   "display_name": "Python 3 (ipykernel)",
   "language": "python",
   "name": "python3"
  },
  "language_info": {
   "codemirror_mode": {
    "name": "ipython",
    "version": 3
   },
   "file_extension": ".py",
   "mimetype": "text/x-python",
   "name": "python",
   "nbconvert_exporter": "python",
   "pygments_lexer": "ipython3",
   "version": "3.8.8"
  }
 },
 "nbformat": 4,
 "nbformat_minor": 5
}
