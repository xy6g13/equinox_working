{
 "cells": [
  {
   "cell_type": "code",
   "execution_count": 1,
   "id": "ca9d10d4",
   "metadata": {},
   "outputs": [
    {
     "name": "stderr",
     "output_type": "stream",
     "text": [
      "INFO: Compiled ParcelsRandom ==> /dev/shm/pbs.5897648.datarmor0/parcels-502027/libparcels_random_49b5f39d-166e-4fc4-903c-3d737ec795b7.so\n"
     ]
    }
   ],
   "source": [
    "import numpy as np\n",
    "import geopandas as gpd\n",
    "\n",
    "\n",
    "import xarray as xr\n",
    "from matplotlib import pyplot as plt\n",
    "%matplotlib inline\n",
    "\n",
    "from xhistogram.xarray import histogram\n",
    "import dask.dataframe as dd\n",
    "import cartopy.crs as ccrs\n",
    "import cartopy.feature as cfeature\n",
    "\n",
    "import mitequinox.utils as ut\n",
    "from mitequinox.plot import *\n",
    "import mitequinox.parcels as pa\n",
    "from xmitgcm import llcreader\n",
    "\n",
    "from fsspec.implementations.local import LocalFileSystem"
   ]
  },
  {
   "cell_type": "code",
   "execution_count": 2,
   "id": "6c56e8ca",
   "metadata": {},
   "outputs": [],
   "source": [
    "from dask.distributed import Client, LocalCluster\n",
    "#\n",
    "#cluster = LocalCluster()\n",
    "#\n",
    "from dask_jobqueue import PBSCluster\n",
    "cluster = PBSCluster() #processes=7, cores=7\n",
    "w = cluster.scale(jobs=8\n",
    "                 )\n",
    "#\n",
    "client = Client(cluster)"
   ]
  },
  {
   "cell_type": "code",
   "execution_count": 3,
   "id": "c74fc5f8",
   "metadata": {},
   "outputs": [
    {
     "data": {
      "text/html": [
       "<table style=\"border: 2px solid white;\">\n",
       "<tr>\n",
       "<td style=\"vertical-align: top; border: 0px solid white\">\n",
       "<h3 style=\"text-align: left;\">Client</h3>\n",
       "<ul style=\"text-align: left; list-style: none; margin: 0; padding: 0;\">\n",
       "  <li><b>Scheduler: </b>tcp://10.148.0.254:47415</li>\n",
       "  <li><b>Dashboard: </b><a href='http://10.148.0.254:8787/status' target='_blank'>http://10.148.0.254:8787/status</a></li>\n",
       "</ul>\n",
       "</td>\n",
       "<td style=\"vertical-align: top; border: 0px solid white\">\n",
       "<h3 style=\"text-align: left;\">Cluster</h3>\n",
       "<ul style=\"text-align: left; list-style:none; margin: 0; padding: 0;\">\n",
       "  <li><b>Workers: </b>7</li>\n",
       "  <li><b>Cores: </b>7</li>\n",
       "  <li><b>Memory: </b>111.79 GiB</li>\n",
       "</ul>\n",
       "</td>\n",
       "</tr>\n",
       "</table>"
      ],
      "text/plain": [
       "<Client: 'tcp://10.148.0.254:47415' processes=7 threads=7, memory=111.79 GiB>"
      ]
     },
     "execution_count": 3,
     "metadata": {},
     "output_type": "execute_result"
    }
   ],
   "source": [
    "client\n"
   ]
  },
  {
   "cell_type": "markdown",
   "id": "5eaec907",
   "metadata": {},
   "source": [
    "__________\n",
    "## Load Lagrangian data"
   ]
  },
  {
   "cell_type": "code",
   "execution_count": 13,
   "id": "fa2ff150",
   "metadata": {},
   "outputs": [
    {
     "data": {
      "text/html": [
       "<div><strong>Dask DataFrame Structure:</strong></div>\n",
       "<div>\n",
       "<style scoped>\n",
       "    .dataframe tbody tr th:only-of-type {\n",
       "        vertical-align: middle;\n",
       "    }\n",
       "\n",
       "    .dataframe tbody tr th {\n",
       "        vertical-align: top;\n",
       "    }\n",
       "\n",
       "    .dataframe thead th {\n",
       "        text-align: right;\n",
       "    }\n",
       "</style>\n",
       "<table border=\"1\" class=\"dataframe\">\n",
       "  <thead>\n",
       "    <tr style=\"text-align: right;\">\n",
       "      <th></th>\n",
       "      <th>trajectory</th>\n",
       "      <th>lat</th>\n",
       "      <th>lon</th>\n",
       "      <th>z</th>\n",
       "      <th>zonal_velocity</th>\n",
       "      <th>meridional_velocity</th>\n",
       "      <th>sea_level</th>\n",
       "      <th>temperature</th>\n",
       "      <th>salinity</th>\n",
       "      <th>Eta_interp</th>\n",
       "      <th>SSU_interp</th>\n",
       "      <th>SST_interp</th>\n",
       "      <th>SSV_interp</th>\n",
       "      <th>SSS_interp</th>\n",
       "    </tr>\n",
       "    <tr>\n",
       "      <th>npartitions=749</th>\n",
       "      <th></th>\n",
       "      <th></th>\n",
       "      <th></th>\n",
       "      <th></th>\n",
       "      <th></th>\n",
       "      <th></th>\n",
       "      <th></th>\n",
       "      <th></th>\n",
       "      <th></th>\n",
       "      <th></th>\n",
       "      <th></th>\n",
       "      <th></th>\n",
       "      <th></th>\n",
       "      <th></th>\n",
       "    </tr>\n",
       "  </thead>\n",
       "  <tbody>\n",
       "    <tr>\n",
       "      <th></th>\n",
       "      <td>int32</td>\n",
       "      <td>float64</td>\n",
       "      <td>float64</td>\n",
       "      <td>float64</td>\n",
       "      <td>float32</td>\n",
       "      <td>float32</td>\n",
       "      <td>float32</td>\n",
       "      <td>float32</td>\n",
       "      <td>float32</td>\n",
       "      <td>float64</td>\n",
       "      <td>float64</td>\n",
       "      <td>float64</td>\n",
       "      <td>float64</td>\n",
       "      <td>float64</td>\n",
       "    </tr>\n",
       "    <tr>\n",
       "      <th></th>\n",
       "      <td>...</td>\n",
       "      <td>...</td>\n",
       "      <td>...</td>\n",
       "      <td>...</td>\n",
       "      <td>...</td>\n",
       "      <td>...</td>\n",
       "      <td>...</td>\n",
       "      <td>...</td>\n",
       "      <td>...</td>\n",
       "      <td>...</td>\n",
       "      <td>...</td>\n",
       "      <td>...</td>\n",
       "      <td>...</td>\n",
       "      <td>...</td>\n",
       "    </tr>\n",
       "    <tr>\n",
       "      <th>...</th>\n",
       "      <td>...</td>\n",
       "      <td>...</td>\n",
       "      <td>...</td>\n",
       "      <td>...</td>\n",
       "      <td>...</td>\n",
       "      <td>...</td>\n",
       "      <td>...</td>\n",
       "      <td>...</td>\n",
       "      <td>...</td>\n",
       "      <td>...</td>\n",
       "      <td>...</td>\n",
       "      <td>...</td>\n",
       "      <td>...</td>\n",
       "      <td>...</td>\n",
       "    </tr>\n",
       "    <tr>\n",
       "      <th></th>\n",
       "      <td>...</td>\n",
       "      <td>...</td>\n",
       "      <td>...</td>\n",
       "      <td>...</td>\n",
       "      <td>...</td>\n",
       "      <td>...</td>\n",
       "      <td>...</td>\n",
       "      <td>...</td>\n",
       "      <td>...</td>\n",
       "      <td>...</td>\n",
       "      <td>...</td>\n",
       "      <td>...</td>\n",
       "      <td>...</td>\n",
       "      <td>...</td>\n",
       "    </tr>\n",
       "    <tr>\n",
       "      <th></th>\n",
       "      <td>...</td>\n",
       "      <td>...</td>\n",
       "      <td>...</td>\n",
       "      <td>...</td>\n",
       "      <td>...</td>\n",
       "      <td>...</td>\n",
       "      <td>...</td>\n",
       "      <td>...</td>\n",
       "      <td>...</td>\n",
       "      <td>...</td>\n",
       "      <td>...</td>\n",
       "      <td>...</td>\n",
       "      <td>...</td>\n",
       "      <td>...</td>\n",
       "    </tr>\n",
       "  </tbody>\n",
       "</table>\n",
       "</div>\n",
       "<div>Dask Name: read-parquet, 749 tasks</div>"
      ],
      "text/plain": [
       "Dask DataFrame Structure:\n",
       "                trajectory      lat      lon        z zonal_velocity meridional_velocity sea_level temperature salinity Eta_interp SSU_interp SST_interp SSV_interp SSS_interp\n",
       "npartitions=749                                                                                                                                                               \n",
       "                     int32  float64  float64  float64        float32             float32   float32     float32  float32    float64    float64    float64    float64    float64\n",
       "                       ...      ...      ...      ...            ...                 ...       ...         ...      ...        ...        ...        ...        ...        ...\n",
       "...                    ...      ...      ...      ...            ...                 ...       ...         ...      ...        ...        ...        ...        ...        ...\n",
       "                       ...      ...      ...      ...            ...                 ...       ...         ...      ...        ...        ...        ...        ...        ...\n",
       "                       ...      ...      ...      ...            ...                 ...       ...         ...      ...        ...        ...        ...        ...        ...\n",
       "Dask Name: read-parquet, 749 tasks"
      ]
     },
     "execution_count": 13,
     "metadata": {},
     "output_type": "execute_result"
    }
   ],
   "source": [
    "root_dir = '/home/datawork-lops-osi/equinox/mit4320/parcels/'\n",
    "run_name = 'global_extra_T365j_dt1j_dij50'\n",
    "parcels_index = 'time_mean'\n",
    "\n",
    "# choose to select time indexed data for now\n",
    "p = pa.parcels_output(root_dir+run_name, parquets=[parcels_index])\n",
    "df = p[parcels_index]\n",
    "\n",
    "df.head()\n",
    "df"
   ]
  },
  {
   "cell_type": "code",
   "execution_count": 14,
   "id": "c18f8bfd",
   "metadata": {},
   "outputs": [],
   "source": [
    "import os\n",
    "out_dir = os.path.join(\"/home/datawork-lops-osi/equinox/mit4320/diags/\", \"regional_california\")\n",
    "#llc_zarr = os.path.(out_dir, \"llc.zarr\")"
   ]
  },
  {
   "cell_type": "code",
   "execution_count": 15,
   "id": "edd55a9c",
   "metadata": {},
   "outputs": [],
   "source": [
    "\n",
    "bbox = [-130, -118, 30, 40] # california\n",
    "#bbox = [-2, 8, 36, 45] # mediterranean sea\n",
    "#bbox = [120, 126, -20, -10] # North-west Australia\n",
    "\n",
    "parcels_name = \"llc_parcels_\"+parcels_index\n",
    "parcels_path = os.path.join(out_dir, parcels_name)"
   ]
  },
  {
   "cell_type": "code",
   "execution_count": 16,
   "id": "90476341",
   "metadata": {},
   "outputs": [],
   "source": [
    "# extract relevant trajectory indices\n",
    "_df = df[ (df.lon>=bbox[0])\n",
    "        &(df.lon<=bbox[1])\n",
    "        &(df.lat>=bbox[2])\n",
    "        &(df.lat<=bbox[3])\n",
    "       ]\n",
    "traj = _df.drop_duplicates(subset=[\"trajectory\"]).compute()[\"trajectory\"]\n",
    "df_selected = df[df.trajectory.isin(traj)]"
   ]
  },
  {
   "cell_type": "code",
   "execution_count": 17,
   "id": "100e9a94",
   "metadata": {},
   "outputs": [],
   "source": [
    "lon,lat = df_selected.lon.values.compute(),df_selected.lat.values.compute()"
   ]
  },
  {
   "cell_type": "code",
   "execution_count": 18,
   "id": "5b496210",
   "metadata": {},
   "outputs": [
    {
     "data": {
      "text/plain": [
       "<matplotlib.collections.PathCollection at 0x2aabc5bb8640>"
      ]
     },
     "execution_count": 18,
     "metadata": {},
     "output_type": "execute_result"
    },
    {
     "data": {
      "image/png": "[encoded data removed]",
      "text/plain": [
       "<Figure size 432x288 with 1 Axes>"
      ]
     },
     "metadata": {
      "needs_background": "light"
     },
     "output_type": "display_data"
    }
   ],
   "source": [
    "plt.scatter(lon,lat,s=4)\n"
   ]
  },
  {
   "cell_type": "code",
   "execution_count": null,
   "id": "27bc1a0b",
   "metadata": {},
   "outputs": [],
   "source": []
  },
  {
   "cell_type": "code",
   "execution_count": 20,
   "id": "3b2571d7",
   "metadata": {},
   "outputs": [
    {
     "name": "stderr",
     "output_type": "stream",
     "text": [
      "distributed.client - ERROR - Failed to reconnect to scheduler after 10.00 seconds, closing client\n",
      "_GatheringFuture exception was never retrieved\n",
      "future: <_GatheringFuture finished exception=CancelledError()>\n",
      "asyncio.exceptions.CancelledError\n"
     ]
    }
   ],
   "source": [
    "cluster.close()"
   ]
  },
  {
   "cell_type": "code",
   "execution_count": null,
   "id": "174fea4c",
   "metadata": {},
   "outputs": [],
   "source": []
  }
 ],
 "metadata": {
  "kernelspec": {
   "display_name": "Python 3 (ipykernel)",
   "language": "python",
   "name": "python3"
  },
  "language_info": {
   "codemirror_mode": {
    "name": "ipython",
    "version": 3
   },
   "file_extension": ".py",
   "mimetype": "text/x-python",
   "name": "python",
   "nbconvert_exporter": "python",
   "pygments_lexer": "ipython3",
   "version": "3.8.8"
  }
 },
 "nbformat": 4,
 "nbformat_minor": 5
}
