{
 "cells": [
  {
   "cell_type": "code",
   "execution_count": 1,
   "metadata": {},
   "outputs": [],
   "source": [
    "import os, sys\n",
    "from glob import glob\n",
    "import numpy as np\n",
    "import dask\n",
    "import xarray as xr\n",
    "import xgcm\n",
    "import cartopy.crs as ccrs\n",
    "from cmocean import cm\n",
    "\n",
    "from matplotlib import pyplot as plt\n",
    "%matplotlib inline\n",
    "\n",
    "from mitequinox.utils import *\n",
    "from mitequinox.sigp import *\n",
    "from mitequinox.plot import *\n",
    "from dask import compute, delayed"
   ]
  },
  {
   "cell_type": "code",
   "execution_count": 2,
   "metadata": {},
   "outputs": [],
   "source": [
    "from dask_jobqueue import PBSCluster\n",
    "# for heavy processing:\n",
    "cluster = PBSCluster(cores=6, processes=6,  walltime='03:00:00')\n",
    "#cluster = PBSCluster(cores=12, walltime='03:00:00')\n",
    "w = cluster.scale(6*12)"
   ]
  },
  {
   "cell_type": "code",
   "execution_count": 3,
   "metadata": {},
   "outputs": [],
   "source": [
    "# get dask handles and check dask server status\n",
    "from dask.distributed import Client\n",
    "client = Client(cluster)"
   ]
  },
  {
   "cell_type": "code",
   "execution_count": 4,
   "metadata": {},
   "outputs": [
    {
     "data": {
      "text/html": [
       "<table style=\"border: 2px solid white;\">\n",
       "<tr>\n",
       "<td style=\"vertical-align: top; border: 0px solid white\">\n",
       "<h3 style=\"text-align: left;\">Client</h3>\n",
       "<ul style=\"text-align: left; list-style: none; margin: 0; padding: 0;\">\n",
       "  <li><b>Scheduler: </b>tcp://10.135.36.243:33276</li>\n",
       "  <li><b>Dashboard: </b><a href='/user/yux/proxy/8787/status' target='_blank'>/user/yux/proxy/8787/status</a></li>\n",
       "</ul>\n",
       "</td>\n",
       "<td style=\"vertical-align: top; border: 0px solid white\">\n",
       "<h3 style=\"text-align: left;\">Cluster</h3>\n",
       "<ul style=\"text-align: left; list-style:none; margin: 0; padding: 0;\">\n",
       "  <li><b>Workers: </b>72</li>\n",
       "  <li><b>Cores: </b>72</li>\n",
       "  <li><b>Memory: </b>1.20 TB</li>\n",
       "</ul>\n",
       "</td>\n",
       "</tr>\n",
       "</table>"
      ],
      "text/plain": [
       "<Client: 'tcp://10.135.36.243:33276' processes=72 threads=72, memory=1.20 TB>"
      ]
     },
     "execution_count": 4,
     "metadata": {},
     "output_type": "execute_result"
    }
   ],
   "source": [
    "client"
   ]
  },
  {
   "cell_type": "markdown",
   "metadata": {},
   "source": [
    "______________\n",
    "# Four terms (Eta, SSU, Ug, Ua)\n",
    "## needs calculation"
   ]
  },
  {
   "cell_type": "code",
   "execution_count": 20,
   "metadata": {},
   "outputs": [
    {
     "data": {
      "text/plain": [
       "<xarray.Dataset>\n",
       "Dimensions:  (face: 13, i: 4320, i_g: 4320, j: 4320, j_g: 4320, k: 90, k_l: 90, k_p1: 91, k_u: 90, time: 240)\n",
       "Coordinates:\n",
       "    dtime    (time) datetime64[ns] dask.array<chunksize=(240,), meta=np.ndarray>\n",
       "  * face     (face) int64 0 1 2 3 4 5 6 7 8 9 10 11 12\n",
       "  * i        (i) int64 0 1 2 3 4 5 6 7 ... 4313 4314 4315 4316 4317 4318 4319\n",
       "    iters    (time) int64 dask.array<chunksize=(1,), meta=np.ndarray>\n",
       "  * j        (j) int64 0 1 2 3 4 5 6 7 ... 4313 4314 4315 4316 4317 4318 4319\n",
       "  * time     (time) datetime64[ns] 2011-11-23T08:00:00 ... 2011-12-03T07:00:00\n",
       "    CS       (face, j, i) float32 dask.array<chunksize=(1, 4320, 4320), meta=np.ndarray>\n",
       "    Depth    (face, j, i) float32 dask.array<chunksize=(1, 4320, 4320), meta=np.ndarray>\n",
       "    PHrefC   (k) float32 dask.array<chunksize=(90,), meta=np.ndarray>\n",
       "    PHrefF   (k_p1) float32 dask.array<chunksize=(91,), meta=np.ndarray>\n",
       "    SN       (face, j, i) float32 dask.array<chunksize=(1, 4320, 4320), meta=np.ndarray>\n",
       "    XC       (face, j, i) float32 dask.array<chunksize=(1, 4320, 4320), meta=np.ndarray>\n",
       "    XG       (face, j_g, i_g) float32 dask.array<chunksize=(1, 4320, 4320), meta=np.ndarray>\n",
       "    YC       (face, j, i) float32 dask.array<chunksize=(1, 4320, 4320), meta=np.ndarray>\n",
       "    YG       (face, j_g, i_g) float32 dask.array<chunksize=(1, 4320, 4320), meta=np.ndarray>\n",
       "    Z        (k) float32 dask.array<chunksize=(90,), meta=np.ndarray>\n",
       "    Zl       (k_l) float32 dask.array<chunksize=(90,), meta=np.ndarray>\n",
       "    Zp1      (k_p1) float32 dask.array<chunksize=(91,), meta=np.ndarray>\n",
       "    Zu       (k_u) float32 dask.array<chunksize=(90,), meta=np.ndarray>\n",
       "    drC      (k_p1) float32 dask.array<chunksize=(91,), meta=np.ndarray>\n",
       "    drF      (k) float32 dask.array<chunksize=(90,), meta=np.ndarray>\n",
       "    dxC      (face, j, i_g) float32 dask.array<chunksize=(1, 4320, 4320), meta=np.ndarray>\n",
       "    dxG      (face, j_g, i) float32 dask.array<chunksize=(1, 4320, 4320), meta=np.ndarray>\n",
       "    dyC      (face, j_g, i) float32 dask.array<chunksize=(1, 4320, 4320), meta=np.ndarray>\n",
       "    dyG      (face, j, i_g) float32 dask.array<chunksize=(1, 4320, 4320), meta=np.ndarray>\n",
       "  * i_g      (i_g) int64 0 1 2 3 4 5 6 7 ... 4313 4314 4315 4316 4317 4318 4319\n",
       "  * j_g      (j_g) int64 0 1 2 3 4 5 6 7 ... 4313 4314 4315 4316 4317 4318 4319\n",
       "  * k        (k) int64 0 1 2 3 4 5 6 7 8 9 10 ... 80 81 82 83 84 85 86 87 88 89\n",
       "  * k_l      (k_l) int64 0 1 2 3 4 5 6 7 8 9 ... 80 81 82 83 84 85 86 87 88 89\n",
       "  * k_p1     (k_p1) int64 0 1 2 3 4 5 6 7 8 9 ... 81 82 83 84 85 86 87 88 89 90\n",
       "  * k_u      (k_u) int64 0 1 2 3 4 5 6 7 8 9 ... 80 81 82 83 84 85 86 87 88 89\n",
       "    rAz      (face, j_g, i_g) float32 dask.array<chunksize=(2, 540, 540), meta=np.ndarray>\n",
       "Data variables:\n",
       "    Eta      (time, face, j, i) float32 dask.array<chunksize=(1, 1, 4320, 4320), meta=np.ndarray>\n",
       "    SSU      (time, face, j, i) float32 dask.array<chunksize=(1, 1, 4320, 4320), meta=np.ndarray>\n",
       "    SSV      (time, face, j, i) float32 dask.array<chunksize=(1, 1, 4320, 4320), meta=np.ndarray>"
      ]
     },
     "execution_count": 20,
     "metadata": {},
     "output_type": "execute_result"
    }
   ],
   "source": [
    "time_length = 240\n",
    "\n",
    "E_dir = '/work/ALT/swot/aval/syn/xy/momentum_balance/daily/'\n",
    "\n",
    "grd = load_grd().drop(['hFacC','hFacW','hFacS','rA','rAw','rAs'])\n",
    "dsE = xr.open_zarr(root_data_dir+'zarr/%s.zarr'%('Eta')).isel(time=slice(1512+200,1512+200+time_length))\n",
    "dsU = xr.open_zarr(root_data_dir+'zarr/%s.zarr'%('SSU')).rename({'i_g': 'i'}).isel(time=slice(200,200+time_length))\n",
    "dsV = xr.open_zarr(root_data_dir+'zarr/%s.zarr'%('SSV')).rename({'j_g': 'j'}).isel(time=slice(200,200+time_length))\n",
    "\n",
    "# define (real) time\n",
    "def iters_to_date(iters, delta_t=3600.):\n",
    "    t0 = datetime.datetime(2011,11,23,8)    \n",
    "    ltime = delta_t * (np.array(iters))\n",
    "    dtime = [t0+dateutil.relativedelta.relativedelta(seconds=t) for t in ltime]    \n",
    "    return dtime\n",
    "\n",
    "time_day = iters_to_date(np.arange(time_length))\n",
    "\n",
    "ds = xr.merge([dsE,dsU,dsV,grd])\n",
    "ds = ds.assign_coords(time=time_day) \n",
    "ds"
   ]
  },
  {
   "cell_type": "code",
   "execution_count": 22,
   "metadata": {},
   "outputs": [
    {
     "data": {
      "text/plain": [
       "<xgcm.Grid>\n",
       "Z Axis (not periodic):\n",
       "  * center   k --> left\n",
       "  * left     k_l --> center\n",
       "  * outer    k_p1 --> center\n",
       "  * right    k_u --> center\n",
       "Y Axis (not periodic):\n",
       "  * center   j --> left\n",
       "  * left     j_g --> center\n",
       "X Axis (not periodic):\n",
       "  * center   i --> left\n",
       "  * left     i_g --> center"
      ]
     },
     "execution_count": 22,
     "metadata": {},
     "output_type": "execute_result"
    }
   ],
   "source": [
    "grd = load_grd().reset_coords()\n",
    "mask = ((grd.hFacW.rename({'i_g': 'i'}) == 1) &\n",
    "        (grd.hFacS.rename({'j_g': 'j'}) == 1) \n",
    "       ).rename('mask').reset_coords(drop=True)\n",
    "grd_rspec = xr.merge([mask, grd.XC, grd.YC, grd.Depth])\n",
    "\n",
    "# coriolis term\n",
    "lat = grd_rspec['YC']\n",
    "omega = 7.3/100000\n",
    "f_ij = 2*omega*np.sin(np.deg2rad(lat))\n",
    "\n",
    "# define the connectivity between faces\n",
    "face_connections = {'face':\n",
    "                    {0: {'X':  ((12, 'Y', False), (3, 'X', False)),\n",
    "                         'Y':  (None,             (1, 'Y', False))},\n",
    "                     1: {'X':  ((11, 'Y', False), (4, 'X', False)),\n",
    "                         'Y':  ((0, 'Y', False),  (2, 'Y', False))},\n",
    "                     2: {'X':  ((10, 'Y', False), (5, 'X', False)),\n",
    "                         'Y':  ((1, 'Y', False),  (6, 'X', False))},\n",
    "                     3: {'X':  ((0, 'X', False),  (9, 'Y', False)),\n",
    "                         'Y':  (None,             (4, 'Y', False))},\n",
    "                     4: {'X':  ((1, 'X', False),  (8, 'Y', False)),\n",
    "                         'Y':  ((3, 'Y', False),  (5, 'Y', False))},\n",
    "                     5: {'X':  ((2, 'X', False),  (7, 'Y', False)),\n",
    "                         'Y':  ((4, 'Y', False),  (6, 'Y', False))},\n",
    "                     6: {'X':  ((2, 'Y', False),  (7, 'X', False)),\n",
    "                         'Y':  ((5, 'Y', False),  (10, 'X', False))},\n",
    "                     7: {'X':  ((6, 'X', False),  (8, 'X', False)),\n",
    "                         'Y':  ((5, 'X', False),  (10, 'Y', False))},\n",
    "                     8: {'X':  ((7, 'X', False),  (9, 'X', False)),\n",
    "                         'Y':  ((4, 'X', False),  (11, 'Y', False))},\n",
    "                     9: {'X':  ((8, 'X', False),  None),\n",
    "                         'Y':  ((3, 'X', False),  (12, 'Y', False))},\n",
    "                     10: {'X': ((6, 'Y', False),  (11, 'X', False)),\n",
    "                          'Y': ((7, 'Y', False),  (2, 'X', False))},\n",
    "                     11: {'X': ((10, 'X', False), (12, 'X', False)),\n",
    "                          'Y': ((8, 'Y', False),  (1, 'X', False))},\n",
    "                     12: {'X': ((11, 'X', False), None),\n",
    "                          'Y': ((9, 'Y', False),  (0, 'X', False))}}}\n",
    "\n",
    "# create the grid object\n",
    "gridx = xgcm.Grid(ds, periodic=False, face_connections=face_connections)\n",
    "gridx"
   ]
  },
  {
   "cell_type": "code",
   "execution_count": 23,
   "metadata": {},
   "outputs": [
    {
     "name": "stdout",
     "output_type": "stream",
     "text": [
      "<xarray.Dataset>\n",
      "Dimensions:  (face: 13, i: 1080, i_g: 4320, j: 1080, j_g: 4320, k: 90, k_l: 90, k_p1: 91, k_u: 90, time: 240)\n",
      "Coordinates:\n",
      "    dtime    (time) datetime64[ns] dask.array<chunksize=(240,), meta=np.ndarray>\n",
      "  * face     (face) int64 0 1 2 3 4 5 6 7 8 9 10 11 12\n",
      "  * i        (i) int64 0 4 8 12 16 20 24 ... 4292 4296 4300 4304 4308 4312 4316\n",
      "    iters    (time) int64 dask.array<chunksize=(1,), meta=np.ndarray>\n",
      "  * j        (j) int64 0 4 8 12 16 20 24 ... 4292 4296 4300 4304 4308 4312 4316\n",
      "  * time     (time) datetime64[ns] 2011-11-23T08:00:00 ... 2011-12-03T07:00:00\n",
      "    CS       (face, j, i) float32 dask.array<chunksize=(1, 1080, 1080), meta=np.ndarray>\n",
      "    Depth    (face, j, i) float32 dask.array<chunksize=(1, 1080, 1080), meta=np.ndarray>\n",
      "    PHrefC   (k) float32 dask.array<chunksize=(90,), meta=np.ndarray>\n",
      "    PHrefF   (k_p1) float32 dask.array<chunksize=(91,), meta=np.ndarray>\n",
      "    SN       (face, j, i) float32 dask.array<chunksize=(1, 1080, 1080), meta=np.ndarray>\n",
      "    XC       (face, j, i) float32 dask.array<chunksize=(1, 1080, 1080), meta=np.ndarray>\n",
      "    XG       (face, j_g, i_g) float32 dask.array<chunksize=(1, 4320, 4320), meta=np.ndarray>\n",
      "    YC       (face, j, i) float32 dask.array<chunksize=(1, 1080, 1080), meta=np.ndarray>\n",
      "    YG       (face, j_g, i_g) float32 dask.array<chunksize=(1, 4320, 4320), meta=np.ndarray>\n",
      "    Z        (k) float32 dask.array<chunksize=(90,), meta=np.ndarray>\n",
      "    Zl       (k_l) float32 dask.array<chunksize=(90,), meta=np.ndarray>\n",
      "    Zp1      (k_p1) float32 dask.array<chunksize=(91,), meta=np.ndarray>\n",
      "    Zu       (k_u) float32 dask.array<chunksize=(90,), meta=np.ndarray>\n",
      "    drC      (k_p1) float32 dask.array<chunksize=(91,), meta=np.ndarray>\n",
      "    drF      (k) float32 dask.array<chunksize=(90,), meta=np.ndarray>\n",
      "    dxC      (face, j, i_g) float32 dask.array<chunksize=(1, 1080, 4320), meta=np.ndarray>\n",
      "    dxG      (face, j_g, i) float32 dask.array<chunksize=(1, 4320, 1080), meta=np.ndarray>\n",
      "    dyC      (face, j_g, i) float32 dask.array<chunksize=(1, 4320, 1080), meta=np.ndarray>\n",
      "    dyG      (face, j, i_g) float32 dask.array<chunksize=(1, 1080, 4320), meta=np.ndarray>\n",
      "  * i_g      (i_g) int64 0 1 2 3 4 5 6 7 ... 4313 4314 4315 4316 4317 4318 4319\n",
      "  * j_g      (j_g) int64 0 1 2 3 4 5 6 7 ... 4313 4314 4315 4316 4317 4318 4319\n",
      "  * k        (k) int64 0 1 2 3 4 5 6 7 8 9 10 ... 80 81 82 83 84 85 86 87 88 89\n",
      "  * k_l      (k_l) int64 0 1 2 3 4 5 6 7 8 9 ... 80 81 82 83 84 85 86 87 88 89\n",
      "  * k_p1     (k_p1) int64 0 1 2 3 4 5 6 7 8 9 ... 81 82 83 84 85 86 87 88 89 90\n",
      "  * k_u      (k_u) int64 0 1 2 3 4 5 6 7 8 9 ... 80 81 82 83 84 85 86 87 88 89\n",
      "    rAz      (face, j_g, i_g) float32 dask.array<chunksize=(2, 540, 540), meta=np.ndarray>\n",
      "Data variables:\n",
      "    Eta      (time, face, j, i) float32 dask.array<chunksize=(1, 1, 1080, 1080), meta=np.ndarray>\n",
      "    SSU      (time, face, j, i) float32 dask.array<chunksize=(1, 1, 1080, 1080), meta=np.ndarray>\n",
      "    SSV      (time, face, j, i) float32 dask.array<chunksize=(1, 1, 1080, 1080), meta=np.ndarray>\n",
      "    ug       (time, face, j, i) float32 dask.array<chunksize=(1, 1, 1080, 1080), meta=np.ndarray>\n",
      "    vg       (time, face, j, i) float32 dask.array<chunksize=(1, 1, 1080, 1080), meta=np.ndarray>\n",
      "CPU times: user 2min 19s, sys: 12.4 s, total: 2min 32s\n",
      "Wall time: 2min 51s\n"
     ]
    },
    {
     "data": {
      "text/plain": [
       "<xarray.backends.zarr.ZarrStore at 0x2b3465934888>"
      ]
     },
     "execution_count": 23,
     "metadata": {},
     "output_type": "execute_result"
    }
   ],
   "source": [
    "# u_g\n",
    "ug = -9.8*(gridx.diff( ds.Eta,'Y', boundary='fill')/ds.dyC).rename({'j_g': 'j'})/f_ij\n",
    "ug = ug.chunk({'face': 1,'i':4320,'j':4320})\n",
    "\n",
    "vg = 9.8*(gridx.diff( ds.Eta,'X', boundary='fill')/ds.dxC).rename({'i_g': 'i'})/f_ij\n",
    "vg = vg.chunk({'face': 1,'i':4320,'j':4320})\n",
    "\n",
    "ds['ug'] = ug\n",
    "ds['vg'] = vg\n",
    "ds_1080 = ds.isel(i=slice(0,None,dij), j=slice(0,None,dij))\n",
    "print(ds_1080)\n",
    "Efile = work_data_dir+'xy/comparison/Movies/uveta_1080_snapshot.zarr'\n",
    "%time ds_1080.to_zarr(Efile, mode='w')"
   ]
  },
  {
   "cell_type": "markdown",
   "metadata": {},
   "source": [
    "# Read data"
   ]
  },
  {
   "cell_type": "code",
   "execution_count": 5,
   "metadata": {},
   "outputs": [],
   "source": [
    "time_length = 240\n",
    "dij = 4\n",
    "grd = load_grd().reset_coords().isel(i=slice(0,None,dij), j=slice(0,None,dij))\n",
    "mask = ((grd.hFacW.rename({'i_g': 'i'}) == 1) &\n",
    "        (grd.hFacS.rename({'j_g': 'j'}) == 1) \n",
    "       ).rename('mask').reset_coords(drop=True)\n",
    "grd_rspec = xr.merge([grd.XC, grd.YC, grd.Depth, grd.CS, grd.SN])\n",
    "\n",
    "# define (real) time\n",
    "def iters_to_date(iters, delta_t=3600.):\n",
    "    t0 = datetime.datetime(2011,11,23,8)    \n",
    "    ltime = delta_t * (np.array(iters))\n",
    "    dtime = [t0+dateutil.relativedelta.relativedelta(seconds=t) for t in ltime]    \n",
    "    return dtime\n",
    "\n",
    "time_day = iters_to_date(np.arange(time_length))\n",
    "ds = xr.open_zarr(work_data_dir+'xy/comparison/Movies/uveta_snapshot.zarr')\n",
    "ds = ds.assign_coords(time=time_day) \n",
    "print(ds)\n",
    "ds = ds.drop_dims(['i_g','j_g','k','k_l','k_p1','k_u'])\n",
    "print('\\n data size: %.1f GB' %(ds.nbytes / 1e9))"
   ]
  },
  {
   "cell_type": "code",
   "execution_count": 52,
   "metadata": {},
   "outputs": [
    {
     "name": "stdout",
     "output_type": "stream",
     "text": [
      "CPU times: user 6.55 s, sys: 331 ms, total: 6.88 s\n",
      "Wall time: 6.81 s\n",
      "--- face 0 done\n",
      "CPU times: user 5.95 s, sys: 483 ms, total: 6.43 s\n",
      "Wall time: 7.24 s\n",
      "--- face 1 done\n",
      "CPU times: user 5.68 s, sys: 374 ms, total: 6.05 s\n",
      "Wall time: 6.11 s\n",
      "--- face 2 done\n",
      "CPU times: user 6.05 s, sys: 338 ms, total: 6.39 s\n",
      "Wall time: 6.52 s\n",
      "--- face 3 done\n",
      "CPU times: user 5.92 s, sys: 382 ms, total: 6.3 s\n",
      "Wall time: 6.41 s\n",
      "--- face 4 done\n",
      "CPU times: user 5.99 s, sys: 351 ms, total: 6.34 s\n",
      "Wall time: 6.33 s\n",
      "--- face 5 done\n",
      "CPU times: user 5.83 s, sys: 387 ms, total: 6.21 s\n",
      "Wall time: 6.33 s\n",
      "--- face 6 done\n",
      "CPU times: user 5.48 s, sys: 368 ms, total: 5.85 s\n",
      "Wall time: 6.04 s\n",
      "--- face 7 done\n",
      "CPU times: user 6.61 s, sys: 337 ms, total: 6.94 s\n",
      "Wall time: 6.94 s\n",
      "--- face 8 done\n",
      "CPU times: user 6.36 s, sys: 349 ms, total: 6.71 s\n",
      "Wall time: 6.73 s\n",
      "--- face 9 done\n",
      "CPU times: user 6.72 s, sys: 366 ms, total: 7.09 s\n",
      "Wall time: 7.11 s\n",
      "--- face 10 done\n",
      "CPU times: user 6.75 s, sys: 419 ms, total: 7.17 s\n",
      "Wall time: 7.26 s\n",
      "--- face 11 done\n",
      "CPU times: user 5.99 s, sys: 356 ms, total: 6.34 s\n",
      "Wall time: 6.33 s\n",
      "--- face 12 done\n"
     ]
    }
   ],
   "source": [
    "# no need to store Eta first\n",
    "\n",
    "dij=4\n",
    "time_length = 240\n",
    "overwrite=True\n",
    "    \n",
    "for face in range(13):\n",
    "#for face in [1]:\n",
    "\n",
    "    Efile = work_data_dir+'xy/comparison/Movies/Eta_U_Ug_Ua_f%02d.zarr'%(face)\n",
    "\n",
    "    if not os.path.isdir(Efile) or overwrite:\n",
    "        \n",
    "        Eta = ds.Eta.isel(face=face)\n",
    "        u_rotate = ds.SSU.isel(face=face)*grd_rspec.CS.isel(face=face) - ds.SSV.isel(face=face)*grd_rspec.SN.isel(face=face)\n",
    "        ug_rotate = ds.ug.isel(face=face)*grd_rspec.CS.isel(face=face) - ds.vg.isel(face=face)*grd_rspec.SN.isel(face=face)\n",
    "        ua_rotate = u_rotate - ug_rotate\n",
    "        \n",
    "        Eta = np.real(Eta).rename('Eta')\n",
    "        u_rotate = np.real(u_rotate).rename('u_rotate')\n",
    "        ug_rotate = np.real(ug_rotate).rename('ug_rotate')\n",
    "        ua_rotate = np.real(ua_rotate).rename('ua_rotate')\n",
    "        \n",
    "        ds_rotate = xr.merge([Eta, u_rotate, ug_rotate, ua_rotate])\n",
    "        #print(ds_rotate)       \n",
    "        %time ds_rotate.to_zarr(Efile, mode='w')\n",
    "\n",
    "        print('--- face %d done'%face)\n",
    "\n",
    "    else:\n",
    "        print('--- face %d allready computed'%face)"
   ]
  },
  {
   "cell_type": "markdown",
   "metadata": {},
   "source": [
    "# Read final data"
   ]
  },
  {
   "cell_type": "code",
   "execution_count": 5,
   "metadata": {},
   "outputs": [
    {
     "name": "stdout",
     "output_type": "stream",
     "text": [
      "<xarray.Dataset>\n",
      "Dimensions:    (face: 13, i: 1080, j: 1080, time: 240)\n",
      "Coordinates:\n",
      "    CS         (face, j, i) float32 dask.array<chunksize=(1, 270, 540), meta=np.ndarray>\n",
      "    Depth      (face, j, i) float32 dask.array<chunksize=(1, 270, 540), meta=np.ndarray>\n",
      "    SN         (face, j, i) float32 dask.array<chunksize=(1, 270, 540), meta=np.ndarray>\n",
      "    XC         (face, j, i) float32 dask.array<chunksize=(1, 270, 540), meta=np.ndarray>\n",
      "    YC         (face, j, i) float32 dask.array<chunksize=(1, 270, 540), meta=np.ndarray>\n",
      "    dtime      (time) datetime64[ns] 2011-11-23T08:00:00 ... 2011-12-03T07:00:00\n",
      "  * face       (face) int64 0 1 2 3 4 5 6 7 8 9 10 11 12\n",
      "  * i          (i) int64 0 4 8 12 16 20 24 ... 4296 4300 4304 4308 4312 4316\n",
      "    iters      (time) int64 256896 257040 257184 257328 ... 291024 291168 291312\n",
      "  * j          (j) int64 0 4 8 12 16 20 24 ... 4296 4300 4304 4308 4312 4316\n",
      "  * time       (time) datetime64[ns] 2011-11-23T08:00:00 ... 2011-12-03T07:00:00\n",
      "Data variables:\n",
      "    Eta        (face, time, j, i) float32 dask.array<chunksize=(1, 1, 1080, 1080), meta=np.ndarray>\n",
      "    u_rotate   (face, time, j, i) float32 dask.array<chunksize=(1, 1, 1080, 1080), meta=np.ndarray>\n",
      "    ua_rotate  (face, time, j, i) float32 dask.array<chunksize=(1, 1, 1080, 1080), meta=np.ndarray>\n",
      "    ug_rotate  (face, time, j, i) float32 dask.array<chunksize=(1, 1, 1080, 1080), meta=np.ndarray>\n",
      "\n",
      " data size: 58.5 GB\n"
     ]
    }
   ],
   "source": [
    "time_length = 240\n",
    "dij = 4\n",
    "grd = load_grd().reset_coords().isel(i=slice(0,None,dij), j=slice(0,None,dij))\n",
    "mask = ((grd.hFacW.rename({'i_g': 'i'}) == 1) &\n",
    "        (grd.hFacS.rename({'j_g': 'j'}) == 1) \n",
    "       ).rename('mask').reset_coords(drop=True)\n",
    "grd_rspec = xr.merge([grd.XC, grd.YC, grd.Depth, grd.CS, grd.SN])\n",
    "\n",
    "ds_ice = xr.open_zarr(work_data_dir+'xy/sea_ice_mask.zarr')\n",
    "ice = ds_ice.AREA.isel(i=slice(0,None,dij), j=slice(0,None,dij))\n",
    "\n",
    "# define (real) time\n",
    "def iters_to_date(iters, delta_t=3600.):\n",
    "    t0 = datetime.datetime(2011,11,23,8)    \n",
    "    ltime = delta_t * (np.array(iters))\n",
    "    dtime = [t0+dateutil.relativedelta.relativedelta(seconds=t) for t in ltime]    \n",
    "    return dtime\n",
    "\n",
    "time_day = iters_to_date(np.arange(time_length))\n",
    "\n",
    "face_all = [0, 1, 2, 3, 4, 5, 6, 7, 8, 9, 10, 11, 12]\n",
    "D = [xr.open_zarr(work_data_dir+'xy/comparison/Movies/Eta_U_Ug_Ua_f%02d.zarr'%(face)) for face in face_all] \n",
    "ds = xr.concat(D, dim='face')\n",
    "print(ds)\n",
    "print('\\n data size: %.1f GB' %(ds.nbytes / 1e9))"
   ]
  },
  {
   "cell_type": "code",
   "execution_count": 6,
   "metadata": {},
   "outputs": [],
   "source": [
    "import cartopy.feature as cfeature\n",
    "font_size = 22\n",
    "\n",
    "def plot_pretty_4(v1, v2, v3, v4, colorbar=False, title=None, label=None, vmin=None, vmax=None, savefig=None, \n",
    "                  offline=False, figsize=(20,12), cmmap='thermal', ignore_face=[], coast_resolution='110m'):\n",
    "    \n",
    "    if vmin is None:\n",
    "        vmin = v.min()\n",
    "    if vmax is None:\n",
    "        vmax = v.max()\n",
    "    #\n",
    "    MPL_LOCK = threading.Lock()\n",
    "    with MPL_LOCK:\n",
    "        if offline:\n",
    "            plt.switch_backend('agg')\n",
    "        #\n",
    "        fig = plt.figure(figsize=figsize)\n",
    "        cmap = getattr(cm, cmmap)\n",
    "        \n",
    "        # 1\n",
    "        ax = fig.add_subplot(411, projection=ccrs.PlateCarree(central_longitude=0))\n",
    "        gen = [0,1,2,3,4,5,7,8,9,10,11,12]\n",
    "        for face in gen:\n",
    "            vplt = v1.sel(face=face)\n",
    "            if face in [6,7,8,9]:\n",
    "                # this deals with dateline crossing areas\n",
    "                im = vplt.where( (vplt.XC<=179.9) & (vplt.XC>=0.)).plot.pcolormesh(ax=ax,                   \n",
    "                                transform=ccrs.PlateCarree(), vmin=vmin, vmax=vmax,\n",
    "                                x='XC', y='YC', add_colorbar=colorbar, cmap=cmap)\n",
    "                im = vplt.where( (vplt.XC>-179.9) & (vplt.XC<=0) ).plot.pcolormesh(ax=ax,                   \n",
    "                                transform=ccrs.PlateCarree(), vmin=vmin, vmax=vmax,\n",
    "                                x='XC', y='YC', add_colorbar=colorbar, cmap=cmap)\n",
    "            else:\n",
    "                im = vplt.plot.pcolormesh(ax=ax,                   \n",
    "                                transform=ccrs.PlateCarree(), vmin=vmin, vmax=vmax,\n",
    "                                x='XC', y='YC', add_colorbar=colorbar, cmap=cmap)        \n",
    "        cb = plt.colorbar(im, ax=ax, ticks=[-4, -3, -2, -1, 0, 1, 2, 3, 4])\n",
    "        cb.set_label(label=label[0], fontsize=font_size)            \n",
    "        cb.ax.tick_params(labelsize=font_size)\n",
    "        ax.set_title(title[0],fontsize=font_size) \n",
    "        ax.set_xticks([-180, -135, -90, -45, 0, 45,  90, 135, 180])\n",
    "        ax.set_xticklabels(['$180\\degree$W','$135\\degree$W','$90\\degree$W','$45\\degree$W','$0\\degree$','$45\\degree$E','$90\\degree$E','$135\\degree$E','$180\\degree$E'])\n",
    "        ax.set_ylim(-70., 70.)\n",
    "        ax.set_yticks([-70, -60, -50, -40, -30, -20, -10, 0, 10, 20, 30, 40, 50, 60, 70])\n",
    "        ax.set_yticklabels(['','$60\\degree$S','','$40\\degree$S','','$20\\degree$S','','$0\\degree$','','$20\\degree$N','','$40\\degree$N','','$60\\degree$N',''])\n",
    "        ax.tick_params(direction='out', length=6, width=2)\n",
    "        ax.set_ylabel('',fontsize=font_size)\n",
    "        ax.set_xlabel('',fontsize=font_size)\n",
    "        ax.tick_params(labelsize=font_size)\n",
    "        if coast_resolution is not None:\n",
    "            ax.coastlines(resolution=coast_resolution, color='k')\n",
    "        ax.add_feature(cfeature.LAND)    \n",
    "        \n",
    "        # 2\n",
    "        ax = fig.add_subplot(412, projection=ccrs.PlateCarree(central_longitude=0))\n",
    "        gen = [0,1,2,3,4,5,7,8,9,10,11,12]\n",
    "        for face in gen:\n",
    "            vplt = v2.sel(face=face)\n",
    "            if face in [6,7,8,9]:\n",
    "                # this deals with dateline crossing areas\n",
    "                im = vplt.where( (vplt.XC<=179.9) & (vplt.XC>=0.)).plot.pcolormesh(ax=ax,                   \n",
    "                                transform=ccrs.PlateCarree(), vmin=-2, vmax=2,\n",
    "                                x='XC', y='YC', add_colorbar=colorbar, cmap=cmap)\n",
    "                im = vplt.where( (vplt.XC>-179.9) & (vplt.XC<=0) ).plot.pcolormesh(ax=ax,                   \n",
    "                                transform=ccrs.PlateCarree(), vmin=-2, vmax=2,\n",
    "                                x='XC', y='YC', add_colorbar=colorbar, cmap=cmap)\n",
    "            else:\n",
    "                im = vplt.plot.pcolormesh(ax=ax,                   \n",
    "                                transform=ccrs.PlateCarree(), vmin=-2, vmax=2,\n",
    "                                x='XC', y='YC', add_colorbar=colorbar, cmap=cmap)      \n",
    "        cb = plt.colorbar(im, ax=ax, ticks=[-2, -1, 0, 1, 2])\n",
    "        cb.set_label(label=label[1], fontsize=font_size)            \n",
    "        cb.ax.tick_params(labelsize=font_size)\n",
    "        ax.set_title(title[2],fontsize=font_size) \n",
    "        ax.set_xticks([-180, -135, -90, -45, 0, 45,  90, 135, 180])\n",
    "        ax.set_xticklabels(['$180\\degree$W','$135\\degree$W','$90\\degree$W','$45\\degree$W','$0\\degree$','$45\\degree$E','$90\\degree$E','$135\\degree$E','$180\\degree$E'])\n",
    "        ax.set_ylim(-70., 70.)\n",
    "        ax.set_yticks([-70, -60, -50, -40, -30, -20, -10, 0, 10, 20, 30, 40, 50, 60, 70])\n",
    "        ax.set_yticklabels(['','$60\\degree$S','','$40\\degree$S','','$20\\degree$S','','$0\\degree$','','$20\\degree$N','','$40\\degree$N','','$60\\degree$N',''])\n",
    "        ax.tick_params(direction='out', length=6, width=2)\n",
    "        ax.set_ylabel('',fontsize=font_size)\n",
    "        ax.set_xlabel('',fontsize=font_size)\n",
    "        ax.tick_params(labelsize=font_size)        \n",
    "        if coast_resolution is not None:\n",
    "            ax.coastlines(resolution=coast_resolution, color='k')\n",
    "        ax.add_feature(cfeature.LAND)    \n",
    "        \n",
    "        # 3\n",
    "        ax = fig.add_subplot(413, projection=ccrs.PlateCarree(central_longitude=0))\n",
    "        gen = [0,1,2,3,4,5,7,8,9,10,11,12]\n",
    "        for face in gen:\n",
    "            vplt = v3.sel(face=face)\n",
    "            if face in [6,7,8,9]:\n",
    "                # this deals with dateline crossing areas\n",
    "                im = vplt.where( (vplt.XC<=179.9) & (vplt.XC>=0.)).plot.pcolormesh(ax=ax,                   \n",
    "                                transform=ccrs.PlateCarree(), vmin=-2, vmax=2,\n",
    "                                x='XC', y='YC', add_colorbar=colorbar, cmap=cmap)\n",
    "                im = vplt.where( (vplt.XC>-179.9) & (vplt.XC<=0) ).plot.pcolormesh(ax=ax,                   \n",
    "                                transform=ccrs.PlateCarree(), vmin=-2, vmax=2,\n",
    "                                x='XC', y='YC', add_colorbar=colorbar, cmap=cmap)\n",
    "            else:\n",
    "                im = vplt.plot.pcolormesh(ax=ax,                   \n",
    "                                transform=ccrs.PlateCarree(), vmin=-2, vmax=2,\n",
    "                                x='XC', y='YC', add_colorbar=colorbar, cmap=cmap)      \n",
    "        cb = plt.colorbar(im, ax=ax, ticks=[-2, -1, 0, 1, 2])\n",
    "        cb.set_label(label=label[2], fontsize=font_size)            \n",
    "        cb.ax.tick_params(labelsize=font_size)\n",
    "        ax.set_title(title[2],fontsize=font_size) \n",
    "        ax.set_xticks([-180, -135, -90, -45, 0, 45,  90, 135, 180])\n",
    "        ax.set_xticklabels(['$180\\degree$W','$135\\degree$W','$90\\degree$W','$45\\degree$W','$0\\degree$','$45\\degree$E','$90\\degree$E','$135\\degree$E','$180\\degree$E'])\n",
    "        ax.set_ylim(-70., 70.)\n",
    "        ax.set_yticks([-70, -60, -50, -40, -30, -20, -10, 0, 10, 20, 30, 40, 50, 60, 70])\n",
    "        ax.set_yticklabels(['','$60\\degree$S','','$40\\degree$S','','$20\\degree$S','','$0\\degree$','','$20\\degree$N','','$40\\degree$N','','$60\\degree$N',''])\n",
    "        ax.tick_params(direction='out', length=6, width=2)\n",
    "        ax.set_ylabel('',fontsize=font_size)\n",
    "        ax.set_xlabel('',fontsize=font_size)\n",
    "        ax.tick_params(labelsize=font_size)                \n",
    "        if coast_resolution is not None:\n",
    "            ax.coastlines(resolution=coast_resolution, color='k')\n",
    "        ax.add_feature(cfeature.LAND)   \n",
    "        \n",
    "        # 4\n",
    "        ax = fig.add_subplot(414, projection=ccrs.PlateCarree(central_longitude=0))\n",
    "        gen = [0,1,2,3,4,5,7,8,9,10,11,12]\n",
    "        for face in gen:\n",
    "            vplt = v4.sel(face=face)\n",
    "            if face in [6,7,8,9]:\n",
    "                # this deals with dateline crossing areas\n",
    "                im = vplt.where( (vplt.XC<=179.9) & (vplt.XC>=0.)).plot.pcolormesh(ax=ax,                   \n",
    "                                transform=ccrs.PlateCarree(), vmin=-2, vmax=2,\n",
    "                                x='XC', y='YC', add_colorbar=colorbar, cmap=cmap)\n",
    "                im = vplt.where( (vplt.XC>-179.9) & (vplt.XC<=0) ).plot.pcolormesh(ax=ax,                   \n",
    "                                transform=ccrs.PlateCarree(), vmin=-2, vmax=2,\n",
    "                                x='XC', y='YC', add_colorbar=colorbar, cmap=cmap)\n",
    "            else:\n",
    "                im = vplt.plot.pcolormesh(ax=ax,                   \n",
    "                                transform=ccrs.PlateCarree(), vmin=-2, vmax=2,\n",
    "                                x='XC', y='YC', add_colorbar=colorbar, cmap=cmap)       \n",
    "        cb = plt.colorbar(im, ax=ax, ticks=[-2, -1, 0, 1, 2])\n",
    "        cb.set_label(label=label[3], fontsize=font_size)            \n",
    "        cb.ax.tick_params(labelsize=font_size)\n",
    "        ax.set_title(title[3],fontsize=font_size) \n",
    "        ax.set_xticks([-180, -135, -90, -45, 0, 45,  90, 135, 180])\n",
    "        ax.set_xticklabels(['$180\\degree$W','$135\\degree$W','$90\\degree$W','$45\\degree$W','$0\\degree$','$45\\degree$E','$90\\degree$E','$135\\degree$E','$180\\degree$E'])\n",
    "        ax.set_ylim(-70., 70.)\n",
    "        ax.set_yticks([-70, -60, -50, -40, -30, -20, -10, 0, 10, 20, 30, 40, 50, 60, 70])\n",
    "        ax.set_yticklabels(['','$60\\degree$S','','$40\\degree$S','','$20\\degree$S','','$0\\degree$','','$20\\degree$N','','$40\\degree$N','','$60\\degree$N',''])\n",
    "        ax.tick_params(direction='out', length=6, width=2)\n",
    "        ax.set_ylabel('',fontsize=font_size)\n",
    "        ax.set_xlabel('',fontsize=font_size)\n",
    "        ax.tick_params(labelsize=font_size)     \n",
    "        if coast_resolution is not None:\n",
    "            ax.coastlines(resolution=coast_resolution, color='k')\n",
    "        ax.add_feature(cfeature.LAND)  \n",
    "        \n",
    "        #if title is not None:\n",
    "        #    ax.set_title(title, size=font_size)\n",
    "        #if label is not None:\n",
    "        #    cb.set_label(label=label, size=font_size)     #\n",
    "            \n",
    "        if savefig is not None:\n",
    "            fig.savefig(savefig, dpi=150)\n",
    "            plt.close(fig)\n",
    "        #\n",
    "        if not offline:\n",
    "            plt.show()\n",
    "            "
   ]
  },
  {
   "cell_type": "code",
   "execution_count": 9,
   "metadata": {},
   "outputs": [
    {
     "name": "stdout",
     "output_type": "stream",
     "text": [
      "range(0, 240)\n"
     ]
    }
   ],
   "source": [
    "vmin, vmax = -4, 4\n",
    "lds = ds\n",
    "\n",
    "def genfig(ds, i, overwrite=True):\n",
    "    \n",
    "    # !! passing the variable does not work\n",
    "    eta = ds.Eta.where(ice>0)\n",
    "    u = ds.u_rotate.where(ice>0)\n",
    "    ug = ds.ug_rotate.where(ice>0)\n",
    "    ua = ds.ua_rotate.where(ice>0)\n",
    "    \n",
    "    mtime = time_day[i]\n",
    "    figname = '/home/uz/yux/mit_equinox_backup/hal/Geostrophy_assessment/Figures/Global_Eta_U_Ug_Ua/Eta_U_Ug_Ua_t%05d'%(i)+'.png'\n",
    "    #\n",
    "    if not os.path.isfile(figname) or overwrite:\n",
    "        \n",
    "    \n",
    "        title = ['%s'%mtime, '', '', '']\n",
    "        label = ['$\\eta$ (m)', 'u (m/s)', '$u_g$ (m/s)', '$u_a$ (m/s)']\n",
    "        \n",
    "        plot_pretty_4(eta, u, ug, ua,  vmin=vmin, vmax=vmax, cmmap='balance', title=title, label=label, savefig=figname, figsize=(20,24), ignore_face=[6])\n",
    "\n",
    "        #m = 1.\n",
    "        m = float(eta.mean().values)\n",
    "    else:\n",
    "        m = -1.\n",
    "    return m\n",
    "\n",
    "I = range(len(ds['time']))\n",
    "#I = range(24)\n",
    "print(I)\n",
    "values = [delayed(genfig)(lds.isel(time=i), i) for i in I]"
   ]
  },
  {
   "cell_type": "markdown",
   "metadata": {},
   "source": [
    "Process all times"
   ]
  },
  {
   "cell_type": "code",
   "execution_count": 10,
   "metadata": {},
   "outputs": [
    {
     "name": "stderr",
     "output_type": "stream",
     "text": [
      "distributed.scheduler - ERROR - Couldn't gather keys {'genfig-11a6b5c8-f1e6-45c7-8ea3-8f73a4f4afc7': [], 'genfig-6da8609a-d36b-4989-9a70-105aa6e98087': []} state: ['memory', 'processing'] workers: []\n",
      "NoneType: None\n",
      "distributed.scheduler - ERROR - Workers don't have promised key: [], genfig-11a6b5c8-f1e6-45c7-8ea3-8f73a4f4afc7\n",
      "NoneType: None\n",
      "distributed.scheduler - ERROR - Workers don't have promised key: [], genfig-6da8609a-d36b-4989-9a70-105aa6e98087\n",
      "NoneType: None\n"
     ]
    },
    {
     "name": "stdout",
     "output_type": "stream",
     "text": [
      "CPU times: user 30min 59s, sys: 1h 1min 18s, total: 1h 32min 17s\n",
      "Wall time: 2h 3min 56s\n"
     ]
    }
   ],
   "source": [
    "# 2 hours for 10 days\n",
    "futures = client.compute(values)\n",
    "%time results = client.gather(futures)"
   ]
  },
  {
   "cell_type": "code",
   "execution_count": null,
   "metadata": {},
   "outputs": [],
   "source": []
  },
  {
   "cell_type": "code",
   "execution_count": null,
   "metadata": {},
   "outputs": [],
   "source": []
  },
  {
   "cell_type": "code",
   "execution_count": null,
   "metadata": {},
   "outputs": [],
   "source": []
  },
  {
   "cell_type": "code",
   "execution_count": null,
   "metadata": {},
   "outputs": [],
   "source": []
  },
  {
   "cell_type": "code",
   "execution_count": null,
   "metadata": {},
   "outputs": [],
   "source": []
  },
  {
   "cell_type": "code",
   "execution_count": null,
   "metadata": {},
   "outputs": [],
   "source": []
  },
  {
   "cell_type": "code",
   "execution_count": null,
   "metadata": {},
   "outputs": [],
   "source": []
  },
  {
   "cell_type": "code",
   "execution_count": 11,
   "metadata": {
    "scrolled": true
   },
   "outputs": [
    {
     "name": "stderr",
     "output_type": "stream",
     "text": [
      "distributed.client - ERROR - Failed to reconnect to scheduler after 10.00 seconds, closing client\n",
      "_GatheringFuture exception was never retrieved\n",
      "future: <_GatheringFuture finished exception=CancelledError()>\n",
      "asyncio.exceptions.CancelledError\n"
     ]
    }
   ],
   "source": [
    "cluster.close()"
   ]
  },
  {
   "cell_type": "code",
   "execution_count": null,
   "metadata": {},
   "outputs": [],
   "source": []
  },
  {
   "cell_type": "code",
   "execution_count": null,
   "metadata": {},
   "outputs": [],
   "source": []
  },
  {
   "cell_type": "code",
   "execution_count": null,
   "metadata": {},
   "outputs": [],
   "source": []
  },
  {
   "cell_type": "code",
   "execution_count": null,
   "metadata": {},
   "outputs": [],
   "source": []
  },
  {
   "cell_type": "code",
   "execution_count": null,
   "metadata": {},
   "outputs": [],
   "source": []
  },
  {
   "cell_type": "code",
   "execution_count": null,
   "metadata": {},
   "outputs": [],
   "source": []
  },
  {
   "cell_type": "code",
   "execution_count": null,
   "metadata": {},
   "outputs": [],
   "source": []
  },
  {
   "cell_type": "code",
   "execution_count": null,
   "metadata": {},
   "outputs": [],
   "source": []
  }
 ],
 "metadata": {
  "kernelspec": {
   "display_name": "equinox",
   "language": "python",
   "name": "equinox"
  },
  "language_info": {
   "codemirror_mode": {
    "name": "ipython",
    "version": 3
   },
   "file_extension": ".py",
   "mimetype": "text/x-python",
   "name": "python",
   "nbconvert_exporter": "python",
   "pygments_lexer": "ipython3",
   "version": "3.8.6"
  }
 },
 "nbformat": 4,
 "nbformat_minor": 4
}
